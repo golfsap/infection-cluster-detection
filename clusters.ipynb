{
 "cells": [
  {
   "cell_type": "code",
   "execution_count": 1,
   "metadata": {},
   "outputs": [],
   "source": [
    "import pandas as pd\n",
    "import networkx as nx\n",
    "from datetime import timedelta\n",
    "from typing import Tuple"
   ]
  },
  {
   "cell_type": "code",
   "execution_count": 2,
   "metadata": {
    "tags": []
   },
   "outputs": [],
   "source": [
    "WINDOW_DAYS = 14 # ±14 days window relative to positive test date\n",
    "DATE_FMT = \"%Y-%m-%d\""
   ]
  },
  {
   "cell_type": "code",
   "execution_count": 5,
   "metadata": {
    "tags": []
   },
   "outputs": [],
   "source": [
    "def _read_csv(transfers_path: str, microbiology_path: str) -> Tuple[pd.DataFrame, pd.DataFrame]:\n",
    "    tf = pd.read_csv(transfers_path, dtype=str)\n",
    "    mc = pd.read_csv(microbiology_path, dtype=str)\n",
    "\n",
    "    # Parse dates\n",
    "    tf['ward_in_time'] = pd.to_datetime(tf['ward_in_time']).dt.normalize()\n",
    "    tf['ward_out_time'] = pd.to_datetime(tf['ward_out_time']).dt.normalize()\n",
    "    mc['collection_date'] = pd.to_datetime(mc['collection_date']).dt.normalize()\n",
    "\n",
    "    # Basic cleaning\n",
    "    tf = tf.dropna(subset=['patient_id', 'location', 'ward_in_time', 'ward_out_time'])\n",
    "    mc = mc.dropna(subset=['patient_id', 'infection', 'result', 'collection_date'])\n",
    "\n",
    "    return tf, mc"
   ]
  },
  {
   "cell_type": "code",
   "execution_count": 4,
   "metadata": {
    "tags": []
   },
   "outputs": [],
   "source": [
    "tf, mc = _read_csv(\"sample_data/transfers.csv\", \"sample_data/microbiology.csv\")"
   ]
  },
  {
   "cell_type": "code",
   "execution_count": 6,
   "metadata": {
    "tags": []
   },
   "outputs": [],
   "source": [
    "def _compute_positive_index(mc: pd.DataFrame) -> pd.DataFrame:\n",
    "    # Finds first positive date per (patient_id, infection)\n",
    "    positives = mc[mc['result'].str.lower() == 'positive'].copy()\n",
    "    if positives.empty:\n",
    "        return positives\n",
    "    earliest = (\n",
    "        positives.sort_values('collection_date')\n",
    "        .groupby(['patient_id', 'infection'], as_index=False)\n",
    "        .first()\n",
    "    )\n",
    "    earliest.rename(columns={'collection_date': 'positive_date'}, inplace=True)\n",
    "    earliest['win_start'] = earliest['positive_date'] - pd.Timedelta(days=WINDOW_DAYS)\n",
    "    earliest['win_end'] = earliest['positive_date'] + pd.Timedelta(days=WINDOW_DAYS)\n",
    "    return earliest"
   ]
  },
  {
   "cell_type": "code",
   "execution_count": 6,
   "metadata": {
    "tags": []
   },
   "outputs": [
    {
     "data": {
      "text/html": [
       "<div>\n",
       "<style scoped>\n",
       "    .dataframe tbody tr th:only-of-type {\n",
       "        vertical-align: middle;\n",
       "    }\n",
       "\n",
       "    .dataframe tbody tr th {\n",
       "        vertical-align: top;\n",
       "    }\n",
       "\n",
       "    .dataframe thead th {\n",
       "        text-align: right;\n",
       "    }\n",
       "</style>\n",
       "<table border=\"1\" class=\"dataframe\">\n",
       "  <thead>\n",
       "    <tr style=\"text-align: right;\">\n",
       "      <th></th>\n",
       "      <th>patient_id</th>\n",
       "      <th>infection</th>\n",
       "      <th>test_id</th>\n",
       "      <th>positive_date</th>\n",
       "      <th>result</th>\n",
       "      <th>win_start</th>\n",
       "      <th>win_end</th>\n",
       "    </tr>\n",
       "  </thead>\n",
       "  <tbody>\n",
       "    <tr>\n",
       "      <th>0</th>\n",
       "      <td>P0013</td>\n",
       "      <td>CRE</td>\n",
       "      <td>MR14FFYVN</td>\n",
       "      <td>2025-04-08</td>\n",
       "      <td>positive</td>\n",
       "      <td>2025-03-25</td>\n",
       "      <td>2025-04-22</td>\n",
       "    </tr>\n",
       "    <tr>\n",
       "      <th>1</th>\n",
       "      <td>P0015</td>\n",
       "      <td>CRE</td>\n",
       "      <td>MXKI3OQYF</td>\n",
       "      <td>2025-06-30</td>\n",
       "      <td>positive</td>\n",
       "      <td>2025-06-16</td>\n",
       "      <td>2025-07-14</td>\n",
       "    </tr>\n",
       "    <tr>\n",
       "      <th>2</th>\n",
       "      <td>P0017</td>\n",
       "      <td>ESBL</td>\n",
       "      <td>MNVBC2VYH</td>\n",
       "      <td>2025-04-21</td>\n",
       "      <td>positive</td>\n",
       "      <td>2025-04-07</td>\n",
       "      <td>2025-05-05</td>\n",
       "    </tr>\n",
       "    <tr>\n",
       "      <th>3</th>\n",
       "      <td>P0023</td>\n",
       "      <td>CRE</td>\n",
       "      <td>MZBNZ8V12</td>\n",
       "      <td>2025-06-11</td>\n",
       "      <td>positive</td>\n",
       "      <td>2025-05-28</td>\n",
       "      <td>2025-06-25</td>\n",
       "    </tr>\n",
       "    <tr>\n",
       "      <th>4</th>\n",
       "      <td>P0039</td>\n",
       "      <td>CRE</td>\n",
       "      <td>MUAXEQBNH</td>\n",
       "      <td>2025-05-17</td>\n",
       "      <td>positive</td>\n",
       "      <td>2025-05-03</td>\n",
       "      <td>2025-05-31</td>\n",
       "    </tr>\n",
       "    <tr>\n",
       "      <th>...</th>\n",
       "      <td>...</td>\n",
       "      <td>...</td>\n",
       "      <td>...</td>\n",
       "      <td>...</td>\n",
       "      <td>...</td>\n",
       "      <td>...</td>\n",
       "      <td>...</td>\n",
       "    </tr>\n",
       "    <tr>\n",
       "      <th>70</th>\n",
       "      <td>P0466</td>\n",
       "      <td>CRE</td>\n",
       "      <td>MTIRZQAKO</td>\n",
       "      <td>2025-05-20</td>\n",
       "      <td>positive</td>\n",
       "      <td>2025-05-06</td>\n",
       "      <td>2025-06-03</td>\n",
       "    </tr>\n",
       "    <tr>\n",
       "      <th>71</th>\n",
       "      <td>P0484</td>\n",
       "      <td>MRSA</td>\n",
       "      <td>MPN0P1XS9</td>\n",
       "      <td>2025-05-09</td>\n",
       "      <td>positive</td>\n",
       "      <td>2025-04-25</td>\n",
       "      <td>2025-05-23</td>\n",
       "    </tr>\n",
       "    <tr>\n",
       "      <th>72</th>\n",
       "      <td>P0488</td>\n",
       "      <td>MRSA</td>\n",
       "      <td>MTA3RUNYN</td>\n",
       "      <td>2025-04-27</td>\n",
       "      <td>positive</td>\n",
       "      <td>2025-04-13</td>\n",
       "      <td>2025-05-11</td>\n",
       "    </tr>\n",
       "    <tr>\n",
       "      <th>73</th>\n",
       "      <td>P0493</td>\n",
       "      <td>CRE</td>\n",
       "      <td>MCJ883DHX</td>\n",
       "      <td>2025-05-30</td>\n",
       "      <td>positive</td>\n",
       "      <td>2025-05-16</td>\n",
       "      <td>2025-06-13</td>\n",
       "    </tr>\n",
       "    <tr>\n",
       "      <th>74</th>\n",
       "      <td>P0496</td>\n",
       "      <td>CRE</td>\n",
       "      <td>MEZDUXLEZ</td>\n",
       "      <td>2025-06-25</td>\n",
       "      <td>positive</td>\n",
       "      <td>2025-06-11</td>\n",
       "      <td>2025-07-09</td>\n",
       "    </tr>\n",
       "  </tbody>\n",
       "</table>\n",
       "<p>75 rows × 7 columns</p>\n",
       "</div>"
      ],
      "text/plain": [
       "   patient_id infection    test_id positive_date    result  win_start  \\\n",
       "0       P0013       CRE  MR14FFYVN    2025-04-08  positive 2025-03-25   \n",
       "1       P0015       CRE  MXKI3OQYF    2025-06-30  positive 2025-06-16   \n",
       "2       P0017      ESBL  MNVBC2VYH    2025-04-21  positive 2025-04-07   \n",
       "3       P0023       CRE  MZBNZ8V12    2025-06-11  positive 2025-05-28   \n",
       "4       P0039       CRE  MUAXEQBNH    2025-05-17  positive 2025-05-03   \n",
       "..        ...       ...        ...           ...       ...        ...   \n",
       "70      P0466       CRE  MTIRZQAKO    2025-05-20  positive 2025-05-06   \n",
       "71      P0484      MRSA  MPN0P1XS9    2025-05-09  positive 2025-04-25   \n",
       "72      P0488      MRSA  MTA3RUNYN    2025-04-27  positive 2025-04-13   \n",
       "73      P0493       CRE  MCJ883DHX    2025-05-30  positive 2025-05-16   \n",
       "74      P0496       CRE  MEZDUXLEZ    2025-06-25  positive 2025-06-11   \n",
       "\n",
       "      win_end  \n",
       "0  2025-04-22  \n",
       "1  2025-07-14  \n",
       "2  2025-05-05  \n",
       "3  2025-06-25  \n",
       "4  2025-05-31  \n",
       "..        ...  \n",
       "70 2025-06-03  \n",
       "71 2025-05-23  \n",
       "72 2025-05-11  \n",
       "73 2025-06-13  \n",
       "74 2025-07-09  \n",
       "\n",
       "[75 rows x 7 columns]"
      ]
     },
     "execution_count": 6,
     "metadata": {},
     "output_type": "execute_result"
    }
   ],
   "source": [
    "pos_idx = _compute_positive_index(mc)\n",
    "pos_idx"
   ]
  },
  {
   "cell_type": "code",
   "execution_count": 7,
   "metadata": {
    "tags": []
   },
   "outputs": [],
   "source": [
    "def _expand_transfers_to_days(tf: pd.DataFrame, date_min: pd.Timestamp, date_max: pd.Timestamp) -> pd.DataFrame:\n",
    "    \"\"\"\n",
    "    Expand transfers into per-day presence rows within [date_min, date_max].\n",
    "    Columns: patient_id, date, location\n",
    "    \"\"\"\n",
    "    tf2 = tf.copy()\n",
    "    # Clip intervals to the allowed date range\n",
    "    tf2['start'] = tf2['ward_in_time'].clip(lower=date_min, upper=date_max)\n",
    "    tf2['end'] = tf2['ward_out_time'].clip(lower=date_min, upper=date_max)\n",
    "    tf2 = tf2[tf2['end'] >= tf2['start']]\n",
    "\n",
    "    # Create per-day date ranges and explode into separate rows\n",
    "    tf2['date_range'] = tf2.apply(lambda r: pd.date_range(r['start'], r['end'], freq='D'), axis=1)\n",
    "    exploded = tf2[['patient_id', 'location', 'date_range']].explode('date_range').rename(columns={'date_range': 'date'})\n",
    "    exploded['date'] = exploded['date'].dt.normalize()\n",
    "    return exploded"
   ]
  },
  {
   "cell_type": "code",
   "execution_count": 8,
   "metadata": {
    "tags": []
   },
   "outputs": [
    {
     "data": {
      "text/html": [
       "<div>\n",
       "<style scoped>\n",
       "    .dataframe tbody tr th:only-of-type {\n",
       "        vertical-align: middle;\n",
       "    }\n",
       "\n",
       "    .dataframe tbody tr th {\n",
       "        vertical-align: top;\n",
       "    }\n",
       "\n",
       "    .dataframe thead th {\n",
       "        text-align: right;\n",
       "    }\n",
       "</style>\n",
       "<table border=\"1\" class=\"dataframe\">\n",
       "  <thead>\n",
       "    <tr style=\"text-align: right;\">\n",
       "      <th></th>\n",
       "      <th>patient_id</th>\n",
       "      <th>location</th>\n",
       "      <th>date</th>\n",
       "    </tr>\n",
       "  </thead>\n",
       "  <tbody>\n",
       "    <tr>\n",
       "      <th>0</th>\n",
       "      <td>P0001</td>\n",
       "      <td>Ward-2</td>\n",
       "      <td>2025-04-03</td>\n",
       "    </tr>\n",
       "    <tr>\n",
       "      <th>0</th>\n",
       "      <td>P0001</td>\n",
       "      <td>Ward-2</td>\n",
       "      <td>2025-04-04</td>\n",
       "    </tr>\n",
       "    <tr>\n",
       "      <th>0</th>\n",
       "      <td>P0001</td>\n",
       "      <td>Ward-2</td>\n",
       "      <td>2025-04-05</td>\n",
       "    </tr>\n",
       "    <tr>\n",
       "      <th>0</th>\n",
       "      <td>P0001</td>\n",
       "      <td>Ward-2</td>\n",
       "      <td>2025-04-06</td>\n",
       "    </tr>\n",
       "    <tr>\n",
       "      <th>0</th>\n",
       "      <td>P0001</td>\n",
       "      <td>Ward-2</td>\n",
       "      <td>2025-04-07</td>\n",
       "    </tr>\n",
       "    <tr>\n",
       "      <th>...</th>\n",
       "      <td>...</td>\n",
       "      <td>...</td>\n",
       "      <td>...</td>\n",
       "    </tr>\n",
       "    <tr>\n",
       "      <th>696</th>\n",
       "      <td>P0500</td>\n",
       "      <td>Ward-5</td>\n",
       "      <td>2025-05-15</td>\n",
       "    </tr>\n",
       "    <tr>\n",
       "      <th>696</th>\n",
       "      <td>P0500</td>\n",
       "      <td>Ward-5</td>\n",
       "      <td>2025-05-16</td>\n",
       "    </tr>\n",
       "    <tr>\n",
       "      <th>696</th>\n",
       "      <td>P0500</td>\n",
       "      <td>Ward-5</td>\n",
       "      <td>2025-05-17</td>\n",
       "    </tr>\n",
       "    <tr>\n",
       "      <th>696</th>\n",
       "      <td>P0500</td>\n",
       "      <td>Ward-5</td>\n",
       "      <td>2025-05-18</td>\n",
       "    </tr>\n",
       "    <tr>\n",
       "      <th>696</th>\n",
       "      <td>P0500</td>\n",
       "      <td>Ward-5</td>\n",
       "      <td>2025-05-19</td>\n",
       "    </tr>\n",
       "  </tbody>\n",
       "</table>\n",
       "<p>3105 rows × 3 columns</p>\n",
       "</div>"
      ],
      "text/plain": [
       "    patient_id location       date\n",
       "0        P0001   Ward-2 2025-04-03\n",
       "0        P0001   Ward-2 2025-04-04\n",
       "0        P0001   Ward-2 2025-04-05\n",
       "0        P0001   Ward-2 2025-04-06\n",
       "0        P0001   Ward-2 2025-04-07\n",
       "..         ...      ...        ...\n",
       "696      P0500   Ward-5 2025-05-15\n",
       "696      P0500   Ward-5 2025-05-16\n",
       "696      P0500   Ward-5 2025-05-17\n",
       "696      P0500   Ward-5 2025-05-18\n",
       "696      P0500   Ward-5 2025-05-19\n",
       "\n",
       "[3105 rows x 3 columns]"
      ]
     },
     "execution_count": 8,
     "metadata": {},
     "output_type": "execute_result"
    }
   ],
   "source": [
    "date_min = (pos_idx['win_start'].min()).normalize()\n",
    "date_max = (pos_idx['win_end'].max()).normalize()\n",
    "presence = _expand_transfers_to_days(tf, date_min, date_max)\n",
    "presence"
   ]
  },
  {
   "cell_type": "code",
   "execution_count": 8,
   "metadata": {
    "tags": []
   },
   "outputs": [],
   "source": [
    "def _build_contacts_for_infection(presence: pd.DataFrame, pos_idx: pd.DataFrame, infection: str) -> pd.DataFrame:\n",
    "    \"\"\"Return contact edges (u, v, date, location) among positives for a given infection.\"\"\"\n",
    "    p = pos_idx[pos_idx['infection'] == infection].copy()\n",
    "    if p.empty:\n",
    "        return pd.DataFrame(columns=['u', 'v', 'date', 'location'])\n",
    "\n",
    "    # Keep only presence rows for patients in this infection and within their window\n",
    "    pres = presence.merge(p[['patient_id', 'win_start', 'win_end']], on='patient_id', how='inner')\n",
    "    pres = pres[(pres['date'] >= pres['win_start']) & (pres['date'] <= pres['win_end'])]\n",
    "\n",
    "    # Self-join on (date, location) to find co-presence pairs\n",
    "    left = pres.rename(columns={'patient_id': 'u'})\n",
    "    right = pres.rename(columns={'patient_id': 'v'})\n",
    "    pairs = left.merge(right, on=['date', 'location'])\n",
    "\n",
    "    # Remove self-pairs and make undirected unique pairs (u < v lexicographically)\n",
    "    pairs = pairs[pairs['u'] != pairs['v']]\n",
    "    pairs['a'] = pairs[['u', 'v']].min(axis=1)\n",
    "    pairs['b'] = pairs[['u', 'v']].max(axis=1)\n",
    "    pairs = pairs.drop_duplicates(subset=['a', 'b', 'date', 'location'])\n",
    "\n",
    "    return pairs[['a', 'b', 'date', 'location']].rename(columns={'a': 'u', 'b': 'v'})"
   ]
  },
  {
   "cell_type": "code",
   "execution_count": 17,
   "metadata": {
    "tags": []
   },
   "outputs": [
    {
     "data": {
      "text/html": [
       "<div>\n",
       "<style scoped>\n",
       "    .dataframe tbody tr th:only-of-type {\n",
       "        vertical-align: middle;\n",
       "    }\n",
       "\n",
       "    .dataframe tbody tr th {\n",
       "        vertical-align: top;\n",
       "    }\n",
       "\n",
       "    .dataframe thead th {\n",
       "        text-align: right;\n",
       "    }\n",
       "</style>\n",
       "<table border=\"1\" class=\"dataframe\">\n",
       "  <thead>\n",
       "    <tr style=\"text-align: right;\">\n",
       "      <th></th>\n",
       "      <th>u</th>\n",
       "      <th>v</th>\n",
       "      <th>date</th>\n",
       "      <th>location</th>\n",
       "    </tr>\n",
       "  </thead>\n",
       "  <tbody>\n",
       "    <tr>\n",
       "      <th>3</th>\n",
       "      <td>P0121</td>\n",
       "      <td>P0451</td>\n",
       "      <td>2025-06-15</td>\n",
       "      <td>ICU</td>\n",
       "    </tr>\n",
       "    <tr>\n",
       "      <th>7</th>\n",
       "      <td>P0121</td>\n",
       "      <td>P0451</td>\n",
       "      <td>2025-06-16</td>\n",
       "      <td>ICU</td>\n",
       "    </tr>\n",
       "    <tr>\n",
       "      <th>11</th>\n",
       "      <td>P0121</td>\n",
       "      <td>P0451</td>\n",
       "      <td>2025-06-17</td>\n",
       "      <td>ICU</td>\n",
       "    </tr>\n",
       "    <tr>\n",
       "      <th>15</th>\n",
       "      <td>P0121</td>\n",
       "      <td>P0451</td>\n",
       "      <td>2025-06-18</td>\n",
       "      <td>ICU</td>\n",
       "    </tr>\n",
       "    <tr>\n",
       "      <th>37</th>\n",
       "      <td>P0290</td>\n",
       "      <td>P0488</td>\n",
       "      <td>2025-04-25</td>\n",
       "      <td>Ward-3</td>\n",
       "    </tr>\n",
       "    <tr>\n",
       "      <th>41</th>\n",
       "      <td>P0290</td>\n",
       "      <td>P0488</td>\n",
       "      <td>2025-04-26</td>\n",
       "      <td>Ward-3</td>\n",
       "    </tr>\n",
       "    <tr>\n",
       "      <th>50</th>\n",
       "      <td>P0339</td>\n",
       "      <td>P0423</td>\n",
       "      <td>2025-05-08</td>\n",
       "      <td>ICU</td>\n",
       "    </tr>\n",
       "    <tr>\n",
       "      <th>54</th>\n",
       "      <td>P0339</td>\n",
       "      <td>P0423</td>\n",
       "      <td>2025-05-09</td>\n",
       "      <td>ICU</td>\n",
       "    </tr>\n",
       "  </tbody>\n",
       "</table>\n",
       "</div>"
      ],
      "text/plain": [
       "        u      v       date location\n",
       "3   P0121  P0451 2025-06-15      ICU\n",
       "7   P0121  P0451 2025-06-16      ICU\n",
       "11  P0121  P0451 2025-06-17      ICU\n",
       "15  P0121  P0451 2025-06-18      ICU\n",
       "37  P0290  P0488 2025-04-25   Ward-3\n",
       "41  P0290  P0488 2025-04-26   Ward-3\n",
       "50  P0339  P0423 2025-05-08      ICU\n",
       "54  P0339  P0423 2025-05-09      ICU"
      ]
     },
     "execution_count": 17,
     "metadata": {},
     "output_type": "execute_result"
    }
   ],
   "source": [
    "_build_contacts_for_infection(presence, pos_idx, \"MRSA\")"
   ]
  },
  {
   "cell_type": "code",
   "execution_count": 55,
   "metadata": {
    "tags": []
   },
   "outputs": [
    {
     "name": "stdout",
     "output_type": "stream",
     "text": [
      "CRE\n",
      "ESBL\n",
      "MRSA\n",
      "VRE\n"
     ]
    },
    {
     "data": {
      "text/plain": [
       "[{'cluster_id': 1,\n",
       "  'infection': 'CRE',\n",
       "  'size': 11,\n",
       "  'members': ['P0013',\n",
       "   'P0053',\n",
       "   'P0058',\n",
       "   'P0072',\n",
       "   'P0115',\n",
       "   'P0126',\n",
       "   'P0141',\n",
       "   'P0328',\n",
       "   'P0347',\n",
       "   'P0380',\n",
       "   'P0457'],\n",
       "  'first_positive': '2025-04-05',\n",
       "  'last_positive': '2025-04-20',\n",
       "  'timespan_days': 15,\n",
       "  'locations': ['Ward-2', 'Ward-3'],\n",
       "  'contact_edges': 32,\n",
       "  'contact_events': 121},\n",
       " {'cluster_id': 2,\n",
       "  'infection': 'CRE',\n",
       "  'size': 4,\n",
       "  'members': ['P0015', 'P0279', 'P0311', 'P0444'],\n",
       "  'first_positive': '2025-06-27',\n",
       "  'last_positive': '2025-06-30',\n",
       "  'timespan_days': 3,\n",
       "  'locations': ['Ward-3'],\n",
       "  'contact_edges': 6,\n",
       "  'contact_events': 9},\n",
       " {'cluster_id': 3,\n",
       "  'infection': 'CRE',\n",
       "  'size': 8,\n",
       "  'members': ['P0023',\n",
       "   'P0106',\n",
       "   'P0181',\n",
       "   'P0252',\n",
       "   'P0316',\n",
       "   'P0360',\n",
       "   'P0449',\n",
       "   'P0496'],\n",
       "  'first_positive': '2025-06-10',\n",
       "  'last_positive': '2025-06-25',\n",
       "  'timespan_days': 15,\n",
       "  'locations': ['ICU', 'Ward-6'],\n",
       "  'contact_edges': 11,\n",
       "  'contact_events': 58},\n",
       " {'cluster_id': 4,\n",
       "  'infection': 'CRE',\n",
       "  'size': 11,\n",
       "  'members': ['P0039',\n",
       "   'P0104',\n",
       "   'P0204',\n",
       "   'P0212',\n",
       "   'P0220',\n",
       "   'P0241',\n",
       "   'P0261',\n",
       "   'P0331',\n",
       "   'P0366',\n",
       "   'P0405',\n",
       "   'P0447'],\n",
       "  'first_positive': '2025-04-30',\n",
       "  'last_positive': '2025-05-17',\n",
       "  'timespan_days': 17,\n",
       "  'locations': ['Ward-5'],\n",
       "  'contact_edges': 39,\n",
       "  'contact_events': 214},\n",
       " {'cluster_id': 5,\n",
       "  'infection': 'CRE',\n",
       "  'size': 10,\n",
       "  'members': ['P0049',\n",
       "   'P0073',\n",
       "   'P0095',\n",
       "   'P0109',\n",
       "   'P0162',\n",
       "   'P0178',\n",
       "   'P0226',\n",
       "   'P0407',\n",
       "   'P0427',\n",
       "   'P0493'],\n",
       "  'first_positive': '2025-05-25',\n",
       "  'last_positive': '2025-06-07',\n",
       "  'timespan_days': 13,\n",
       "  'locations': ['Ward-7'],\n",
       "  'contact_edges': 34,\n",
       "  'contact_events': 218},\n",
       " {'cluster_id': 6,\n",
       "  'infection': 'MRSA',\n",
       "  'size': 2,\n",
       "  'members': ['P0121', 'P0451'],\n",
       "  'first_positive': '2025-06-16',\n",
       "  'last_positive': '2025-06-18',\n",
       "  'timespan_days': 2,\n",
       "  'locations': ['ICU'],\n",
       "  'contact_edges': 1,\n",
       "  'contact_events': 4},\n",
       " {'cluster_id': 7,\n",
       "  'infection': 'MRSA',\n",
       "  'size': 2,\n",
       "  'members': ['P0290', 'P0488'],\n",
       "  'first_positive': '2025-04-25',\n",
       "  'last_positive': '2025-04-27',\n",
       "  'timespan_days': 2,\n",
       "  'locations': ['Ward-3'],\n",
       "  'contact_edges': 1,\n",
       "  'contact_events': 2},\n",
       " {'cluster_id': 8,\n",
       "  'infection': 'MRSA',\n",
       "  'size': 2,\n",
       "  'members': ['P0339', 'P0423'],\n",
       "  'first_positive': '2025-05-08',\n",
       "  'last_positive': '2025-05-08',\n",
       "  'timespan_days': 0,\n",
       "  'locations': ['ICU'],\n",
       "  'contact_edges': 1,\n",
       "  'contact_events': 2}]"
      ]
     },
     "execution_count": 55,
     "metadata": {},
     "output_type": "execute_result"
    }
   ],
   "source": [
    "clusters_all = []\n",
    "cluster_counter = 1\n",
    "\n",
    "for infection in sorted(pos_idx['infection'].unique()):\n",
    "    print(f\"{infection}\")\n",
    "    edges = _build_contacts_for_infection(presence, pos_idx, infection)\n",
    "    \n",
    "    # Build Graph\n",
    "    G = nx.Graph()\n",
    "    pts = pos_idx[pos_idx['infection'] == infection]['patient_id'].unique().tolist()\n",
    "    G.add_nodes_from(pts)\n",
    "    \n",
    "    # Add Edges\n",
    "    if not edges.empty:\n",
    "        w = (\n",
    "        edges.groupby(['u', 'v']).size().reset_index(name='contact_events')\n",
    "        )\n",
    "        for _, row in w.iterrows():\n",
    "            G.add_edge(row['u'], row['v'], contact_events=int(row['contact_events']))\n",
    "    \n",
    "    # Connected component size >= 2 (Infection Cluster)\n",
    "    for comp in nx.connected_components(G):\n",
    "        # print(comp)\n",
    "        if len(comp) < 2:\n",
    "            continue\n",
    "        members = sorted(list(comp))\n",
    "        # print(members)\n",
    "        sub = G.subgraph(members)\n",
    "        # Cluster metrics\n",
    "        pos_sub = pos_idx[(pos_idx['infection'] == infection) & (pos_idx['patient_id'].isin(members))]\n",
    "        first_pos = pos_sub['positive_date'].min()\n",
    "        last_pos = pos_sub['positive_date'].max()\n",
    "        timespan_days = int((last_pos - first_pos).days)\n",
    "        # print(timespan_days)\n",
    "        contact_edges = sub.number_of_edges()\n",
    "        contact_events = int(sum(d.get('contact_events', 0) for _, _, d in sub.edges(data=True)))\n",
    "        # print(contact_events)\n",
    "        \n",
    "        # Locations involved (from edges -> dates/locations)\n",
    "        locs = set()\n",
    "        if not edges.empty:\n",
    "            elocs = edges[(edges['u'].isin(members)) & (edges['v'].isin(members))]\n",
    "            locs = set(elocs['location'].unique().tolist())\n",
    "            # print(locs)\n",
    "        \n",
    "        clusters_all.append({\n",
    "            'cluster_id': cluster_counter,\n",
    "            'infection': infection,\n",
    "            'size': len(members),\n",
    "            'members': members,\n",
    "            'first_positive': first_pos.strftime(DATE_FMT),\n",
    "            'last_positive': last_pos.strftime(DATE_FMT),\n",
    "            'timespan_days': timespan_days,\n",
    "            'locations': sorted(list(locs)),\n",
    "            'contact_edges': contact_edges,\n",
    "            'contact_events': contact_events,\n",
    "        })\n",
    "        cluster_counter += 1\n",
    "\n",
    "infections = sorted({c['infection'] for c in clusters_all})\n",
    "clusters_all"
   ]
  },
  {
   "cell_type": "code",
   "execution_count": 15,
   "metadata": {
    "tags": []
   },
   "outputs": [],
   "source": [
    "def detect_clusters(transfers_path: str, microbiology_path: str):\n",
    "    tf, mc = _read_csv(transfers_path, microbiology_path)\n",
    "    pos_idx = _compute_positive_index(mc)\n",
    "\n",
    "    if pos_idx.empty:\n",
    "        return {\n",
    "            'clusters': [],\n",
    "            'stats': {\n",
    "                'infections': [],\n",
    "                'total_clusters': 0,\n",
    "                'patients_positive': 0\n",
    "            }\n",
    "        }\n",
    "\n",
    "    # Limit expansion to relevant time horizon only\n",
    "    date_min = (pos_idx['win_start'].min()).normalize()\n",
    "    date_max = (pos_idx['win_end'].max()).normalize()\n",
    "\n",
    "    presence = _expand_transfers_to_days(tf, date_min, date_max)\n",
    "\n",
    "    clusters_all = []\n",
    "    cluster_counter = 1\n",
    "\n",
    "    for infection in sorted(pos_idx['infection'].unique()):\n",
    "        edges = _build_contacts_for_infection(presence, pos_idx, infection)\n",
    "\n",
    "        # Build graph among positive patients for this infection\n",
    "        G = nx.Graph()\n",
    "        pts = pos_idx[pos_idx['infection'] == infection]['patient_id'].unique().tolist()\n",
    "        G.add_nodes_from(pts)\n",
    "\n",
    "        # Edge weight: number of distinct contact days (or contact events)\n",
    "        if not edges.empty:\n",
    "            w = (\n",
    "            edges.groupby(['u', 'v'])\n",
    "            .size()\n",
    "            .reset_index(name='contact_events')\n",
    "            )\n",
    "            for _, row in w.iterrows():\n",
    "                G.add_edge(row['u'], row['v'], contact_events=int(row['contact_events']))\n",
    "\n",
    "        # Connected components with size >= 2\n",
    "        for comp in nx.connected_components(G):\n",
    "            if len(comp) < 2:\n",
    "                continue\n",
    "            members = sorted(list(comp))\n",
    "            sub = G.subgraph(members)\n",
    "            # Metrics\n",
    "            pos_sub = pos_idx[(pos_idx['infection'] == infection) & (pos_idx['patient_id'].isin(members))]\n",
    "            first_pos = pos_sub['positive_date'].min()\n",
    "            last_pos = pos_sub['positive_date'].max()\n",
    "            timespan_days = int((last_pos - first_pos).days)\n",
    "            contact_edges = sub.number_of_edges()\n",
    "            contact_events = int(sum(d.get('contact_events', 0) for _, _, d in sub.edges(data=True)))\n",
    "\n",
    "            # Locations involved (from edges -> dates/locations)\n",
    "            locs = set()\n",
    "            if not edges.empty:\n",
    "                elocs = edges[(edges['u'].isin(members)) & (edges['v'].isin(members))]\n",
    "                locs = set(elocs['location'].unique().tolist())\n",
    "\n",
    "            clusters_all.append({\n",
    "            'cluster_id': cluster_counter,\n",
    "            'infection': infection,\n",
    "            'size': len(members),\n",
    "            'members': members,\n",
    "            'first_positive': first_pos.strftime(DATE_FMT),\n",
    "            'last_positive': last_pos.strftime(DATE_FMT),\n",
    "            'timespan_days': timespan_days,\n",
    "            'locations': sorted(list(locs)),\n",
    "            'contact_edges': contact_edges,\n",
    "            'contact_events': contact_events,\n",
    "            })\n",
    "            cluster_counter += 1\n",
    "    \n",
    "    grouped = {}\n",
    "    for c in clusters_all:\n",
    "        grouped.setdefault(c['infection'], []).append(c)\n",
    "    infections = sorted({c['infection'] for c in clusters_all})\n",
    "    return {\n",
    "        \"clusters\": grouped,\n",
    "        \"stats\": {\n",
    "            'infections': infections,\n",
    "            'total_clusters': len(clusters_all),\n",
    "            'patients_positive': int(pos_idx['patient_id'].nunique())\n",
    "        }\n",
    "    }\n",
    "    # infections = sorted({c['infection'] for c in clusters_all})\n",
    "    # return {\n",
    "    #     'clusters': clusters_all,\n",
    "    #     'stats': {\n",
    "    #         'infections': infections,\n",
    "    #         'total_clusters': len(clusters_all),\n",
    "    #         'patients_positive': int(pos_idx['patient_id'].nunique())\n",
    "    #     }\n",
    "    # }"
   ]
  },
  {
   "cell_type": "code",
   "execution_count": 16,
   "metadata": {
    "tags": []
   },
   "outputs": [
    {
     "data": {
      "text/plain": [
       "{'clusters': {'CRE': [{'cluster_id': 1,\n",
       "    'infection': 'CRE',\n",
       "    'size': 11,\n",
       "    'members': ['P0013',\n",
       "     'P0053',\n",
       "     'P0058',\n",
       "     'P0072',\n",
       "     'P0115',\n",
       "     'P0126',\n",
       "     'P0141',\n",
       "     'P0328',\n",
       "     'P0347',\n",
       "     'P0380',\n",
       "     'P0457'],\n",
       "    'first_positive': '2025-04-05',\n",
       "    'last_positive': '2025-04-20',\n",
       "    'timespan_days': 15,\n",
       "    'locations': ['Ward-2', 'Ward-3'],\n",
       "    'contact_edges': 32,\n",
       "    'contact_events': 121},\n",
       "   {'cluster_id': 2,\n",
       "    'infection': 'CRE',\n",
       "    'size': 4,\n",
       "    'members': ['P0015', 'P0279', 'P0311', 'P0444'],\n",
       "    'first_positive': '2025-06-27',\n",
       "    'last_positive': '2025-06-30',\n",
       "    'timespan_days': 3,\n",
       "    'locations': ['Ward-3'],\n",
       "    'contact_edges': 6,\n",
       "    'contact_events': 9},\n",
       "   {'cluster_id': 3,\n",
       "    'infection': 'CRE',\n",
       "    'size': 8,\n",
       "    'members': ['P0023',\n",
       "     'P0106',\n",
       "     'P0181',\n",
       "     'P0252',\n",
       "     'P0316',\n",
       "     'P0360',\n",
       "     'P0449',\n",
       "     'P0496'],\n",
       "    'first_positive': '2025-06-10',\n",
       "    'last_positive': '2025-06-25',\n",
       "    'timespan_days': 15,\n",
       "    'locations': ['ICU', 'Ward-6'],\n",
       "    'contact_edges': 11,\n",
       "    'contact_events': 58},\n",
       "   {'cluster_id': 4,\n",
       "    'infection': 'CRE',\n",
       "    'size': 11,\n",
       "    'members': ['P0039',\n",
       "     'P0104',\n",
       "     'P0204',\n",
       "     'P0212',\n",
       "     'P0220',\n",
       "     'P0241',\n",
       "     'P0261',\n",
       "     'P0331',\n",
       "     'P0366',\n",
       "     'P0405',\n",
       "     'P0447'],\n",
       "    'first_positive': '2025-04-30',\n",
       "    'last_positive': '2025-05-17',\n",
       "    'timespan_days': 17,\n",
       "    'locations': ['Ward-5'],\n",
       "    'contact_edges': 39,\n",
       "    'contact_events': 214},\n",
       "   {'cluster_id': 5,\n",
       "    'infection': 'CRE',\n",
       "    'size': 10,\n",
       "    'members': ['P0049',\n",
       "     'P0073',\n",
       "     'P0095',\n",
       "     'P0109',\n",
       "     'P0162',\n",
       "     'P0178',\n",
       "     'P0226',\n",
       "     'P0407',\n",
       "     'P0427',\n",
       "     'P0493'],\n",
       "    'first_positive': '2025-05-25',\n",
       "    'last_positive': '2025-06-07',\n",
       "    'timespan_days': 13,\n",
       "    'locations': ['Ward-7'],\n",
       "    'contact_edges': 34,\n",
       "    'contact_events': 218}],\n",
       "  'MRSA': [{'cluster_id': 6,\n",
       "    'infection': 'MRSA',\n",
       "    'size': 2,\n",
       "    'members': ['P0121', 'P0451'],\n",
       "    'first_positive': '2025-06-16',\n",
       "    'last_positive': '2025-06-18',\n",
       "    'timespan_days': 2,\n",
       "    'locations': ['ICU'],\n",
       "    'contact_edges': 1,\n",
       "    'contact_events': 4},\n",
       "   {'cluster_id': 7,\n",
       "    'infection': 'MRSA',\n",
       "    'size': 2,\n",
       "    'members': ['P0290', 'P0488'],\n",
       "    'first_positive': '2025-04-25',\n",
       "    'last_positive': '2025-04-27',\n",
       "    'timespan_days': 2,\n",
       "    'locations': ['Ward-3'],\n",
       "    'contact_edges': 1,\n",
       "    'contact_events': 2},\n",
       "   {'cluster_id': 8,\n",
       "    'infection': 'MRSA',\n",
       "    'size': 2,\n",
       "    'members': ['P0339', 'P0423'],\n",
       "    'first_positive': '2025-05-08',\n",
       "    'last_positive': '2025-05-08',\n",
       "    'timespan_days': 0,\n",
       "    'locations': ['ICU'],\n",
       "    'contact_edges': 1,\n",
       "    'contact_events': 2}]},\n",
       " 'stats': {'infections': ['CRE', 'MRSA'],\n",
       "  'total_clusters': 8,\n",
       "  'patients_positive': 75}}"
      ]
     },
     "execution_count": 16,
     "metadata": {},
     "output_type": "execute_result"
    }
   ],
   "source": [
    "detect_clusters(\"sample_data/transfers.csv\", \"sample_data/microbiology.csv\")"
   ]
  },
  {
   "cell_type": "code",
   "execution_count": 2,
   "metadata": {},
   "outputs": [
    {
     "data": {
      "text/html": [
       "<div>\n",
       "<style scoped>\n",
       "    .dataframe tbody tr th:only-of-type {\n",
       "        vertical-align: middle;\n",
       "    }\n",
       "\n",
       "    .dataframe tbody tr th {\n",
       "        vertical-align: top;\n",
       "    }\n",
       "\n",
       "    .dataframe thead th {\n",
       "        text-align: right;\n",
       "    }\n",
       "</style>\n",
       "<table border=\"1\" class=\"dataframe\">\n",
       "  <thead>\n",
       "    <tr style=\"text-align: right;\">\n",
       "      <th></th>\n",
       "      <th>transfer_id</th>\n",
       "      <th>patient_id</th>\n",
       "      <th>ward_in_time</th>\n",
       "      <th>ward_out_time</th>\n",
       "      <th>location</th>\n",
       "    </tr>\n",
       "  </thead>\n",
       "  <tbody>\n",
       "    <tr>\n",
       "      <th>0</th>\n",
       "      <td>T9V20YAR8</td>\n",
       "      <td>P0001</td>\n",
       "      <td>2025-04-03</td>\n",
       "      <td>2025-04-09</td>\n",
       "      <td>Ward-2</td>\n",
       "    </tr>\n",
       "    <tr>\n",
       "      <th>1</th>\n",
       "      <td>TSBELRQVS</td>\n",
       "      <td>P0001</td>\n",
       "      <td>2025-04-19</td>\n",
       "      <td>2025-04-23</td>\n",
       "      <td>Ward-7</td>\n",
       "    </tr>\n",
       "    <tr>\n",
       "      <th>2</th>\n",
       "      <td>T1N3IUZGP</td>\n",
       "      <td>P0002</td>\n",
       "      <td>2025-04-07</td>\n",
       "      <td>2025-04-15</td>\n",
       "      <td>Surgical-Theatre</td>\n",
       "    </tr>\n",
       "    <tr>\n",
       "      <th>3</th>\n",
       "      <td>TYN9382KK</td>\n",
       "      <td>P0003</td>\n",
       "      <td>2025-05-15</td>\n",
       "      <td>2025-05-20</td>\n",
       "      <td>Surgical-Theatre</td>\n",
       "    </tr>\n",
       "    <tr>\n",
       "      <th>4</th>\n",
       "      <td>TQTTY5Y2J</td>\n",
       "      <td>P0003</td>\n",
       "      <td>2025-06-01</td>\n",
       "      <td>2025-06-08</td>\n",
       "      <td>Ward-3</td>\n",
       "    </tr>\n",
       "  </tbody>\n",
       "</table>\n",
       "</div>"
      ],
      "text/plain": [
       "  transfer_id patient_id ward_in_time ward_out_time          location\n",
       "0   T9V20YAR8      P0001   2025-04-03    2025-04-09            Ward-2\n",
       "1   TSBELRQVS      P0001   2025-04-19    2025-04-23            Ward-7\n",
       "2   T1N3IUZGP      P0002   2025-04-07    2025-04-15  Surgical-Theatre\n",
       "3   TYN9382KK      P0003   2025-05-15    2025-05-20  Surgical-Theatre\n",
       "4   TQTTY5Y2J      P0003   2025-06-01    2025-06-08            Ward-3"
      ]
     },
     "execution_count": 2,
     "metadata": {},
     "output_type": "execute_result"
    }
   ],
   "source": [
    "movements_df = pd.read_csv(\"transfers.csv\")\n",
    "tests_df = pd.read_csv(\"microbiology.csv\")\n",
    "\n",
    "\n"
   ]
  },
  {
   "cell_type": "code",
   "execution_count": null,
   "metadata": {},
   "outputs": [],
   "source": []
  },
  {
   "cell_type": "code",
   "execution_count": null,
   "metadata": {},
   "outputs": [],
   "source": []
  },
  {
   "cell_type": "code",
   "execution_count": 3,
   "metadata": {},
   "outputs": [
    {
     "data": {
      "text/html": [
       "<div>\n",
       "<style scoped>\n",
       "    .dataframe tbody tr th:only-of-type {\n",
       "        vertical-align: middle;\n",
       "    }\n",
       "\n",
       "    .dataframe tbody tr th {\n",
       "        vertical-align: top;\n",
       "    }\n",
       "\n",
       "    .dataframe thead th {\n",
       "        text-align: right;\n",
       "    }\n",
       "</style>\n",
       "<table border=\"1\" class=\"dataframe\">\n",
       "  <thead>\n",
       "    <tr style=\"text-align: right;\">\n",
       "      <th></th>\n",
       "      <th>test_id</th>\n",
       "      <th>patient_id</th>\n",
       "      <th>collection_date</th>\n",
       "      <th>infection</th>\n",
       "      <th>result</th>\n",
       "    </tr>\n",
       "  </thead>\n",
       "  <tbody>\n",
       "    <tr>\n",
       "      <th>0</th>\n",
       "      <td>MWF90KM3T</td>\n",
       "      <td>P0001</td>\n",
       "      <td>2025-04-21</td>\n",
       "      <td>CRE</td>\n",
       "      <td>negative</td>\n",
       "    </tr>\n",
       "    <tr>\n",
       "      <th>1</th>\n",
       "      <td>MOHSWQ40Z</td>\n",
       "      <td>P0002</td>\n",
       "      <td>2025-04-10</td>\n",
       "      <td>CRE</td>\n",
       "      <td>negative</td>\n",
       "    </tr>\n",
       "    <tr>\n",
       "      <th>2</th>\n",
       "      <td>M8KK791ZY</td>\n",
       "      <td>P0003</td>\n",
       "      <td>2025-06-04</td>\n",
       "      <td>CRE</td>\n",
       "      <td>negative</td>\n",
       "    </tr>\n",
       "    <tr>\n",
       "      <th>3</th>\n",
       "      <td>MIDLRYE89</td>\n",
       "      <td>P0004</td>\n",
       "      <td>2025-05-05</td>\n",
       "      <td>CRE</td>\n",
       "      <td>negative</td>\n",
       "    </tr>\n",
       "    <tr>\n",
       "      <th>4</th>\n",
       "      <td>MUFLSEHUD</td>\n",
       "      <td>P0010</td>\n",
       "      <td>2025-05-01</td>\n",
       "      <td>CRE</td>\n",
       "      <td>negative</td>\n",
       "    </tr>\n",
       "  </tbody>\n",
       "</table>\n",
       "</div>"
      ],
      "text/plain": [
       "     test_id patient_id collection_date infection    result\n",
       "0  MWF90KM3T      P0001      2025-04-21       CRE  negative\n",
       "1  MOHSWQ40Z      P0002      2025-04-10       CRE  negative\n",
       "2  M8KK791ZY      P0003      2025-06-04       CRE  negative\n",
       "3  MIDLRYE89      P0004      2025-05-05       CRE  negative\n",
       "4  MUFLSEHUD      P0010      2025-05-01       CRE  negative"
      ]
     },
     "execution_count": 3,
     "metadata": {},
     "output_type": "execute_result"
    }
   ],
   "source": [
    "tests_df.head()"
   ]
  },
  {
   "cell_type": "code",
   "execution_count": 4,
   "metadata": {},
   "outputs": [
    {
     "name": "stdout",
     "output_type": "stream",
     "text": [
      "<class 'pandas.core.frame.DataFrame'>\n",
      "RangeIndex: 697 entries, 0 to 696\n",
      "Data columns (total 5 columns):\n",
      " #   Column         Non-Null Count  Dtype \n",
      "---  ------         --------------  ----- \n",
      " 0   transfer_id    697 non-null    object\n",
      " 1   patient_id     697 non-null    object\n",
      " 2   ward_in_time   697 non-null    object\n",
      " 3   ward_out_time  697 non-null    object\n",
      " 4   location       697 non-null    object\n",
      "dtypes: object(5)\n",
      "memory usage: 27.4+ KB\n"
     ]
    }
   ],
   "source": [
    "movements_df.info()"
   ]
  },
  {
   "cell_type": "code",
   "execution_count": 5,
   "metadata": {},
   "outputs": [
    {
     "name": "stdout",
     "output_type": "stream",
     "text": [
      "<class 'pandas.core.frame.DataFrame'>\n",
      "RangeIndex: 384 entries, 0 to 383\n",
      "Data columns (total 5 columns):\n",
      " #   Column           Non-Null Count  Dtype \n",
      "---  ------           --------------  ----- \n",
      " 0   test_id          384 non-null    object\n",
      " 1   patient_id       384 non-null    object\n",
      " 2   collection_date  384 non-null    object\n",
      " 3   infection        384 non-null    object\n",
      " 4   result           384 non-null    object\n",
      "dtypes: object(5)\n",
      "memory usage: 15.1+ KB\n"
     ]
    }
   ],
   "source": [
    "tests_df.info()"
   ]
  },
  {
   "cell_type": "code",
   "execution_count": 6,
   "metadata": {},
   "outputs": [
    {
     "data": {
      "text/html": [
       "<div>\n",
       "<style scoped>\n",
       "    .dataframe tbody tr th:only-of-type {\n",
       "        vertical-align: middle;\n",
       "    }\n",
       "\n",
       "    .dataframe tbody tr th {\n",
       "        vertical-align: top;\n",
       "    }\n",
       "\n",
       "    .dataframe thead th {\n",
       "        text-align: right;\n",
       "    }\n",
       "</style>\n",
       "<table border=\"1\" class=\"dataframe\">\n",
       "  <thead>\n",
       "    <tr style=\"text-align: right;\">\n",
       "      <th></th>\n",
       "      <th>test_id</th>\n",
       "      <th>patient_id</th>\n",
       "      <th>collection_date</th>\n",
       "      <th>infection</th>\n",
       "      <th>result</th>\n",
       "    </tr>\n",
       "  </thead>\n",
       "  <tbody>\n",
       "    <tr>\n",
       "      <th>count</th>\n",
       "      <td>384</td>\n",
       "      <td>384</td>\n",
       "      <td>384</td>\n",
       "      <td>384</td>\n",
       "      <td>384</td>\n",
       "    </tr>\n",
       "    <tr>\n",
       "      <th>unique</th>\n",
       "      <td>384</td>\n",
       "      <td>298</td>\n",
       "      <td>91</td>\n",
       "      <td>4</td>\n",
       "      <td>2</td>\n",
       "    </tr>\n",
       "    <tr>\n",
       "      <th>top</th>\n",
       "      <td>MWF90KM3T</td>\n",
       "      <td>P0475</td>\n",
       "      <td>2025-05-17</td>\n",
       "      <td>CRE</td>\n",
       "      <td>negative</td>\n",
       "    </tr>\n",
       "    <tr>\n",
       "      <th>freq</th>\n",
       "      <td>1</td>\n",
       "      <td>3</td>\n",
       "      <td>10</td>\n",
       "      <td>328</td>\n",
       "      <td>309</td>\n",
       "    </tr>\n",
       "  </tbody>\n",
       "</table>\n",
       "</div>"
      ],
      "text/plain": [
       "          test_id patient_id collection_date infection    result\n",
       "count         384        384             384       384       384\n",
       "unique        384        298              91         4         2\n",
       "top     MWF90KM3T      P0475      2025-05-17       CRE  negative\n",
       "freq            1          3              10       328       309"
      ]
     },
     "execution_count": 6,
     "metadata": {},
     "output_type": "execute_result"
    }
   ],
   "source": [
    "tests_df.describe()"
   ]
  },
  {
   "cell_type": "code",
   "execution_count": 7,
   "metadata": {},
   "outputs": [
    {
     "data": {
      "text/html": [
       "<div>\n",
       "<style scoped>\n",
       "    .dataframe tbody tr th:only-of-type {\n",
       "        vertical-align: middle;\n",
       "    }\n",
       "\n",
       "    .dataframe tbody tr th {\n",
       "        vertical-align: top;\n",
       "    }\n",
       "\n",
       "    .dataframe thead th {\n",
       "        text-align: right;\n",
       "    }\n",
       "</style>\n",
       "<table border=\"1\" class=\"dataframe\">\n",
       "  <thead>\n",
       "    <tr style=\"text-align: right;\">\n",
       "      <th></th>\n",
       "      <th>transfer_id</th>\n",
       "      <th>patient_id</th>\n",
       "      <th>ward_in_time</th>\n",
       "      <th>ward_out_time</th>\n",
       "      <th>location</th>\n",
       "      <th>test_id</th>\n",
       "      <th>collection_date</th>\n",
       "      <th>infection</th>\n",
       "      <th>result</th>\n",
       "    </tr>\n",
       "  </thead>\n",
       "  <tbody>\n",
       "    <tr>\n",
       "      <th>0</th>\n",
       "      <td>T9V20YAR8</td>\n",
       "      <td>P0001</td>\n",
       "      <td>2025-04-03</td>\n",
       "      <td>2025-04-09</td>\n",
       "      <td>Ward-2</td>\n",
       "      <td>MWF90KM3T</td>\n",
       "      <td>2025-04-21</td>\n",
       "      <td>CRE</td>\n",
       "      <td>negative</td>\n",
       "    </tr>\n",
       "    <tr>\n",
       "      <th>1</th>\n",
       "      <td>TSBELRQVS</td>\n",
       "      <td>P0001</td>\n",
       "      <td>2025-04-19</td>\n",
       "      <td>2025-04-23</td>\n",
       "      <td>Ward-7</td>\n",
       "      <td>MWF90KM3T</td>\n",
       "      <td>2025-04-21</td>\n",
       "      <td>CRE</td>\n",
       "      <td>negative</td>\n",
       "    </tr>\n",
       "    <tr>\n",
       "      <th>2</th>\n",
       "      <td>T1N3IUZGP</td>\n",
       "      <td>P0002</td>\n",
       "      <td>2025-04-07</td>\n",
       "      <td>2025-04-15</td>\n",
       "      <td>Surgical-Theatre</td>\n",
       "      <td>MOHSWQ40Z</td>\n",
       "      <td>2025-04-10</td>\n",
       "      <td>CRE</td>\n",
       "      <td>negative</td>\n",
       "    </tr>\n",
       "    <tr>\n",
       "      <th>3</th>\n",
       "      <td>TYN9382KK</td>\n",
       "      <td>P0003</td>\n",
       "      <td>2025-05-15</td>\n",
       "      <td>2025-05-20</td>\n",
       "      <td>Surgical-Theatre</td>\n",
       "      <td>M8KK791ZY</td>\n",
       "      <td>2025-06-04</td>\n",
       "      <td>CRE</td>\n",
       "      <td>negative</td>\n",
       "    </tr>\n",
       "    <tr>\n",
       "      <th>4</th>\n",
       "      <td>TQTTY5Y2J</td>\n",
       "      <td>P0003</td>\n",
       "      <td>2025-06-01</td>\n",
       "      <td>2025-06-08</td>\n",
       "      <td>Ward-3</td>\n",
       "      <td>M8KK791ZY</td>\n",
       "      <td>2025-06-04</td>\n",
       "      <td>CRE</td>\n",
       "      <td>negative</td>\n",
       "    </tr>\n",
       "  </tbody>\n",
       "</table>\n",
       "</div>"
      ],
      "text/plain": [
       "  transfer_id patient_id ward_in_time ward_out_time          location  \\\n",
       "0   T9V20YAR8      P0001   2025-04-03    2025-04-09            Ward-2   \n",
       "1   TSBELRQVS      P0001   2025-04-19    2025-04-23            Ward-7   \n",
       "2   T1N3IUZGP      P0002   2025-04-07    2025-04-15  Surgical-Theatre   \n",
       "3   TYN9382KK      P0003   2025-05-15    2025-05-20  Surgical-Theatre   \n",
       "4   TQTTY5Y2J      P0003   2025-06-01    2025-06-08            Ward-3   \n",
       "\n",
       "     test_id collection_date infection    result  \n",
       "0  MWF90KM3T      2025-04-21       CRE  negative  \n",
       "1  MWF90KM3T      2025-04-21       CRE  negative  \n",
       "2  MOHSWQ40Z      2025-04-10       CRE  negative  \n",
       "3  M8KK791ZY      2025-06-04       CRE  negative  \n",
       "4  M8KK791ZY      2025-06-04       CRE  negative  "
      ]
     },
     "execution_count": 7,
     "metadata": {},
     "output_type": "execute_result"
    }
   ],
   "source": [
    "df = pd.merge(movements_df, tests_df, on='patient_id', how='left')\n",
    "df['ward_in_time'] = pd.to_datetime(df['ward_in_time'])\n",
    "df['ward_out_time'] = pd.to_datetime(df['ward_out_time'])\n",
    "df['collection_date'] = pd.to_datetime(df['collection_date'])\n",
    "df.head()"
   ]
  },
  {
   "cell_type": "code",
   "execution_count": 8,
   "metadata": {},
   "outputs": [
    {
     "data": {
      "image/png": "[encoded data removed]",
      "text/plain": [
       "<Figure size 640x480 with 1 Axes>"
      ]
     },
     "metadata": {},
     "output_type": "display_data"
    }
   ],
   "source": [
    "# Positive cases per ward\n",
    "sns.countplot(data=df[df['result'] == 'positive'], x='location')\n",
    "plt.show()"
   ]
  },
  {
   "cell_type": "code",
   "execution_count": 13,
   "metadata": {},
   "outputs": [
    {
     "data": {
      "application/vnd.plotly.v1+json": {
       "config": {
        "plotlyServerURL": "https://plotly.com"
       },
       "data": [
        {
         "alignmentgroup": "True",
         "base": [
          "2025-04-01T00:00:00"
         ],
         "hovertemplate": "patient_id=%{y}<br>ward_in_time=%{base}<br>ward_out_time=%{x}<extra></extra>",
         "legendgroup": "P0397",
         "marker": {
          "color": "#636efa",
          "pattern": {
           "shape": ""
          }
         },
         "name": "P0397",
         "offsetgroup": "P0397",
         "orientation": "h",
         "showlegend": true,
         "textposition": "auto",
         "type": "bar",
         "x": [
          604800000
         ],
         "xaxis": "x",
         "y": [
          "P0397"
         ],
         "yaxis": "y"
        },
        {
         "alignmentgroup": "True",
         "base": [
          "2025-04-01T00:00:00"
         ],
         "hovertemplate": "patient_id=%{y}<br>ward_in_time=%{base}<br>ward_out_time=%{x}<extra></extra>",
         "legendgroup": "P0189",
         "marker": {
          "color": "#EF553B",
          "pattern": {
           "shape": ""
          }
         },
         "name": "P0189",
         "offsetgroup": "P0189",
         "orientation": "h",
         "showlegend": true,
         "textposition": "auto",
         "type": "bar",
         "x": [
          345600000
         ],
         "xaxis": "x",
         "y": [
          "P0189"
         ],
         "yaxis": "y"
        },
        {
         "alignmentgroup": "True",
         "base": [
          "2025-04-02T00:00:00"
         ],
         "hovertemplate": "patient_id=%{y}<br>ward_in_time=%{base}<br>ward_out_time=%{x}<extra></extra>",
         "legendgroup": "P0401",
         "marker": {
          "color": "#00cc96",
          "pattern": {
           "shape": ""
          }
         },
         "name": "P0401",
         "offsetgroup": "P0401",
         "orientation": "h",
         "showlegend": true,
         "textposition": "auto",
         "type": "bar",
         "x": [
          86400000
         ],
         "xaxis": "x",
         "y": [
          "P0401"
         ],
         "yaxis": "y"
        },
        {
         "alignmentgroup": "True",
         "base": [
          "2025-04-02T00:00:00"
         ],
         "hovertemplate": "patient_id=%{y}<br>ward_in_time=%{base}<br>ward_out_time=%{x}<extra></extra>",
         "legendgroup": "P0142",
         "marker": {
          "color": "#ab63fa",
          "pattern": {
           "shape": ""
          }
         },
         "name": "P0142",
         "offsetgroup": "P0142",
         "orientation": "h",
         "showlegend": true,
         "textposition": "auto",
         "type": "bar",
         "x": [
          604800000
         ],
         "xaxis": "x",
         "y": [
          "P0142"
         ],
         "yaxis": "y"
        },
        {
         "alignmentgroup": "True",
         "base": [
          "2025-04-05T00:00:00"
         ],
         "hovertemplate": "patient_id=%{y}<br>ward_in_time=%{base}<br>ward_out_time=%{x}<extra></extra>",
         "legendgroup": "P0430",
         "marker": {
          "color": "#FFA15A",
          "pattern": {
           "shape": ""
          }
         },
         "name": "P0430",
         "offsetgroup": "P0430",
         "orientation": "h",
         "showlegend": true,
         "textposition": "auto",
         "type": "bar",
         "x": [
          172800000
         ],
         "xaxis": "x",
         "y": [
          "P0430"
         ],
         "yaxis": "y"
        },
        {
         "alignmentgroup": "True",
         "base": [
          "2025-04-07T00:00:00"
         ],
         "hovertemplate": "patient_id=%{y}<br>ward_in_time=%{base}<br>ward_out_time=%{x}<extra></extra>",
         "legendgroup": "P0376",
         "marker": {
          "color": "#19d3f3",
          "pattern": {
           "shape": ""
          }
         },
         "name": "P0376",
         "offsetgroup": "P0376",
         "orientation": "h",
         "showlegend": true,
         "textposition": "auto",
         "type": "bar",
         "x": [
          345600000
         ],
         "xaxis": "x",
         "y": [
          "P0376"
         ],
         "yaxis": "y"
        },
        {
         "alignmentgroup": "True",
         "base": [
          "2025-04-09T00:00:00",
          "2025-04-09T00:00:00"
         ],
         "hovertemplate": "patient_id=%{y}<br>ward_in_time=%{base}<br>ward_out_time=%{x}<extra></extra>",
         "legendgroup": "P0267",
         "marker": {
          "color": "#FF6692",
          "pattern": {
           "shape": ""
          }
         },
         "name": "P0267",
         "offsetgroup": "P0267",
         "orientation": "h",
         "showlegend": true,
         "textposition": "auto",
         "type": "bar",
         "x": [
          86400000,
          86400000
         ],
         "xaxis": "x",
         "y": [
          "P0267",
          "P0267"
         ],
         "yaxis": "y"
        },
        {
         "alignmentgroup": "True",
         "base": [
          "2025-04-12T00:00:00",
          "2025-04-12T00:00:00"
         ],
         "hovertemplate": "patient_id=%{y}<br>ward_in_time=%{base}<br>ward_out_time=%{x}<extra></extra>",
         "legendgroup": "P0173",
         "marker": {
          "color": "#B6E880",
          "pattern": {
           "shape": ""
          }
         },
         "name": "P0173",
         "offsetgroup": "P0173",
         "orientation": "h",
         "showlegend": true,
         "textposition": "auto",
         "type": "bar",
         "x": [
          86400000,
          86400000
         ],
         "xaxis": "x",
         "y": [
          "P0173",
          "P0173"
         ],
         "yaxis": "y"
        },
        {
         "alignmentgroup": "True",
         "base": [
          "2025-04-17T00:00:00"
         ],
         "hovertemplate": "patient_id=%{y}<br>ward_in_time=%{base}<br>ward_out_time=%{x}<extra></extra>",
         "legendgroup": "P0265",
         "marker": {
          "color": "#FF97FF",
          "pattern": {
           "shape": ""
          }
         },
         "name": "P0265",
         "offsetgroup": "P0265",
         "orientation": "h",
         "showlegend": true,
         "textposition": "auto",
         "type": "bar",
         "x": [
          172800000
         ],
         "xaxis": "x",
         "y": [
          "P0265"
         ],
         "yaxis": "y"
        },
        {
         "alignmentgroup": "True",
         "base": [
          "2025-04-20T00:00:00"
         ],
         "hovertemplate": "patient_id=%{y}<br>ward_in_time=%{base}<br>ward_out_time=%{x}<extra></extra>",
         "legendgroup": "P0017",
         "marker": {
          "color": "#FECB52",
          "pattern": {
           "shape": ""
          }
         },
         "name": "P0017",
         "offsetgroup": "P0017",
         "orientation": "h",
         "showlegend": true,
         "textposition": "auto",
         "type": "bar",
         "x": [
          432000000
         ],
         "xaxis": "x",
         "y": [
          "P0017"
         ],
         "yaxis": "y"
        },
        {
         "alignmentgroup": "True",
         "base": [
          "2025-04-23T00:00:00"
         ],
         "hovertemplate": "patient_id=%{y}<br>ward_in_time=%{base}<br>ward_out_time=%{x}<extra></extra>",
         "legendgroup": "P0092",
         "marker": {
          "color": "#636efa",
          "pattern": {
           "shape": ""
          }
         },
         "name": "P0092",
         "offsetgroup": "P0092",
         "orientation": "h",
         "showlegend": true,
         "textposition": "auto",
         "type": "bar",
         "x": [
          259200000
         ],
         "xaxis": "x",
         "y": [
          "P0092"
         ],
         "yaxis": "y"
        },
        {
         "alignmentgroup": "True",
         "base": [
          "2025-04-24T00:00:00"
         ],
         "hovertemplate": "patient_id=%{y}<br>ward_in_time=%{base}<br>ward_out_time=%{x}<extra></extra>",
         "legendgroup": "P0174",
         "marker": {
          "color": "#EF553B",
          "pattern": {
           "shape": ""
          }
         },
         "name": "P0174",
         "offsetgroup": "P0174",
         "orientation": "h",
         "showlegend": true,
         "textposition": "auto",
         "type": "bar",
         "x": [
          691200000
         ],
         "xaxis": "x",
         "y": [
          "P0174"
         ],
         "yaxis": "y"
        },
        {
         "alignmentgroup": "True",
         "base": [
          "2025-04-29T00:00:00"
         ],
         "hovertemplate": "patient_id=%{y}<br>ward_in_time=%{base}<br>ward_out_time=%{x}<extra></extra>",
         "legendgroup": "P0391",
         "marker": {
          "color": "#00cc96",
          "pattern": {
           "shape": ""
          }
         },
         "name": "P0391",
         "offsetgroup": "P0391",
         "orientation": "h",
         "showlegend": true,
         "textposition": "auto",
         "type": "bar",
         "x": [
          518400000
         ],
         "xaxis": "x",
         "y": [
          "P0391"
         ],
         "yaxis": "y"
        },
        {
         "alignmentgroup": "True",
         "base": [
          "2025-05-01T00:00:00"
         ],
         "hovertemplate": "patient_id=%{y}<br>ward_in_time=%{base}<br>ward_out_time=%{x}<extra></extra>",
         "legendgroup": "P0302",
         "marker": {
          "color": "#ab63fa",
          "pattern": {
           "shape": ""
          }
         },
         "name": "P0302",
         "offsetgroup": "P0302",
         "orientation": "h",
         "showlegend": true,
         "textposition": "auto",
         "type": "bar",
         "x": [
          432000000
         ],
         "xaxis": "x",
         "y": [
          "P0302"
         ],
         "yaxis": "y"
        },
        {
         "alignmentgroup": "True",
         "base": [
          "2025-05-03T00:00:00"
         ],
         "hovertemplate": "patient_id=%{y}<br>ward_in_time=%{base}<br>ward_out_time=%{x}<extra></extra>",
         "legendgroup": "P0004",
         "marker": {
          "color": "#FFA15A",
          "pattern": {
           "shape": ""
          }
         },
         "name": "P0004",
         "offsetgroup": "P0004",
         "orientation": "h",
         "showlegend": true,
         "textposition": "auto",
         "type": "bar",
         "x": [
          691200000
         ],
         "xaxis": "x",
         "y": [
          "P0004"
         ],
         "yaxis": "y"
        },
        {
         "alignmentgroup": "True",
         "base": [
          "2025-05-06T00:00:00"
         ],
         "hovertemplate": "patient_id=%{y}<br>ward_in_time=%{base}<br>ward_out_time=%{x}<extra></extra>",
         "legendgroup": "P0088",
         "marker": {
          "color": "#19d3f3",
          "pattern": {
           "shape": ""
          }
         },
         "name": "P0088",
         "offsetgroup": "P0088",
         "orientation": "h",
         "showlegend": true,
         "textposition": "auto",
         "type": "bar",
         "x": [
          86400000
         ],
         "xaxis": "x",
         "y": [
          "P0088"
         ],
         "yaxis": "y"
        },
        {
         "alignmentgroup": "True",
         "base": [
          "2025-05-07T00:00:00"
         ],
         "hovertemplate": "patient_id=%{y}<br>ward_in_time=%{base}<br>ward_out_time=%{x}<extra></extra>",
         "legendgroup": "P0423",
         "marker": {
          "color": "#FF6692",
          "pattern": {
           "shape": ""
          }
         },
         "name": "P0423",
         "offsetgroup": "P0423",
         "orientation": "h",
         "showlegend": true,
         "textposition": "auto",
         "type": "bar",
         "x": [
          604800000
         ],
         "xaxis": "x",
         "y": [
          "P0423"
         ],
         "yaxis": "y"
        },
        {
         "alignmentgroup": "True",
         "base": [
          "2025-05-08T00:00:00"
         ],
         "hovertemplate": "patient_id=%{y}<br>ward_in_time=%{base}<br>ward_out_time=%{x}<extra></extra>",
         "legendgroup": "P0339",
         "marker": {
          "color": "#B6E880",
          "pattern": {
           "shape": ""
          }
         },
         "name": "P0339",
         "offsetgroup": "P0339",
         "orientation": "h",
         "showlegend": true,
         "textposition": "auto",
         "type": "bar",
         "x": [
          86400000
         ],
         "xaxis": "x",
         "y": [
          "P0339"
         ],
         "yaxis": "y"
        },
        {
         "alignmentgroup": "True",
         "base": [
          "2025-05-11T00:00:00",
          "2025-05-11T00:00:00"
         ],
         "hovertemplate": "patient_id=%{y}<br>ward_in_time=%{base}<br>ward_out_time=%{x}<extra></extra>",
         "legendgroup": "P0199",
         "marker": {
          "color": "#FF97FF",
          "pattern": {
           "shape": ""
          }
         },
         "name": "P0199",
         "offsetgroup": "P0199",
         "orientation": "h",
         "showlegend": true,
         "textposition": "auto",
         "type": "bar",
         "x": [
          172800000,
          172800000
         ],
         "xaxis": "x",
         "y": [
          "P0199",
          "P0199"
         ],
         "yaxis": "y"
        },
        {
         "alignmentgroup": "True",
         "base": [
          "2025-05-14T00:00:00"
         ],
         "hovertemplate": "patient_id=%{y}<br>ward_in_time=%{base}<br>ward_out_time=%{x}<extra></extra>",
         "legendgroup": "P0325",
         "marker": {
          "color": "#FECB52",
          "pattern": {
           "shape": ""
          }
         },
         "name": "P0325",
         "offsetgroup": "P0325",
         "orientation": "h",
         "showlegend": true,
         "textposition": "auto",
         "type": "bar",
         "x": [
          172800000
         ],
         "xaxis": "x",
         "y": [
          "P0325"
         ],
         "yaxis": "y"
        },
        {
         "alignmentgroup": "True",
         "base": [
          "2025-05-16T00:00:00",
          "2025-05-16T00:00:00"
         ],
         "hovertemplate": "patient_id=%{y}<br>ward_in_time=%{base}<br>ward_out_time=%{x}<extra></extra>",
         "legendgroup": "P0381",
         "marker": {
          "color": "#636efa",
          "pattern": {
           "shape": ""
          }
         },
         "name": "P0381",
         "offsetgroup": "P0381",
         "orientation": "h",
         "showlegend": true,
         "textposition": "auto",
         "type": "bar",
         "x": [
          345600000,
          345600000
         ],
         "xaxis": "x",
         "y": [
          "P0381",
          "P0381"
         ],
         "yaxis": "y"
        },
        {
         "alignmentgroup": "True",
         "base": [
          "2025-05-16T00:00:00"
         ],
         "hovertemplate": "patient_id=%{y}<br>ward_in_time=%{base}<br>ward_out_time=%{x}<extra></extra>",
         "legendgroup": "P0463",
         "marker": {
          "color": "#EF553B",
          "pattern": {
           "shape": ""
          }
         },
         "name": "P0463",
         "offsetgroup": "P0463",
         "orientation": "h",
         "showlegend": true,
         "textposition": "auto",
         "type": "bar",
         "x": [
          259200000
         ],
         "xaxis": "x",
         "y": [
          "P0463"
         ],
         "yaxis": "y"
        },
        {
         "alignmentgroup": "True",
         "base": [
          "2025-05-23T00:00:00"
         ],
         "hovertemplate": "patient_id=%{y}<br>ward_in_time=%{base}<br>ward_out_time=%{x}<extra></extra>",
         "legendgroup": "P0392",
         "marker": {
          "color": "#00cc96",
          "pattern": {
           "shape": ""
          }
         },
         "name": "P0392",
         "offsetgroup": "P0392",
         "orientation": "h",
         "showlegend": true,
         "textposition": "auto",
         "type": "bar",
         "x": [
          518400000
         ],
         "xaxis": "x",
         "y": [
          "P0392"
         ],
         "yaxis": "y"
        },
        {
         "alignmentgroup": "True",
         "base": [
          "2025-05-25T00:00:00"
         ],
         "hovertemplate": "patient_id=%{y}<br>ward_in_time=%{base}<br>ward_out_time=%{x}<extra></extra>",
         "legendgroup": "P0387",
         "marker": {
          "color": "#ab63fa",
          "pattern": {
           "shape": ""
          }
         },
         "name": "P0387",
         "offsetgroup": "P0387",
         "orientation": "h",
         "showlegend": true,
         "textposition": "auto",
         "type": "bar",
         "x": [
          86400000
         ],
         "xaxis": "x",
         "y": [
          "P0387"
         ],
         "yaxis": "y"
        },
        {
         "alignmentgroup": "True",
         "base": [
          "2025-05-27T00:00:00"
         ],
         "hovertemplate": "patient_id=%{y}<br>ward_in_time=%{base}<br>ward_out_time=%{x}<extra></extra>",
         "legendgroup": "P0117",
         "marker": {
          "color": "#FFA15A",
          "pattern": {
           "shape": ""
          }
         },
         "name": "P0117",
         "offsetgroup": "P0117",
         "orientation": "h",
         "showlegend": true,
         "textposition": "auto",
         "type": "bar",
         "x": [
          86400000
         ],
         "xaxis": "x",
         "y": [
          "P0117"
         ],
         "yaxis": "y"
        },
        {
         "alignmentgroup": "True",
         "base": [
          "2025-05-31T00:00:00"
         ],
         "hovertemplate": "patient_id=%{y}<br>ward_in_time=%{base}<br>ward_out_time=%{x}<extra></extra>",
         "legendgroup": "P0460",
         "marker": {
          "color": "#19d3f3",
          "pattern": {
           "shape": ""
          }
         },
         "name": "P0460",
         "offsetgroup": "P0460",
         "orientation": "h",
         "showlegend": true,
         "textposition": "auto",
         "type": "bar",
         "x": [
          432000000
         ],
         "xaxis": "x",
         "y": [
          "P0460"
         ],
         "yaxis": "y"
        },
        {
         "alignmentgroup": "True",
         "base": [
          "2025-06-04T00:00:00"
         ],
         "hovertemplate": "patient_id=%{y}<br>ward_in_time=%{base}<br>ward_out_time=%{x}<extra></extra>",
         "legendgroup": "P0090",
         "marker": {
          "color": "#FF6692",
          "pattern": {
           "shape": ""
          }
         },
         "name": "P0090",
         "offsetgroup": "P0090",
         "orientation": "h",
         "showlegend": true,
         "textposition": "auto",
         "type": "bar",
         "x": [
          86400000
         ],
         "xaxis": "x",
         "y": [
          "P0090"
         ],
         "yaxis": "y"
        },
        {
         "alignmentgroup": "True",
         "base": [
          "2025-06-06T00:00:00"
         ],
         "hovertemplate": "patient_id=%{y}<br>ward_in_time=%{base}<br>ward_out_time=%{x}<extra></extra>",
         "legendgroup": "P0360",
         "marker": {
          "color": "#B6E880",
          "pattern": {
           "shape": ""
          }
         },
         "name": "P0360",
         "offsetgroup": "P0360",
         "orientation": "h",
         "showlegend": true,
         "textposition": "auto",
         "type": "bar",
         "x": [
          691200000
         ],
         "xaxis": "x",
         "y": [
          "P0360"
         ],
         "yaxis": "y"
        },
        {
         "alignmentgroup": "True",
         "base": [
          "2025-06-07T00:00:00",
          "2025-06-07T00:00:00"
         ],
         "hovertemplate": "patient_id=%{y}<br>ward_in_time=%{base}<br>ward_out_time=%{x}<extra></extra>",
         "legendgroup": "P0023",
         "marker": {
          "color": "#FF97FF",
          "pattern": {
           "shape": ""
          }
         },
         "name": "P0023",
         "offsetgroup": "P0023",
         "orientation": "h",
         "showlegend": true,
         "textposition": "auto",
         "type": "bar",
         "x": [
          86400000,
          86400000
         ],
         "xaxis": "x",
         "y": [
          "P0023",
          "P0023"
         ],
         "yaxis": "y"
        },
        {
         "alignmentgroup": "True",
         "base": [
          "2025-06-07T00:00:00"
         ],
         "hovertemplate": "patient_id=%{y}<br>ward_in_time=%{base}<br>ward_out_time=%{x}<extra></extra>",
         "legendgroup": "P0251",
         "marker": {
          "color": "#FECB52",
          "pattern": {
           "shape": ""
          }
         },
         "name": "P0251",
         "offsetgroup": "P0251",
         "orientation": "h",
         "showlegend": true,
         "textposition": "auto",
         "type": "bar",
         "x": [
          604800000
         ],
         "xaxis": "x",
         "y": [
          "P0251"
         ],
         "yaxis": "y"
        },
        {
         "alignmentgroup": "True",
         "base": [
          "2025-06-07T00:00:00",
          "2025-06-12T00:00:00"
         ],
         "hovertemplate": "patient_id=%{y}<br>ward_in_time=%{base}<br>ward_out_time=%{x}<extra></extra>",
         "legendgroup": "P0106",
         "marker": {
          "color": "#636efa",
          "pattern": {
           "shape": ""
          }
         },
         "name": "P0106",
         "offsetgroup": "P0106",
         "orientation": "h",
         "showlegend": true,
         "textposition": "auto",
         "type": "bar",
         "x": [
          432000000,
          432000000
         ],
         "xaxis": "x",
         "y": [
          "P0106",
          "P0106"
         ],
         "yaxis": "y"
        },
        {
         "alignmentgroup": "True",
         "base": [
          "2025-06-10T00:00:00"
         ],
         "hovertemplate": "patient_id=%{y}<br>ward_in_time=%{base}<br>ward_out_time=%{x}<extra></extra>",
         "legendgroup": "P0193",
         "marker": {
          "color": "#EF553B",
          "pattern": {
           "shape": ""
          }
         },
         "name": "P0193",
         "offsetgroup": "P0193",
         "orientation": "h",
         "showlegend": true,
         "textposition": "auto",
         "type": "bar",
         "x": [
          345600000
         ],
         "xaxis": "x",
         "y": [
          "P0193"
         ],
         "yaxis": "y"
        },
        {
         "alignmentgroup": "True",
         "base": [
          "2025-06-11T00:00:00"
         ],
         "hovertemplate": "patient_id=%{y}<br>ward_in_time=%{base}<br>ward_out_time=%{x}<extra></extra>",
         "legendgroup": "P0450",
         "marker": {
          "color": "#00cc96",
          "pattern": {
           "shape": ""
          }
         },
         "name": "P0450",
         "offsetgroup": "P0450",
         "orientation": "h",
         "showlegend": true,
         "textposition": "auto",
         "type": "bar",
         "x": [
          259200000
         ],
         "xaxis": "x",
         "y": [
          "P0450"
         ],
         "yaxis": "y"
        },
        {
         "alignmentgroup": "True",
         "base": [
          "2025-06-13T00:00:00"
         ],
         "hovertemplate": "patient_id=%{y}<br>ward_in_time=%{base}<br>ward_out_time=%{x}<extra></extra>",
         "legendgroup": "P0121",
         "marker": {
          "color": "#ab63fa",
          "pattern": {
           "shape": ""
          }
         },
         "name": "P0121",
         "offsetgroup": "P0121",
         "orientation": "h",
         "showlegend": true,
         "textposition": "auto",
         "type": "bar",
         "x": [
          432000000
         ],
         "xaxis": "x",
         "y": [
          "P0121"
         ],
         "yaxis": "y"
        },
        {
         "alignmentgroup": "True",
         "base": [
          "2025-06-15T00:00:00"
         ],
         "hovertemplate": "patient_id=%{y}<br>ward_in_time=%{base}<br>ward_out_time=%{x}<extra></extra>",
         "legendgroup": "P0451",
         "marker": {
          "color": "#FFA15A",
          "pattern": {
           "shape": ""
          }
         },
         "name": "P0451",
         "offsetgroup": "P0451",
         "orientation": "h",
         "showlegend": true,
         "textposition": "auto",
         "type": "bar",
         "x": [
          432000000
         ],
         "xaxis": "x",
         "y": [
          "P0451"
         ],
         "yaxis": "y"
        },
        {
         "alignmentgroup": "True",
         "base": [
          "2025-06-15T00:00:00"
         ],
         "hovertemplate": "patient_id=%{y}<br>ward_in_time=%{base}<br>ward_out_time=%{x}<extra></extra>",
         "legendgroup": "P0499",
         "marker": {
          "color": "#19d3f3",
          "pattern": {
           "shape": ""
          }
         },
         "name": "P0499",
         "offsetgroup": "P0499",
         "orientation": "h",
         "showlegend": true,
         "textposition": "auto",
         "type": "bar",
         "x": [
          86400000
         ],
         "xaxis": "x",
         "y": [
          "P0499"
         ],
         "yaxis": "y"
        },
        {
         "alignmentgroup": "True",
         "base": [
          "2025-06-16T00:00:00",
          "2025-06-16T00:00:00",
          "2025-06-26T00:00:00",
          "2025-06-26T00:00:00"
         ],
         "hovertemplate": "patient_id=%{y}<br>ward_in_time=%{base}<br>ward_out_time=%{x}<extra></extra>",
         "legendgroup": "P0181",
         "marker": {
          "color": "#FF6692",
          "pattern": {
           "shape": ""
          }
         },
         "name": "P0181",
         "offsetgroup": "P0181",
         "orientation": "h",
         "showlegend": true,
         "textposition": "auto",
         "type": "bar",
         "x": [
          864000000,
          864000000,
          172800000,
          172800000
         ],
         "xaxis": "x",
         "y": [
          "P0181",
          "P0181",
          "P0181",
          "P0181"
         ],
         "yaxis": "y"
        },
        {
         "alignmentgroup": "True",
         "base": [
          "2025-06-19T00:00:00",
          "2025-06-20T00:00:00",
          "2025-06-21T00:00:00"
         ],
         "hovertemplate": "patient_id=%{y}<br>ward_in_time=%{base}<br>ward_out_time=%{x}<extra></extra>",
         "legendgroup": "P0449",
         "marker": {
          "color": "#B6E880",
          "pattern": {
           "shape": ""
          }
         },
         "name": "P0449",
         "offsetgroup": "P0449",
         "orientation": "h",
         "showlegend": true,
         "textposition": "auto",
         "type": "bar",
         "x": [
          86400000,
          86400000,
          259200000
         ],
         "xaxis": "x",
         "y": [
          "P0449",
          "P0449",
          "P0449"
         ],
         "yaxis": "y"
        },
        {
         "alignmentgroup": "True",
         "base": [
          "2025-06-20T00:00:00"
         ],
         "hovertemplate": "patient_id=%{y}<br>ward_in_time=%{base}<br>ward_out_time=%{x}<extra></extra>",
         "legendgroup": "P0285",
         "marker": {
          "color": "#FF97FF",
          "pattern": {
           "shape": ""
          }
         },
         "name": "P0285",
         "offsetgroup": "P0285",
         "orientation": "h",
         "showlegend": true,
         "textposition": "auto",
         "type": "bar",
         "x": [
          345600000
         ],
         "xaxis": "x",
         "y": [
          "P0285"
         ],
         "yaxis": "y"
        },
        {
         "alignmentgroup": "True",
         "base": [
          "2025-06-20T00:00:00"
         ],
         "hovertemplate": "patient_id=%{y}<br>ward_in_time=%{base}<br>ward_out_time=%{x}<extra></extra>",
         "legendgroup": "P0164",
         "marker": {
          "color": "#FECB52",
          "pattern": {
           "shape": ""
          }
         },
         "name": "P0164",
         "offsetgroup": "P0164",
         "orientation": "h",
         "showlegend": true,
         "textposition": "auto",
         "type": "bar",
         "x": [
          86400000
         ],
         "xaxis": "x",
         "y": [
          "P0164"
         ],
         "yaxis": "y"
        },
        {
         "alignmentgroup": "True",
         "base": [
          "2025-06-20T00:00:00",
          "2025-06-21T00:00:00",
          "2025-06-24T00:00:00"
         ],
         "hovertemplate": "patient_id=%{y}<br>ward_in_time=%{base}<br>ward_out_time=%{x}<extra></extra>",
         "legendgroup": "P0496",
         "marker": {
          "color": "#636efa",
          "pattern": {
           "shape": ""
          }
         },
         "name": "P0496",
         "offsetgroup": "P0496",
         "orientation": "h",
         "showlegend": true,
         "textposition": "auto",
         "type": "bar",
         "x": [
          86400000,
          259200000,
          259200000
         ],
         "xaxis": "x",
         "y": [
          "P0496",
          "P0496",
          "P0496"
         ],
         "yaxis": "y"
        },
        {
         "alignmentgroup": "True",
         "base": [
          "2025-06-21T00:00:00",
          "2025-06-21T00:00:00"
         ],
         "hovertemplate": "patient_id=%{y}<br>ward_in_time=%{base}<br>ward_out_time=%{x}<extra></extra>",
         "legendgroup": "P0252",
         "marker": {
          "color": "#EF553B",
          "pattern": {
           "shape": ""
          }
         },
         "name": "P0252",
         "offsetgroup": "P0252",
         "orientation": "h",
         "showlegend": true,
         "textposition": "auto",
         "type": "bar",
         "x": [
          345600000,
          345600000
         ],
         "xaxis": "x",
         "y": [
          "P0252",
          "P0252"
         ],
         "yaxis": "y"
        },
        {
         "alignmentgroup": "True",
         "base": [
          "2025-06-21T00:00:00"
         ],
         "hovertemplate": "patient_id=%{y}<br>ward_in_time=%{base}<br>ward_out_time=%{x}<extra></extra>",
         "legendgroup": "P0410",
         "marker": {
          "color": "#00cc96",
          "pattern": {
           "shape": ""
          }
         },
         "name": "P0410",
         "offsetgroup": "P0410",
         "orientation": "h",
         "showlegend": true,
         "textposition": "auto",
         "type": "bar",
         "x": [
          345600000
         ],
         "xaxis": "x",
         "y": [
          "P0410"
         ],
         "yaxis": "y"
        },
        {
         "alignmentgroup": "True",
         "base": [
          "2025-06-23T00:00:00"
         ],
         "hovertemplate": "patient_id=%{y}<br>ward_in_time=%{base}<br>ward_out_time=%{x}<extra></extra>",
         "legendgroup": "P0028",
         "marker": {
          "color": "#ab63fa",
          "pattern": {
           "shape": ""
          }
         },
         "name": "P0028",
         "offsetgroup": "P0028",
         "orientation": "h",
         "showlegend": true,
         "textposition": "auto",
         "type": "bar",
         "x": [
          86400000
         ],
         "xaxis": "x",
         "y": [
          "P0028"
         ],
         "yaxis": "y"
        },
        {
         "alignmentgroup": "True",
         "base": [
          "2025-06-25T00:00:00"
         ],
         "hovertemplate": "patient_id=%{y}<br>ward_in_time=%{base}<br>ward_out_time=%{x}<extra></extra>",
         "legendgroup": "P0304",
         "marker": {
          "color": "#FFA15A",
          "pattern": {
           "shape": ""
          }
         },
         "name": "P0304",
         "offsetgroup": "P0304",
         "orientation": "h",
         "showlegend": true,
         "textposition": "auto",
         "type": "bar",
         "x": [
          86400000
         ],
         "xaxis": "x",
         "y": [
          "P0304"
         ],
         "yaxis": "y"
        },
        {
         "alignmentgroup": "True",
         "base": [
          "2025-06-28T00:00:00",
          "2025-06-28T00:00:00"
         ],
         "hovertemplate": "patient_id=%{y}<br>ward_in_time=%{base}<br>ward_out_time=%{x}<extra></extra>",
         "legendgroup": "P0147",
         "marker": {
          "color": "#19d3f3",
          "pattern": {
           "shape": ""
          }
         },
         "name": "P0147",
         "offsetgroup": "P0147",
         "orientation": "h",
         "showlegend": true,
         "textposition": "auto",
         "type": "bar",
         "x": [
          86400000,
          86400000
         ],
         "xaxis": "x",
         "y": [
          "P0147",
          "P0147"
         ],
         "yaxis": "y"
        },
        {
         "marker": {
          "color": "red",
          "size": 10
         },
         "mode": "markers",
         "name": "Positive Test",
         "showlegend": false,
         "type": "scatter",
         "x": [
          "2025-04-05T00:00:00"
         ],
         "y": [
          "P0397"
         ]
        },
        {
         "marker": {
          "color": "red",
          "size": 10
         },
         "mode": "markers",
         "name": "Positive Test",
         "showlegend": false,
         "type": "scatter",
         "x": [
          "2025-04-03T00:00:00"
         ],
         "y": [
          "P0189"
         ]
        },
        {
         "marker": {
          "color": "red",
          "size": 10
         },
         "mode": "markers",
         "name": "Positive Test",
         "showlegend": false,
         "type": "scatter",
         "x": [
          "2025-04-02T00:00:00"
         ],
         "y": [
          "P0401"
         ]
        },
        {
         "marker": {
          "color": "red",
          "size": 10
         },
         "mode": "markers",
         "name": "Positive Test",
         "showlegend": false,
         "type": "scatter",
         "x": [
          "2025-04-02T00:00:00"
         ],
         "y": [
          "P0142"
         ]
        },
        {
         "marker": {
          "color": "red",
          "size": 10
         },
         "mode": "markers",
         "name": "Positive Test",
         "showlegend": false,
         "type": "scatter",
         "x": [
          "2025-04-05T00:00:00"
         ],
         "y": [
          "P0430"
         ]
        },
        {
         "marker": {
          "color": "red",
          "size": 10
         },
         "mode": "markers",
         "name": "Positive Test",
         "showlegend": false,
         "type": "scatter",
         "x": [
          "2025-04-10T00:00:00"
         ],
         "y": [
          "P0376"
         ]
        },
        {
         "marker": {
          "color": "red",
          "size": 10
         },
         "mode": "markers",
         "name": "Positive Test",
         "showlegend": false,
         "type": "scatter",
         "x": [
          "2025-05-19T00:00:00"
         ],
         "y": [
          "P0267"
         ]
        },
        {
         "marker": {
          "color": "red",
          "size": 10
         },
         "mode": "markers",
         "name": "Positive Test",
         "showlegend": false,
         "type": "scatter",
         "x": [
          "2025-04-11T00:00:00"
         ],
         "y": [
          "P0267"
         ]
        },
        {
         "marker": {
          "color": "red",
          "size": 10
         },
         "mode": "markers",
         "name": "Positive Test",
         "showlegend": false,
         "type": "scatter",
         "x": [
          "2025-06-02T00:00:00"
         ],
         "y": [
          "P0173"
         ]
        },
        {
         "marker": {
          "color": "red",
          "size": 10
         },
         "mode": "markers",
         "name": "Positive Test",
         "showlegend": false,
         "type": "scatter",
         "x": [
          "2025-04-12T00:00:00"
         ],
         "y": [
          "P0173"
         ]
        },
        {
         "marker": {
          "color": "red",
          "size": 10
         },
         "mode": "markers",
         "name": "Positive Test",
         "showlegend": false,
         "type": "scatter",
         "x": [
          "2025-04-19T00:00:00"
         ],
         "y": [
          "P0265"
         ]
        },
        {
         "marker": {
          "color": "red",
          "size": 10
         },
         "mode": "markers",
         "name": "Positive Test",
         "showlegend": false,
         "type": "scatter",
         "x": [
          "2025-04-21T00:00:00"
         ],
         "y": [
          "P0017"
         ]
        },
        {
         "marker": {
          "color": "red",
          "size": 10
         },
         "mode": "markers",
         "name": "Positive Test",
         "showlegend": false,
         "type": "scatter",
         "x": [
          "2025-04-28T00:00:00"
         ],
         "y": [
          "P0092"
         ]
        },
        {
         "marker": {
          "color": "red",
          "size": 10
         },
         "mode": "markers",
         "name": "Positive Test",
         "showlegend": false,
         "type": "scatter",
         "x": [
          "2025-04-25T00:00:00"
         ],
         "y": [
          "P0174"
         ]
        },
        {
         "marker": {
          "color": "red",
          "size": 10
         },
         "mode": "markers",
         "name": "Positive Test",
         "showlegend": false,
         "type": "scatter",
         "x": [
          "2025-04-28T00:00:00"
         ],
         "y": [
          "P0391"
         ]
        },
        {
         "marker": {
          "color": "red",
          "size": 10
         },
         "mode": "markers",
         "name": "Positive Test",
         "showlegend": false,
         "type": "scatter",
         "x": [
          "2025-05-03T00:00:00"
         ],
         "y": [
          "P0302"
         ]
        },
        {
         "marker": {
          "color": "red",
          "size": 10
         },
         "mode": "markers",
         "name": "Positive Test",
         "showlegend": false,
         "type": "scatter",
         "x": [
          "2025-05-05T00:00:00"
         ],
         "y": [
          "P0004"
         ]
        },
        {
         "marker": {
          "color": "red",
          "size": 10
         },
         "mode": "markers",
         "name": "Positive Test",
         "showlegend": false,
         "type": "scatter",
         "x": [
          "2025-05-06T00:00:00"
         ],
         "y": [
          "P0088"
         ]
        },
        {
         "marker": {
          "color": "red",
          "size": 10
         },
         "mode": "markers",
         "name": "Positive Test",
         "showlegend": false,
         "type": "scatter",
         "x": [
          "2025-05-10T00:00:00"
         ],
         "y": [
          "P0423"
         ]
        },
        {
         "marker": {
          "color": "red",
          "size": 10
         },
         "mode": "markers",
         "name": "Positive Test",
         "showlegend": false,
         "type": "scatter",
         "x": [
          "2025-05-04T00:00:00"
         ],
         "y": [
          "P0339"
         ]
        },
        {
         "marker": {
          "color": "red",
          "size": 10
         },
         "mode": "markers",
         "name": "Positive Test",
         "showlegend": false,
         "type": "scatter",
         "x": [
          "2025-06-09T00:00:00"
         ],
         "y": [
          "P0199"
         ]
        },
        {
         "marker": {
          "color": "red",
          "size": 10
         },
         "mode": "markers",
         "name": "Positive Test",
         "showlegend": false,
         "type": "scatter",
         "x": [
          "2025-05-12T00:00:00"
         ],
         "y": [
          "P0199"
         ]
        },
        {
         "marker": {
          "color": "red",
          "size": 10
         },
         "mode": "markers",
         "name": "Positive Test",
         "showlegend": false,
         "type": "scatter",
         "x": [
          "2025-05-17T00:00:00"
         ],
         "y": [
          "P0325"
         ]
        },
        {
         "marker": {
          "color": "red",
          "size": 10
         },
         "mode": "markers",
         "name": "Positive Test",
         "showlegend": false,
         "type": "scatter",
         "x": [
          "2025-06-05T00:00:00"
         ],
         "y": [
          "P0381"
         ]
        },
        {
         "marker": {
          "color": "red",
          "size": 10
         },
         "mode": "markers",
         "name": "Positive Test",
         "showlegend": false,
         "type": "scatter",
         "x": [
          "2025-05-18T00:00:00"
         ],
         "y": [
          "P0381"
         ]
        },
        {
         "marker": {
          "color": "red",
          "size": 10
         },
         "mode": "markers",
         "name": "Positive Test",
         "showlegend": false,
         "type": "scatter",
         "x": [
          "2025-05-17T00:00:00"
         ],
         "y": [
          "P0463"
         ]
        },
        {
         "marker": {
          "color": "red",
          "size": 10
         },
         "mode": "markers",
         "name": "Positive Test",
         "showlegend": false,
         "type": "scatter",
         "x": [
          "2025-05-23T00:00:00"
         ],
         "y": [
          "P0392"
         ]
        },
        {
         "marker": {
          "color": "red",
          "size": 10
         },
         "mode": "markers",
         "name": "Positive Test",
         "showlegend": false,
         "type": "scatter",
         "x": [
          "2025-05-25T00:00:00"
         ],
         "y": [
          "P0387"
         ]
        },
        {
         "marker": {
          "color": "red",
          "size": 10
         },
         "mode": "markers",
         "name": "Positive Test",
         "showlegend": false,
         "type": "scatter",
         "x": [
          "2025-05-27T00:00:00"
         ],
         "y": [
          "P0117"
         ]
        },
        {
         "marker": {
          "color": "red",
          "size": 10
         },
         "mode": "markers",
         "name": "Positive Test",
         "showlegend": false,
         "type": "scatter",
         "x": [
          "2025-06-01T00:00:00"
         ],
         "y": [
          "P0460"
         ]
        },
        {
         "marker": {
          "color": "red",
          "size": 10
         },
         "mode": "markers",
         "name": "Positive Test",
         "showlegend": false,
         "type": "scatter",
         "x": [
          "2025-06-05T00:00:00"
         ],
         "y": [
          "P0090"
         ]
        },
        {
         "marker": {
          "color": "red",
          "size": 10
         },
         "mode": "markers",
         "name": "Positive Test",
         "showlegend": false,
         "type": "scatter",
         "x": [
          "2025-06-10T00:00:00"
         ],
         "y": [
          "P0360"
         ]
        },
        {
         "marker": {
          "color": "red",
          "size": 10
         },
         "mode": "markers",
         "name": "Positive Test",
         "showlegend": false,
         "type": "scatter",
         "x": [
          "2025-06-07T00:00:00"
         ],
         "y": [
          "P0023"
         ]
        },
        {
         "marker": {
          "color": "red",
          "size": 10
         },
         "mode": "markers",
         "name": "Positive Test",
         "showlegend": false,
         "type": "scatter",
         "x": [
          "2025-06-10T00:00:00"
         ],
         "y": [
          "P0251"
         ]
        },
        {
         "marker": {
          "color": "red",
          "size": 10
         },
         "mode": "markers",
         "name": "Positive Test",
         "showlegend": false,
         "type": "scatter",
         "x": [
          "2025-06-11T00:00:00"
         ],
         "y": [
          "P0023"
         ]
        },
        {
         "marker": {
          "color": "red",
          "size": 10
         },
         "mode": "markers",
         "name": "Positive Test",
         "showlegend": false,
         "type": "scatter",
         "x": [
          "2025-06-16T00:00:00"
         ],
         "y": [
          "P0106"
         ]
        },
        {
         "marker": {
          "color": "red",
          "size": 10
         },
         "mode": "markers",
         "name": "Positive Test",
         "showlegend": false,
         "type": "scatter",
         "x": [
          "2025-06-13T00:00:00"
         ],
         "y": [
          "P0193"
         ]
        },
        {
         "marker": {
          "color": "red",
          "size": 10
         },
         "mode": "markers",
         "name": "Positive Test",
         "showlegend": false,
         "type": "scatter",
         "x": [
          "2025-06-14T00:00:00"
         ],
         "y": [
          "P0450"
         ]
        },
        {
         "marker": {
          "color": "red",
          "size": 10
         },
         "mode": "markers",
         "name": "Positive Test",
         "showlegend": false,
         "type": "scatter",
         "x": [
          "2025-06-16T00:00:00"
         ],
         "y": [
          "P0106"
         ]
        },
        {
         "marker": {
          "color": "red",
          "size": 10
         },
         "mode": "markers",
         "name": "Positive Test",
         "showlegend": false,
         "type": "scatter",
         "x": [
          "2025-06-17T00:00:00"
         ],
         "y": [
          "P0121"
         ]
        },
        {
         "marker": {
          "color": "red",
          "size": 10
         },
         "mode": "markers",
         "name": "Positive Test",
         "showlegend": false,
         "type": "scatter",
         "x": [
          "2025-05-20T00:00:00"
         ],
         "y": [
          "P0451"
         ]
        },
        {
         "marker": {
          "color": "red",
          "size": 10
         },
         "mode": "markers",
         "name": "Positive Test",
         "showlegend": false,
         "type": "scatter",
         "x": [
          "2025-06-15T00:00:00"
         ],
         "y": [
          "P0499"
         ]
        },
        {
         "marker": {
          "color": "red",
          "size": 10
         },
         "mode": "markers",
         "name": "Positive Test",
         "showlegend": false,
         "type": "scatter",
         "x": [
          "2025-06-25T00:00:00"
         ],
         "y": [
          "P0181"
         ]
        },
        {
         "marker": {
          "color": "red",
          "size": 10
         },
         "mode": "markers",
         "name": "Positive Test",
         "showlegend": false,
         "type": "scatter",
         "x": [
          "2025-06-16T00:00:00"
         ],
         "y": [
          "P0181"
         ]
        },
        {
         "marker": {
          "color": "red",
          "size": 10
         },
         "mode": "markers",
         "name": "Positive Test",
         "showlegend": false,
         "type": "scatter",
         "x": [
          "2025-06-23T00:00:00"
         ],
         "y": [
          "P0449"
         ]
        },
        {
         "marker": {
          "color": "red",
          "size": 10
         },
         "mode": "markers",
         "name": "Positive Test",
         "showlegend": false,
         "type": "scatter",
         "x": [
          "2025-06-23T00:00:00"
         ],
         "y": [
          "P0449"
         ]
        },
        {
         "marker": {
          "color": "red",
          "size": 10
         },
         "mode": "markers",
         "name": "Positive Test",
         "showlegend": false,
         "type": "scatter",
         "x": [
          "2025-06-23T00:00:00"
         ],
         "y": [
          "P0285"
         ]
        },
        {
         "marker": {
          "color": "red",
          "size": 10
         },
         "mode": "markers",
         "name": "Positive Test",
         "showlegend": false,
         "type": "scatter",
         "x": [
          "2025-06-20T00:00:00"
         ],
         "y": [
          "P0164"
         ]
        },
        {
         "marker": {
          "color": "red",
          "size": 10
         },
         "mode": "markers",
         "name": "Positive Test",
         "showlegend": false,
         "type": "scatter",
         "x": [
          "2025-06-25T00:00:00"
         ],
         "y": [
          "P0496"
         ]
        },
        {
         "marker": {
          "color": "red",
          "size": 10
         },
         "mode": "markers",
         "name": "Positive Test",
         "showlegend": false,
         "type": "scatter",
         "x": [
          "2025-06-21T00:00:00"
         ],
         "y": [
          "P0252"
         ]
        },
        {
         "marker": {
          "color": "red",
          "size": 10
         },
         "mode": "markers",
         "name": "Positive Test",
         "showlegend": false,
         "type": "scatter",
         "x": [
          "2025-04-19T00:00:00"
         ],
         "y": [
          "P0410"
         ]
        },
        {
         "marker": {
          "color": "red",
          "size": 10
         },
         "mode": "markers",
         "name": "Positive Test",
         "showlegend": false,
         "type": "scatter",
         "x": [
          "2025-06-16T00:00:00"
         ],
         "y": [
          "P0252"
         ]
        },
        {
         "marker": {
          "color": "red",
          "size": 10
         },
         "mode": "markers",
         "name": "Positive Test",
         "showlegend": false,
         "type": "scatter",
         "x": [
          "2025-06-25T00:00:00"
         ],
         "y": [
          "P0496"
         ]
        },
        {
         "marker": {
          "color": "red",
          "size": 10
         },
         "mode": "markers",
         "name": "Positive Test",
         "showlegend": false,
         "type": "scatter",
         "x": [
          "2025-06-23T00:00:00"
         ],
         "y": [
          "P0449"
         ]
        },
        {
         "marker": {
          "color": "red",
          "size": 10
         },
         "mode": "markers",
         "name": "Positive Test",
         "showlegend": false,
         "type": "scatter",
         "x": [
          "2025-06-22T00:00:00"
         ],
         "y": [
          "P0028"
         ]
        },
        {
         "marker": {
          "color": "red",
          "size": 10
         },
         "mode": "markers",
         "name": "Positive Test",
         "showlegend": false,
         "type": "scatter",
         "x": [
          "2025-06-25T00:00:00"
         ],
         "y": [
          "P0496"
         ]
        },
        {
         "marker": {
          "color": "red",
          "size": 10
         },
         "mode": "markers",
         "name": "Positive Test",
         "showlegend": false,
         "type": "scatter",
         "x": [
          "2025-06-24T00:00:00"
         ],
         "y": [
          "P0304"
         ]
        },
        {
         "marker": {
          "color": "red",
          "size": 10
         },
         "mode": "markers",
         "name": "Positive Test",
         "showlegend": false,
         "type": "scatter",
         "x": [
          "2025-06-16T00:00:00"
         ],
         "y": [
          "P0181"
         ]
        },
        {
         "marker": {
          "color": "red",
          "size": 10
         },
         "mode": "markers",
         "name": "Positive Test",
         "showlegend": false,
         "type": "scatter",
         "x": [
          "2025-06-25T00:00:00"
         ],
         "y": [
          "P0181"
         ]
        },
        {
         "marker": {
          "color": "red",
          "size": 10
         },
         "mode": "markers",
         "name": "Positive Test",
         "showlegend": false,
         "type": "scatter",
         "x": [
          "2025-05-01T00:00:00"
         ],
         "y": [
          "P0147"
         ]
        },
        {
         "marker": {
          "color": "red",
          "size": 10
         },
         "mode": "markers",
         "name": "Positive Test",
         "showlegend": false,
         "type": "scatter",
         "x": [
          "2025-06-28T00:00:00"
         ],
         "y": [
          "P0147"
         ]
        }
       ],
       "layout": {
        "autosize": true,
        "barmode": "overlay",
        "legend": {
         "title": {
          "text": "patient_id"
         },
         "tracegroupgap": 0
        },
        "template": {
         "data": {
          "bar": [
           {
            "error_x": {
             "color": "#2a3f5f"
            },
            "error_y": {
             "color": "#2a3f5f"
            },
            "marker": {
             "line": {
              "color": "#E5ECF6",
              "width": 0.5
             },
             "pattern": {
              "fillmode": "overlay",
              "size": 10,
              "solidity": 0.2
             }
            },
            "type": "bar"
           }
          ],
          "barpolar": [
           {
            "marker": {
             "line": {
              "color": "#E5ECF6",
              "width": 0.5
             },
             "pattern": {
              "fillmode": "overlay",
              "size": 10,
              "solidity": 0.2
             }
            },
            "type": "barpolar"
           }
          ],
          "carpet": [
           {
            "aaxis": {
             "endlinecolor": "#2a3f5f",
             "gridcolor": "white",
             "linecolor": "white",
             "minorgridcolor": "white",
             "startlinecolor": "#2a3f5f"
            },
            "baxis": {
             "endlinecolor": "#2a3f5f",
             "gridcolor": "white",
             "linecolor": "white",
             "minorgridcolor": "white",
             "startlinecolor": "#2a3f5f"
            },
            "type": "carpet"
           }
          ],
          "choropleth": [
           {
            "colorbar": {
             "outlinewidth": 0,
             "ticks": ""
            },
            "type": "choropleth"
           }
          ],
          "contour": [
           {
            "colorbar": {
             "outlinewidth": 0,
             "ticks": ""
            },
            "colorscale": [
             [
              0,
              "#0d0887"
             ],
             [
              0.1111111111111111,
              "#46039f"
             ],
             [
              0.2222222222222222,
              "#7201a8"
             ],
             [
              0.3333333333333333,
              "#9c179e"
             ],
             [
              0.4444444444444444,
              "#bd3786"
             ],
             [
              0.5555555555555556,
              "#d8576b"
             ],
             [
              0.6666666666666666,
              "#ed7953"
             ],
             [
              0.7777777777777778,
              "#fb9f3a"
             ],
             [
              0.8888888888888888,
              "#fdca26"
             ],
             [
              1,
              "#f0f921"
             ]
            ],
            "type": "contour"
           }
          ],
          "contourcarpet": [
           {
            "colorbar": {
             "outlinewidth": 0,
             "ticks": ""
            },
            "type": "contourcarpet"
           }
          ],
          "heatmap": [
           {
            "colorbar": {
             "outlinewidth": 0,
             "ticks": ""
            },
            "colorscale": [
             [
              0,
              "#0d0887"
             ],
             [
              0.1111111111111111,
              "#46039f"
             ],
             [
              0.2222222222222222,
              "#7201a8"
             ],
             [
              0.3333333333333333,
              "#9c179e"
             ],
             [
              0.4444444444444444,
              "#bd3786"
             ],
             [
              0.5555555555555556,
              "#d8576b"
             ],
             [
              0.6666666666666666,
              "#ed7953"
             ],
             [
              0.7777777777777778,
              "#fb9f3a"
             ],
             [
              0.8888888888888888,
              "#fdca26"
             ],
             [
              1,
              "#f0f921"
             ]
            ],
            "type": "heatmap"
           }
          ],
          "heatmapgl": [
           {
            "colorbar": {
             "outlinewidth": 0,
             "ticks": ""
            },
            "colorscale": [
             [
              0,
              "#0d0887"
             ],
             [
              0.1111111111111111,
              "#46039f"
             ],
             [
              0.2222222222222222,
              "#7201a8"
             ],
             [
              0.3333333333333333,
              "#9c179e"
             ],
             [
              0.4444444444444444,
              "#bd3786"
             ],
             [
              0.5555555555555556,
              "#d8576b"
             ],
             [
              0.6666666666666666,
              "#ed7953"
             ],
             [
              0.7777777777777778,
              "#fb9f3a"
             ],
             [
              0.8888888888888888,
              "#fdca26"
             ],
             [
              1,
              "#f0f921"
             ]
            ],
            "type": "heatmapgl"
           }
          ],
          "histogram": [
           {
            "marker": {
             "pattern": {
              "fillmode": "overlay",
              "size": 10,
              "solidity": 0.2
             }
            },
            "type": "histogram"
           }
          ],
          "histogram2d": [
           {
            "colorbar": {
             "outlinewidth": 0,
             "ticks": ""
            },
            "colorscale": [
             [
              0,
              "#0d0887"
             ],
             [
              0.1111111111111111,
              "#46039f"
             ],
             [
              0.2222222222222222,
              "#7201a8"
             ],
             [
              0.3333333333333333,
              "#9c179e"
             ],
             [
              0.4444444444444444,
              "#bd3786"
             ],
             [
              0.5555555555555556,
              "#d8576b"
             ],
             [
              0.6666666666666666,
              "#ed7953"
             ],
             [
              0.7777777777777778,
              "#fb9f3a"
             ],
             [
              0.8888888888888888,
              "#fdca26"
             ],
             [
              1,
              "#f0f921"
             ]
            ],
            "type": "histogram2d"
           }
          ],
          "histogram2dcontour": [
           {
            "colorbar": {
             "outlinewidth": 0,
             "ticks": ""
            },
            "colorscale": [
             [
              0,
              "#0d0887"
             ],
             [
              0.1111111111111111,
              "#46039f"
             ],
             [
              0.2222222222222222,
              "#7201a8"
             ],
             [
              0.3333333333333333,
              "#9c179e"
             ],
             [
              0.4444444444444444,
              "#bd3786"
             ],
             [
              0.5555555555555556,
              "#d8576b"
             ],
             [
              0.6666666666666666,
              "#ed7953"
             ],
             [
              0.7777777777777778,
              "#fb9f3a"
             ],
             [
              0.8888888888888888,
              "#fdca26"
             ],
             [
              1,
              "#f0f921"
             ]
            ],
            "type": "histogram2dcontour"
           }
          ],
          "mesh3d": [
           {
            "colorbar": {
             "outlinewidth": 0,
             "ticks": ""
            },
            "type": "mesh3d"
           }
          ],
          "parcoords": [
           {
            "line": {
             "colorbar": {
              "outlinewidth": 0,
              "ticks": ""
             }
            },
            "type": "parcoords"
           }
          ],
          "pie": [
           {
            "automargin": true,
            "type": "pie"
           }
          ],
          "scatter": [
           {
            "fillpattern": {
             "fillmode": "overlay",
             "size": 10,
             "solidity": 0.2
            },
            "type": "scatter"
           }
          ],
          "scatter3d": [
           {
            "line": {
             "colorbar": {
              "outlinewidth": 0,
              "ticks": ""
             }
            },
            "marker": {
             "colorbar": {
              "outlinewidth": 0,
              "ticks": ""
             }
            },
            "type": "scatter3d"
           }
          ],
          "scattercarpet": [
           {
            "marker": {
             "colorbar": {
              "outlinewidth": 0,
              "ticks": ""
             }
            },
            "type": "scattercarpet"
           }
          ],
          "scattergeo": [
           {
            "marker": {
             "colorbar": {
              "outlinewidth": 0,
              "ticks": ""
             }
            },
            "type": "scattergeo"
           }
          ],
          "scattergl": [
           {
            "marker": {
             "colorbar": {
              "outlinewidth": 0,
              "ticks": ""
             }
            },
            "type": "scattergl"
           }
          ],
          "scattermapbox": [
           {
            "marker": {
             "colorbar": {
              "outlinewidth": 0,
              "ticks": ""
             }
            },
            "type": "scattermapbox"
           }
          ],
          "scatterpolar": [
           {
            "marker": {
             "colorbar": {
              "outlinewidth": 0,
              "ticks": ""
             }
            },
            "type": "scatterpolar"
           }
          ],
          "scatterpolargl": [
           {
            "marker": {
             "colorbar": {
              "outlinewidth": 0,
              "ticks": ""
             }
            },
            "type": "scatterpolargl"
           }
          ],
          "scatterternary": [
           {
            "marker": {
             "colorbar": {
              "outlinewidth": 0,
              "ticks": ""
             }
            },
            "type": "scatterternary"
           }
          ],
          "surface": [
           {
            "colorbar": {
             "outlinewidth": 0,
             "ticks": ""
            },
            "colorscale": [
             [
              0,
              "#0d0887"
             ],
             [
              0.1111111111111111,
              "#46039f"
             ],
             [
              0.2222222222222222,
              "#7201a8"
             ],
             [
              0.3333333333333333,
              "#9c179e"
             ],
             [
              0.4444444444444444,
              "#bd3786"
             ],
             [
              0.5555555555555556,
              "#d8576b"
             ],
             [
              0.6666666666666666,
              "#ed7953"
             ],
             [
              0.7777777777777778,
              "#fb9f3a"
             ],
             [
              0.8888888888888888,
              "#fdca26"
             ],
             [
              1,
              "#f0f921"
             ]
            ],
            "type": "surface"
           }
          ],
          "table": [
           {
            "cells": {
             "fill": {
              "color": "#EBF0F8"
             },
             "line": {
              "color": "white"
             }
            },
            "header": {
             "fill": {
              "color": "#C8D4E3"
             },
             "line": {
              "color": "white"
             }
            },
            "type": "table"
           }
          ]
         },
         "layout": {
          "annotationdefaults": {
           "arrowcolor": "#2a3f5f",
           "arrowhead": 0,
           "arrowwidth": 1
          },
          "autotypenumbers": "strict",
          "coloraxis": {
           "colorbar": {
            "outlinewidth": 0,
            "ticks": ""
           }
          },
          "colorscale": {
           "diverging": [
            [
             0,
             "#8e0152"
            ],
            [
             0.1,
             "#c51b7d"
            ],
            [
             0.2,
             "#de77ae"
            ],
            [
             0.3,
             "#f1b6da"
            ],
            [
             0.4,
             "#fde0ef"
            ],
            [
             0.5,
             "#f7f7f7"
            ],
            [
             0.6,
             "#e6f5d0"
            ],
            [
             0.7,
             "#b8e186"
            ],
            [
             0.8,
             "#7fbc41"
            ],
            [
             0.9,
             "#4d9221"
            ],
            [
             1,
             "#276419"
            ]
           ],
           "sequential": [
            [
             0,
             "#0d0887"
            ],
            [
             0.1111111111111111,
             "#46039f"
            ],
            [
             0.2222222222222222,
             "#7201a8"
            ],
            [
             0.3333333333333333,
             "#9c179e"
            ],
            [
             0.4444444444444444,
             "#bd3786"
            ],
            [
             0.5555555555555556,
             "#d8576b"
            ],
            [
             0.6666666666666666,
             "#ed7953"
            ],
            [
             0.7777777777777778,
             "#fb9f3a"
            ],
            [
             0.8888888888888888,
             "#fdca26"
            ],
            [
             1,
             "#f0f921"
            ]
           ],
           "sequentialminus": [
            [
             0,
             "#0d0887"
            ],
            [
             0.1111111111111111,
             "#46039f"
            ],
            [
             0.2222222222222222,
             "#7201a8"
            ],
            [
             0.3333333333333333,
             "#9c179e"
            ],
            [
             0.4444444444444444,
             "#bd3786"
            ],
            [
             0.5555555555555556,
             "#d8576b"
            ],
            [
             0.6666666666666666,
             "#ed7953"
            ],
            [
             0.7777777777777778,
             "#fb9f3a"
            ],
            [
             0.8888888888888888,
             "#fdca26"
            ],
            [
             1,
             "#f0f921"
            ]
           ]
          },
          "colorway": [
           "#636efa",
           "#EF553B",
           "#00cc96",
           "#ab63fa",
           "#FFA15A",
           "#19d3f3",
           "#FF6692",
           "#B6E880",
           "#FF97FF",
           "#FECB52"
          ],
          "font": {
           "color": "#2a3f5f"
          },
          "geo": {
           "bgcolor": "white",
           "lakecolor": "white",
           "landcolor": "#E5ECF6",
           "showlakes": true,
           "showland": true,
           "subunitcolor": "white"
          },
          "hoverlabel": {
           "align": "left"
          },
          "hovermode": "closest",
          "mapbox": {
           "style": "light"
          },
          "paper_bgcolor": "white",
          "plot_bgcolor": "#E5ECF6",
          "polar": {
           "angularaxis": {
            "gridcolor": "white",
            "linecolor": "white",
            "ticks": ""
           },
           "bgcolor": "#E5ECF6",
           "radialaxis": {
            "gridcolor": "white",
            "linecolor": "white",
            "ticks": ""
           }
          },
          "scene": {
           "xaxis": {
            "backgroundcolor": "#E5ECF6",
            "gridcolor": "white",
            "gridwidth": 2,
            "linecolor": "white",
            "showbackground": true,
            "ticks": "",
            "zerolinecolor": "white"
           },
           "yaxis": {
            "backgroundcolor": "#E5ECF6",
            "gridcolor": "white",
            "gridwidth": 2,
            "linecolor": "white",
            "showbackground": true,
            "ticks": "",
            "zerolinecolor": "white"
           },
           "zaxis": {
            "backgroundcolor": "#E5ECF6",
            "gridcolor": "white",
            "gridwidth": 2,
            "linecolor": "white",
            "showbackground": true,
            "ticks": "",
            "zerolinecolor": "white"
           }
          },
          "shapedefaults": {
           "line": {
            "color": "#2a3f5f"
           }
          },
          "ternary": {
           "aaxis": {
            "gridcolor": "white",
            "linecolor": "white",
            "ticks": ""
           },
           "baxis": {
            "gridcolor": "white",
            "linecolor": "white",
            "ticks": ""
           },
           "bgcolor": "#E5ECF6",
           "caxis": {
            "gridcolor": "white",
            "linecolor": "white",
            "ticks": ""
           }
          },
          "title": {
           "x": 0.05
          },
          "xaxis": {
           "automargin": true,
           "gridcolor": "white",
           "linecolor": "white",
           "ticks": "",
           "title": {
            "standoff": 15
           },
           "zerolinecolor": "white",
           "zerolinewidth": 2
          },
          "yaxis": {
           "automargin": true,
           "gridcolor": "white",
           "linecolor": "white",
           "ticks": "",
           "title": {
            "standoff": 15
           },
           "zerolinecolor": "white",
           "zerolinewidth": 2
          }
         }
        },
        "title": {
         "text": "Infection: CRE | Location ICU"
        },
        "xaxis": {
         "anchor": "y",
         "autorange": true,
         "domain": [
          0,
          1
         ],
         "range": [
          "2025-03-26 23:35:27.2727",
          "2025-07-04 00:24:32.7273"
         ],
         "title": {
          "text": "Date"
         },
         "type": "date"
        },
        "yaxis": {
         "anchor": "x",
         "autorange": true,
         "categoryarray": [
          "P0147",
          "P0304",
          "P0028",
          "P0410",
          "P0252",
          "P0496",
          "P0164",
          "P0285",
          "P0449",
          "P0181",
          "P0499",
          "P0451",
          "P0121",
          "P0450",
          "P0193",
          "P0106",
          "P0251",
          "P0023",
          "P0360",
          "P0090",
          "P0460",
          "P0117",
          "P0387",
          "P0392",
          "P0463",
          "P0381",
          "P0325",
          "P0199",
          "P0339",
          "P0423",
          "P0088",
          "P0004",
          "P0302",
          "P0391",
          "P0174",
          "P0092",
          "P0017",
          "P0265",
          "P0173",
          "P0267",
          "P0376",
          "P0430",
          "P0142",
          "P0401",
          "P0189",
          "P0397"
         ],
         "categoryorder": "array",
         "domain": [
          0,
          1
         ],
         "range": [
          49.59030100334448,
          -4.590301003344482
         ],
         "title": {
          "text": "Patient ID"
         },
         "type": "category"
        }
       }
      },
      "image/png": "[encoded data removed]",
      "text/html": [
       "<div>                            <div id=\"e460251f-3b9a-41b1-8e93-9abb15c09f49\" class=\"plotly-graph-div\" style=\"height:2840px; width:100%;\"></div>            <script type=\"text/javascript\">                require([\"plotly\"], function(Plotly) {                    window.PLOTLYENV=window.PLOTLYENV || {};                                    if (document.getElementById(\"e460251f-3b9a-41b1-8e93-9abb15c09f49\")) {                    Plotly.newPlot(                        \"e460251f-3b9a-41b1-8e93-9abb15c09f49\",                        [{\"alignmentgroup\":\"True\",\"base\":[\"2025-04-01T00:00:00\"],\"hovertemplate\":\"patient_id=%{y}\\u003cbr\\u003eward_in_time=%{base}\\u003cbr\\u003eward_out_time=%{x}\\u003cextra\\u003e\\u003c\\u002fextra\\u003e\",\"legendgroup\":\"P0397\",\"marker\":{\"color\":\"#636efa\",\"pattern\":{\"shape\":\"\"}},\"name\":\"P0397\",\"offsetgroup\":\"P0397\",\"orientation\":\"h\",\"showlegend\":true,\"textposition\":\"auto\",\"x\":[604800000.0],\"xaxis\":\"x\",\"y\":[\"P0397\"],\"yaxis\":\"y\",\"type\":\"bar\"},{\"alignmentgroup\":\"True\",\"base\":[\"2025-04-01T00:00:00\"],\"hovertemplate\":\"patient_id=%{y}\\u003cbr\\u003eward_in_time=%{base}\\u003cbr\\u003eward_out_time=%{x}\\u003cextra\\u003e\\u003c\\u002fextra\\u003e\",\"legendgroup\":\"P0189\",\"marker\":{\"color\":\"#EF553B\",\"pattern\":{\"shape\":\"\"}},\"name\":\"P0189\",\"offsetgroup\":\"P0189\",\"orientation\":\"h\",\"showlegend\":true,\"textposition\":\"auto\",\"x\":[345600000.0],\"xaxis\":\"x\",\"y\":[\"P0189\"],\"yaxis\":\"y\",\"type\":\"bar\"},{\"alignmentgroup\":\"True\",\"base\":[\"2025-04-02T00:00:00\"],\"hovertemplate\":\"patient_id=%{y}\\u003cbr\\u003eward_in_time=%{base}\\u003cbr\\u003eward_out_time=%{x}\\u003cextra\\u003e\\u003c\\u002fextra\\u003e\",\"legendgroup\":\"P0401\",\"marker\":{\"color\":\"#00cc96\",\"pattern\":{\"shape\":\"\"}},\"name\":\"P0401\",\"offsetgroup\":\"P0401\",\"orientation\":\"h\",\"showlegend\":true,\"textposition\":\"auto\",\"x\":[86400000.0],\"xaxis\":\"x\",\"y\":[\"P0401\"],\"yaxis\":\"y\",\"type\":\"bar\"},{\"alignmentgroup\":\"True\",\"base\":[\"2025-04-02T00:00:00\"],\"hovertemplate\":\"patient_id=%{y}\\u003cbr\\u003eward_in_time=%{base}\\u003cbr\\u003eward_out_time=%{x}\\u003cextra\\u003e\\u003c\\u002fextra\\u003e\",\"legendgroup\":\"P0142\",\"marker\":{\"color\":\"#ab63fa\",\"pattern\":{\"shape\":\"\"}},\"name\":\"P0142\",\"offsetgroup\":\"P0142\",\"orientation\":\"h\",\"showlegend\":true,\"textposition\":\"auto\",\"x\":[604800000.0],\"xaxis\":\"x\",\"y\":[\"P0142\"],\"yaxis\":\"y\",\"type\":\"bar\"},{\"alignmentgroup\":\"True\",\"base\":[\"2025-04-05T00:00:00\"],\"hovertemplate\":\"patient_id=%{y}\\u003cbr\\u003eward_in_time=%{base}\\u003cbr\\u003eward_out_time=%{x}\\u003cextra\\u003e\\u003c\\u002fextra\\u003e\",\"legendgroup\":\"P0430\",\"marker\":{\"color\":\"#FFA15A\",\"pattern\":{\"shape\":\"\"}},\"name\":\"P0430\",\"offsetgroup\":\"P0430\",\"orientation\":\"h\",\"showlegend\":true,\"textposition\":\"auto\",\"x\":[172800000.0],\"xaxis\":\"x\",\"y\":[\"P0430\"],\"yaxis\":\"y\",\"type\":\"bar\"},{\"alignmentgroup\":\"True\",\"base\":[\"2025-04-07T00:00:00\"],\"hovertemplate\":\"patient_id=%{y}\\u003cbr\\u003eward_in_time=%{base}\\u003cbr\\u003eward_out_time=%{x}\\u003cextra\\u003e\\u003c\\u002fextra\\u003e\",\"legendgroup\":\"P0376\",\"marker\":{\"color\":\"#19d3f3\",\"pattern\":{\"shape\":\"\"}},\"name\":\"P0376\",\"offsetgroup\":\"P0376\",\"orientation\":\"h\",\"showlegend\":true,\"textposition\":\"auto\",\"x\":[345600000.0],\"xaxis\":\"x\",\"y\":[\"P0376\"],\"yaxis\":\"y\",\"type\":\"bar\"},{\"alignmentgroup\":\"True\",\"base\":[\"2025-04-09T00:00:00\",\"2025-04-09T00:00:00\"],\"hovertemplate\":\"patient_id=%{y}\\u003cbr\\u003eward_in_time=%{base}\\u003cbr\\u003eward_out_time=%{x}\\u003cextra\\u003e\\u003c\\u002fextra\\u003e\",\"legendgroup\":\"P0267\",\"marker\":{\"color\":\"#FF6692\",\"pattern\":{\"shape\":\"\"}},\"name\":\"P0267\",\"offsetgroup\":\"P0267\",\"orientation\":\"h\",\"showlegend\":true,\"textposition\":\"auto\",\"x\":[86400000.0,86400000.0],\"xaxis\":\"x\",\"y\":[\"P0267\",\"P0267\"],\"yaxis\":\"y\",\"type\":\"bar\"},{\"alignmentgroup\":\"True\",\"base\":[\"2025-04-12T00:00:00\",\"2025-04-12T00:00:00\"],\"hovertemplate\":\"patient_id=%{y}\\u003cbr\\u003eward_in_time=%{base}\\u003cbr\\u003eward_out_time=%{x}\\u003cextra\\u003e\\u003c\\u002fextra\\u003e\",\"legendgroup\":\"P0173\",\"marker\":{\"color\":\"#B6E880\",\"pattern\":{\"shape\":\"\"}},\"name\":\"P0173\",\"offsetgroup\":\"P0173\",\"orientation\":\"h\",\"showlegend\":true,\"textposition\":\"auto\",\"x\":[86400000.0,86400000.0],\"xaxis\":\"x\",\"y\":[\"P0173\",\"P0173\"],\"yaxis\":\"y\",\"type\":\"bar\"},{\"alignmentgroup\":\"True\",\"base\":[\"2025-04-17T00:00:00\"],\"hovertemplate\":\"patient_id=%{y}\\u003cbr\\u003eward_in_time=%{base}\\u003cbr\\u003eward_out_time=%{x}\\u003cextra\\u003e\\u003c\\u002fextra\\u003e\",\"legendgroup\":\"P0265\",\"marker\":{\"color\":\"#FF97FF\",\"pattern\":{\"shape\":\"\"}},\"name\":\"P0265\",\"offsetgroup\":\"P0265\",\"orientation\":\"h\",\"showlegend\":true,\"textposition\":\"auto\",\"x\":[172800000.0],\"xaxis\":\"x\",\"y\":[\"P0265\"],\"yaxis\":\"y\",\"type\":\"bar\"},{\"alignmentgroup\":\"True\",\"base\":[\"2025-04-20T00:00:00\"],\"hovertemplate\":\"patient_id=%{y}\\u003cbr\\u003eward_in_time=%{base}\\u003cbr\\u003eward_out_time=%{x}\\u003cextra\\u003e\\u003c\\u002fextra\\u003e\",\"legendgroup\":\"P0017\",\"marker\":{\"color\":\"#FECB52\",\"pattern\":{\"shape\":\"\"}},\"name\":\"P0017\",\"offsetgroup\":\"P0017\",\"orientation\":\"h\",\"showlegend\":true,\"textposition\":\"auto\",\"x\":[432000000.0],\"xaxis\":\"x\",\"y\":[\"P0017\"],\"yaxis\":\"y\",\"type\":\"bar\"},{\"alignmentgroup\":\"True\",\"base\":[\"2025-04-23T00:00:00\"],\"hovertemplate\":\"patient_id=%{y}\\u003cbr\\u003eward_in_time=%{base}\\u003cbr\\u003eward_out_time=%{x}\\u003cextra\\u003e\\u003c\\u002fextra\\u003e\",\"legendgroup\":\"P0092\",\"marker\":{\"color\":\"#636efa\",\"pattern\":{\"shape\":\"\"}},\"name\":\"P0092\",\"offsetgroup\":\"P0092\",\"orientation\":\"h\",\"showlegend\":true,\"textposition\":\"auto\",\"x\":[259200000.0],\"xaxis\":\"x\",\"y\":[\"P0092\"],\"yaxis\":\"y\",\"type\":\"bar\"},{\"alignmentgroup\":\"True\",\"base\":[\"2025-04-24T00:00:00\"],\"hovertemplate\":\"patient_id=%{y}\\u003cbr\\u003eward_in_time=%{base}\\u003cbr\\u003eward_out_time=%{x}\\u003cextra\\u003e\\u003c\\u002fextra\\u003e\",\"legendgroup\":\"P0174\",\"marker\":{\"color\":\"#EF553B\",\"pattern\":{\"shape\":\"\"}},\"name\":\"P0174\",\"offsetgroup\":\"P0174\",\"orientation\":\"h\",\"showlegend\":true,\"textposition\":\"auto\",\"x\":[691200000.0],\"xaxis\":\"x\",\"y\":[\"P0174\"],\"yaxis\":\"y\",\"type\":\"bar\"},{\"alignmentgroup\":\"True\",\"base\":[\"2025-04-29T00:00:00\"],\"hovertemplate\":\"patient_id=%{y}\\u003cbr\\u003eward_in_time=%{base}\\u003cbr\\u003eward_out_time=%{x}\\u003cextra\\u003e\\u003c\\u002fextra\\u003e\",\"legendgroup\":\"P0391\",\"marker\":{\"color\":\"#00cc96\",\"pattern\":{\"shape\":\"\"}},\"name\":\"P0391\",\"offsetgroup\":\"P0391\",\"orientation\":\"h\",\"showlegend\":true,\"textposition\":\"auto\",\"x\":[518400000.0],\"xaxis\":\"x\",\"y\":[\"P0391\"],\"yaxis\":\"y\",\"type\":\"bar\"},{\"alignmentgroup\":\"True\",\"base\":[\"2025-05-01T00:00:00\"],\"hovertemplate\":\"patient_id=%{y}\\u003cbr\\u003eward_in_time=%{base}\\u003cbr\\u003eward_out_time=%{x}\\u003cextra\\u003e\\u003c\\u002fextra\\u003e\",\"legendgroup\":\"P0302\",\"marker\":{\"color\":\"#ab63fa\",\"pattern\":{\"shape\":\"\"}},\"name\":\"P0302\",\"offsetgroup\":\"P0302\",\"orientation\":\"h\",\"showlegend\":true,\"textposition\":\"auto\",\"x\":[432000000.0],\"xaxis\":\"x\",\"y\":[\"P0302\"],\"yaxis\":\"y\",\"type\":\"bar\"},{\"alignmentgroup\":\"True\",\"base\":[\"2025-05-03T00:00:00\"],\"hovertemplate\":\"patient_id=%{y}\\u003cbr\\u003eward_in_time=%{base}\\u003cbr\\u003eward_out_time=%{x}\\u003cextra\\u003e\\u003c\\u002fextra\\u003e\",\"legendgroup\":\"P0004\",\"marker\":{\"color\":\"#FFA15A\",\"pattern\":{\"shape\":\"\"}},\"name\":\"P0004\",\"offsetgroup\":\"P0004\",\"orientation\":\"h\",\"showlegend\":true,\"textposition\":\"auto\",\"x\":[691200000.0],\"xaxis\":\"x\",\"y\":[\"P0004\"],\"yaxis\":\"y\",\"type\":\"bar\"},{\"alignmentgroup\":\"True\",\"base\":[\"2025-05-06T00:00:00\"],\"hovertemplate\":\"patient_id=%{y}\\u003cbr\\u003eward_in_time=%{base}\\u003cbr\\u003eward_out_time=%{x}\\u003cextra\\u003e\\u003c\\u002fextra\\u003e\",\"legendgroup\":\"P0088\",\"marker\":{\"color\":\"#19d3f3\",\"pattern\":{\"shape\":\"\"}},\"name\":\"P0088\",\"offsetgroup\":\"P0088\",\"orientation\":\"h\",\"showlegend\":true,\"textposition\":\"auto\",\"x\":[86400000.0],\"xaxis\":\"x\",\"y\":[\"P0088\"],\"yaxis\":\"y\",\"type\":\"bar\"},{\"alignmentgroup\":\"True\",\"base\":[\"2025-05-07T00:00:00\"],\"hovertemplate\":\"patient_id=%{y}\\u003cbr\\u003eward_in_time=%{base}\\u003cbr\\u003eward_out_time=%{x}\\u003cextra\\u003e\\u003c\\u002fextra\\u003e\",\"legendgroup\":\"P0423\",\"marker\":{\"color\":\"#FF6692\",\"pattern\":{\"shape\":\"\"}},\"name\":\"P0423\",\"offsetgroup\":\"P0423\",\"orientation\":\"h\",\"showlegend\":true,\"textposition\":\"auto\",\"x\":[604800000.0],\"xaxis\":\"x\",\"y\":[\"P0423\"],\"yaxis\":\"y\",\"type\":\"bar\"},{\"alignmentgroup\":\"True\",\"base\":[\"2025-05-08T00:00:00\"],\"hovertemplate\":\"patient_id=%{y}\\u003cbr\\u003eward_in_time=%{base}\\u003cbr\\u003eward_out_time=%{x}\\u003cextra\\u003e\\u003c\\u002fextra\\u003e\",\"legendgroup\":\"P0339\",\"marker\":{\"color\":\"#B6E880\",\"pattern\":{\"shape\":\"\"}},\"name\":\"P0339\",\"offsetgroup\":\"P0339\",\"orientation\":\"h\",\"showlegend\":true,\"textposition\":\"auto\",\"x\":[86400000.0],\"xaxis\":\"x\",\"y\":[\"P0339\"],\"yaxis\":\"y\",\"type\":\"bar\"},{\"alignmentgroup\":\"True\",\"base\":[\"2025-05-11T00:00:00\",\"2025-05-11T00:00:00\"],\"hovertemplate\":\"patient_id=%{y}\\u003cbr\\u003eward_in_time=%{base}\\u003cbr\\u003eward_out_time=%{x}\\u003cextra\\u003e\\u003c\\u002fextra\\u003e\",\"legendgroup\":\"P0199\",\"marker\":{\"color\":\"#FF97FF\",\"pattern\":{\"shape\":\"\"}},\"name\":\"P0199\",\"offsetgroup\":\"P0199\",\"orientation\":\"h\",\"showlegend\":true,\"textposition\":\"auto\",\"x\":[172800000.0,172800000.0],\"xaxis\":\"x\",\"y\":[\"P0199\",\"P0199\"],\"yaxis\":\"y\",\"type\":\"bar\"},{\"alignmentgroup\":\"True\",\"base\":[\"2025-05-14T00:00:00\"],\"hovertemplate\":\"patient_id=%{y}\\u003cbr\\u003eward_in_time=%{base}\\u003cbr\\u003eward_out_time=%{x}\\u003cextra\\u003e\\u003c\\u002fextra\\u003e\",\"legendgroup\":\"P0325\",\"marker\":{\"color\":\"#FECB52\",\"pattern\":{\"shape\":\"\"}},\"name\":\"P0325\",\"offsetgroup\":\"P0325\",\"orientation\":\"h\",\"showlegend\":true,\"textposition\":\"auto\",\"x\":[172800000.0],\"xaxis\":\"x\",\"y\":[\"P0325\"],\"yaxis\":\"y\",\"type\":\"bar\"},{\"alignmentgroup\":\"True\",\"base\":[\"2025-05-16T00:00:00\",\"2025-05-16T00:00:00\"],\"hovertemplate\":\"patient_id=%{y}\\u003cbr\\u003eward_in_time=%{base}\\u003cbr\\u003eward_out_time=%{x}\\u003cextra\\u003e\\u003c\\u002fextra\\u003e\",\"legendgroup\":\"P0381\",\"marker\":{\"color\":\"#636efa\",\"pattern\":{\"shape\":\"\"}},\"name\":\"P0381\",\"offsetgroup\":\"P0381\",\"orientation\":\"h\",\"showlegend\":true,\"textposition\":\"auto\",\"x\":[345600000.0,345600000.0],\"xaxis\":\"x\",\"y\":[\"P0381\",\"P0381\"],\"yaxis\":\"y\",\"type\":\"bar\"},{\"alignmentgroup\":\"True\",\"base\":[\"2025-05-16T00:00:00\"],\"hovertemplate\":\"patient_id=%{y}\\u003cbr\\u003eward_in_time=%{base}\\u003cbr\\u003eward_out_time=%{x}\\u003cextra\\u003e\\u003c\\u002fextra\\u003e\",\"legendgroup\":\"P0463\",\"marker\":{\"color\":\"#EF553B\",\"pattern\":{\"shape\":\"\"}},\"name\":\"P0463\",\"offsetgroup\":\"P0463\",\"orientation\":\"h\",\"showlegend\":true,\"textposition\":\"auto\",\"x\":[259200000.0],\"xaxis\":\"x\",\"y\":[\"P0463\"],\"yaxis\":\"y\",\"type\":\"bar\"},{\"alignmentgroup\":\"True\",\"base\":[\"2025-05-23T00:00:00\"],\"hovertemplate\":\"patient_id=%{y}\\u003cbr\\u003eward_in_time=%{base}\\u003cbr\\u003eward_out_time=%{x}\\u003cextra\\u003e\\u003c\\u002fextra\\u003e\",\"legendgroup\":\"P0392\",\"marker\":{\"color\":\"#00cc96\",\"pattern\":{\"shape\":\"\"}},\"name\":\"P0392\",\"offsetgroup\":\"P0392\",\"orientation\":\"h\",\"showlegend\":true,\"textposition\":\"auto\",\"x\":[518400000.0],\"xaxis\":\"x\",\"y\":[\"P0392\"],\"yaxis\":\"y\",\"type\":\"bar\"},{\"alignmentgroup\":\"True\",\"base\":[\"2025-05-25T00:00:00\"],\"hovertemplate\":\"patient_id=%{y}\\u003cbr\\u003eward_in_time=%{base}\\u003cbr\\u003eward_out_time=%{x}\\u003cextra\\u003e\\u003c\\u002fextra\\u003e\",\"legendgroup\":\"P0387\",\"marker\":{\"color\":\"#ab63fa\",\"pattern\":{\"shape\":\"\"}},\"name\":\"P0387\",\"offsetgroup\":\"P0387\",\"orientation\":\"h\",\"showlegend\":true,\"textposition\":\"auto\",\"x\":[86400000.0],\"xaxis\":\"x\",\"y\":[\"P0387\"],\"yaxis\":\"y\",\"type\":\"bar\"},{\"alignmentgroup\":\"True\",\"base\":[\"2025-05-27T00:00:00\"],\"hovertemplate\":\"patient_id=%{y}\\u003cbr\\u003eward_in_time=%{base}\\u003cbr\\u003eward_out_time=%{x}\\u003cextra\\u003e\\u003c\\u002fextra\\u003e\",\"legendgroup\":\"P0117\",\"marker\":{\"color\":\"#FFA15A\",\"pattern\":{\"shape\":\"\"}},\"name\":\"P0117\",\"offsetgroup\":\"P0117\",\"orientation\":\"h\",\"showlegend\":true,\"textposition\":\"auto\",\"x\":[86400000.0],\"xaxis\":\"x\",\"y\":[\"P0117\"],\"yaxis\":\"y\",\"type\":\"bar\"},{\"alignmentgroup\":\"True\",\"base\":[\"2025-05-31T00:00:00\"],\"hovertemplate\":\"patient_id=%{y}\\u003cbr\\u003eward_in_time=%{base}\\u003cbr\\u003eward_out_time=%{x}\\u003cextra\\u003e\\u003c\\u002fextra\\u003e\",\"legendgroup\":\"P0460\",\"marker\":{\"color\":\"#19d3f3\",\"pattern\":{\"shape\":\"\"}},\"name\":\"P0460\",\"offsetgroup\":\"P0460\",\"orientation\":\"h\",\"showlegend\":true,\"textposition\":\"auto\",\"x\":[432000000.0],\"xaxis\":\"x\",\"y\":[\"P0460\"],\"yaxis\":\"y\",\"type\":\"bar\"},{\"alignmentgroup\":\"True\",\"base\":[\"2025-06-04T00:00:00\"],\"hovertemplate\":\"patient_id=%{y}\\u003cbr\\u003eward_in_time=%{base}\\u003cbr\\u003eward_out_time=%{x}\\u003cextra\\u003e\\u003c\\u002fextra\\u003e\",\"legendgroup\":\"P0090\",\"marker\":{\"color\":\"#FF6692\",\"pattern\":{\"shape\":\"\"}},\"name\":\"P0090\",\"offsetgroup\":\"P0090\",\"orientation\":\"h\",\"showlegend\":true,\"textposition\":\"auto\",\"x\":[86400000.0],\"xaxis\":\"x\",\"y\":[\"P0090\"],\"yaxis\":\"y\",\"type\":\"bar\"},{\"alignmentgroup\":\"True\",\"base\":[\"2025-06-06T00:00:00\"],\"hovertemplate\":\"patient_id=%{y}\\u003cbr\\u003eward_in_time=%{base}\\u003cbr\\u003eward_out_time=%{x}\\u003cextra\\u003e\\u003c\\u002fextra\\u003e\",\"legendgroup\":\"P0360\",\"marker\":{\"color\":\"#B6E880\",\"pattern\":{\"shape\":\"\"}},\"name\":\"P0360\",\"offsetgroup\":\"P0360\",\"orientation\":\"h\",\"showlegend\":true,\"textposition\":\"auto\",\"x\":[691200000.0],\"xaxis\":\"x\",\"y\":[\"P0360\"],\"yaxis\":\"y\",\"type\":\"bar\"},{\"alignmentgroup\":\"True\",\"base\":[\"2025-06-07T00:00:00\",\"2025-06-07T00:00:00\"],\"hovertemplate\":\"patient_id=%{y}\\u003cbr\\u003eward_in_time=%{base}\\u003cbr\\u003eward_out_time=%{x}\\u003cextra\\u003e\\u003c\\u002fextra\\u003e\",\"legendgroup\":\"P0023\",\"marker\":{\"color\":\"#FF97FF\",\"pattern\":{\"shape\":\"\"}},\"name\":\"P0023\",\"offsetgroup\":\"P0023\",\"orientation\":\"h\",\"showlegend\":true,\"textposition\":\"auto\",\"x\":[86400000.0,86400000.0],\"xaxis\":\"x\",\"y\":[\"P0023\",\"P0023\"],\"yaxis\":\"y\",\"type\":\"bar\"},{\"alignmentgroup\":\"True\",\"base\":[\"2025-06-07T00:00:00\"],\"hovertemplate\":\"patient_id=%{y}\\u003cbr\\u003eward_in_time=%{base}\\u003cbr\\u003eward_out_time=%{x}\\u003cextra\\u003e\\u003c\\u002fextra\\u003e\",\"legendgroup\":\"P0251\",\"marker\":{\"color\":\"#FECB52\",\"pattern\":{\"shape\":\"\"}},\"name\":\"P0251\",\"offsetgroup\":\"P0251\",\"orientation\":\"h\",\"showlegend\":true,\"textposition\":\"auto\",\"x\":[604800000.0],\"xaxis\":\"x\",\"y\":[\"P0251\"],\"yaxis\":\"y\",\"type\":\"bar\"},{\"alignmentgroup\":\"True\",\"base\":[\"2025-06-07T00:00:00\",\"2025-06-12T00:00:00\"],\"hovertemplate\":\"patient_id=%{y}\\u003cbr\\u003eward_in_time=%{base}\\u003cbr\\u003eward_out_time=%{x}\\u003cextra\\u003e\\u003c\\u002fextra\\u003e\",\"legendgroup\":\"P0106\",\"marker\":{\"color\":\"#636efa\",\"pattern\":{\"shape\":\"\"}},\"name\":\"P0106\",\"offsetgroup\":\"P0106\",\"orientation\":\"h\",\"showlegend\":true,\"textposition\":\"auto\",\"x\":[432000000.0,432000000.0],\"xaxis\":\"x\",\"y\":[\"P0106\",\"P0106\"],\"yaxis\":\"y\",\"type\":\"bar\"},{\"alignmentgroup\":\"True\",\"base\":[\"2025-06-10T00:00:00\"],\"hovertemplate\":\"patient_id=%{y}\\u003cbr\\u003eward_in_time=%{base}\\u003cbr\\u003eward_out_time=%{x}\\u003cextra\\u003e\\u003c\\u002fextra\\u003e\",\"legendgroup\":\"P0193\",\"marker\":{\"color\":\"#EF553B\",\"pattern\":{\"shape\":\"\"}},\"name\":\"P0193\",\"offsetgroup\":\"P0193\",\"orientation\":\"h\",\"showlegend\":true,\"textposition\":\"auto\",\"x\":[345600000.0],\"xaxis\":\"x\",\"y\":[\"P0193\"],\"yaxis\":\"y\",\"type\":\"bar\"},{\"alignmentgroup\":\"True\",\"base\":[\"2025-06-11T00:00:00\"],\"hovertemplate\":\"patient_id=%{y}\\u003cbr\\u003eward_in_time=%{base}\\u003cbr\\u003eward_out_time=%{x}\\u003cextra\\u003e\\u003c\\u002fextra\\u003e\",\"legendgroup\":\"P0450\",\"marker\":{\"color\":\"#00cc96\",\"pattern\":{\"shape\":\"\"}},\"name\":\"P0450\",\"offsetgroup\":\"P0450\",\"orientation\":\"h\",\"showlegend\":true,\"textposition\":\"auto\",\"x\":[259200000.0],\"xaxis\":\"x\",\"y\":[\"P0450\"],\"yaxis\":\"y\",\"type\":\"bar\"},{\"alignmentgroup\":\"True\",\"base\":[\"2025-06-13T00:00:00\"],\"hovertemplate\":\"patient_id=%{y}\\u003cbr\\u003eward_in_time=%{base}\\u003cbr\\u003eward_out_time=%{x}\\u003cextra\\u003e\\u003c\\u002fextra\\u003e\",\"legendgroup\":\"P0121\",\"marker\":{\"color\":\"#ab63fa\",\"pattern\":{\"shape\":\"\"}},\"name\":\"P0121\",\"offsetgroup\":\"P0121\",\"orientation\":\"h\",\"showlegend\":true,\"textposition\":\"auto\",\"x\":[432000000.0],\"xaxis\":\"x\",\"y\":[\"P0121\"],\"yaxis\":\"y\",\"type\":\"bar\"},{\"alignmentgroup\":\"True\",\"base\":[\"2025-06-15T00:00:00\"],\"hovertemplate\":\"patient_id=%{y}\\u003cbr\\u003eward_in_time=%{base}\\u003cbr\\u003eward_out_time=%{x}\\u003cextra\\u003e\\u003c\\u002fextra\\u003e\",\"legendgroup\":\"P0451\",\"marker\":{\"color\":\"#FFA15A\",\"pattern\":{\"shape\":\"\"}},\"name\":\"P0451\",\"offsetgroup\":\"P0451\",\"orientation\":\"h\",\"showlegend\":true,\"textposition\":\"auto\",\"x\":[432000000.0],\"xaxis\":\"x\",\"y\":[\"P0451\"],\"yaxis\":\"y\",\"type\":\"bar\"},{\"alignmentgroup\":\"True\",\"base\":[\"2025-06-15T00:00:00\"],\"hovertemplate\":\"patient_id=%{y}\\u003cbr\\u003eward_in_time=%{base}\\u003cbr\\u003eward_out_time=%{x}\\u003cextra\\u003e\\u003c\\u002fextra\\u003e\",\"legendgroup\":\"P0499\",\"marker\":{\"color\":\"#19d3f3\",\"pattern\":{\"shape\":\"\"}},\"name\":\"P0499\",\"offsetgroup\":\"P0499\",\"orientation\":\"h\",\"showlegend\":true,\"textposition\":\"auto\",\"x\":[86400000.0],\"xaxis\":\"x\",\"y\":[\"P0499\"],\"yaxis\":\"y\",\"type\":\"bar\"},{\"alignmentgroup\":\"True\",\"base\":[\"2025-06-16T00:00:00\",\"2025-06-16T00:00:00\",\"2025-06-26T00:00:00\",\"2025-06-26T00:00:00\"],\"hovertemplate\":\"patient_id=%{y}\\u003cbr\\u003eward_in_time=%{base}\\u003cbr\\u003eward_out_time=%{x}\\u003cextra\\u003e\\u003c\\u002fextra\\u003e\",\"legendgroup\":\"P0181\",\"marker\":{\"color\":\"#FF6692\",\"pattern\":{\"shape\":\"\"}},\"name\":\"P0181\",\"offsetgroup\":\"P0181\",\"orientation\":\"h\",\"showlegend\":true,\"textposition\":\"auto\",\"x\":[864000000.0,864000000.0,172800000.0,172800000.0],\"xaxis\":\"x\",\"y\":[\"P0181\",\"P0181\",\"P0181\",\"P0181\"],\"yaxis\":\"y\",\"type\":\"bar\"},{\"alignmentgroup\":\"True\",\"base\":[\"2025-06-19T00:00:00\",\"2025-06-20T00:00:00\",\"2025-06-21T00:00:00\"],\"hovertemplate\":\"patient_id=%{y}\\u003cbr\\u003eward_in_time=%{base}\\u003cbr\\u003eward_out_time=%{x}\\u003cextra\\u003e\\u003c\\u002fextra\\u003e\",\"legendgroup\":\"P0449\",\"marker\":{\"color\":\"#B6E880\",\"pattern\":{\"shape\":\"\"}},\"name\":\"P0449\",\"offsetgroup\":\"P0449\",\"orientation\":\"h\",\"showlegend\":true,\"textposition\":\"auto\",\"x\":[86400000.0,86400000.0,259200000.0],\"xaxis\":\"x\",\"y\":[\"P0449\",\"P0449\",\"P0449\"],\"yaxis\":\"y\",\"type\":\"bar\"},{\"alignmentgroup\":\"True\",\"base\":[\"2025-06-20T00:00:00\"],\"hovertemplate\":\"patient_id=%{y}\\u003cbr\\u003eward_in_time=%{base}\\u003cbr\\u003eward_out_time=%{x}\\u003cextra\\u003e\\u003c\\u002fextra\\u003e\",\"legendgroup\":\"P0285\",\"marker\":{\"color\":\"#FF97FF\",\"pattern\":{\"shape\":\"\"}},\"name\":\"P0285\",\"offsetgroup\":\"P0285\",\"orientation\":\"h\",\"showlegend\":true,\"textposition\":\"auto\",\"x\":[345600000.0],\"xaxis\":\"x\",\"y\":[\"P0285\"],\"yaxis\":\"y\",\"type\":\"bar\"},{\"alignmentgroup\":\"True\",\"base\":[\"2025-06-20T00:00:00\"],\"hovertemplate\":\"patient_id=%{y}\\u003cbr\\u003eward_in_time=%{base}\\u003cbr\\u003eward_out_time=%{x}\\u003cextra\\u003e\\u003c\\u002fextra\\u003e\",\"legendgroup\":\"P0164\",\"marker\":{\"color\":\"#FECB52\",\"pattern\":{\"shape\":\"\"}},\"name\":\"P0164\",\"offsetgroup\":\"P0164\",\"orientation\":\"h\",\"showlegend\":true,\"textposition\":\"auto\",\"x\":[86400000.0],\"xaxis\":\"x\",\"y\":[\"P0164\"],\"yaxis\":\"y\",\"type\":\"bar\"},{\"alignmentgroup\":\"True\",\"base\":[\"2025-06-20T00:00:00\",\"2025-06-21T00:00:00\",\"2025-06-24T00:00:00\"],\"hovertemplate\":\"patient_id=%{y}\\u003cbr\\u003eward_in_time=%{base}\\u003cbr\\u003eward_out_time=%{x}\\u003cextra\\u003e\\u003c\\u002fextra\\u003e\",\"legendgroup\":\"P0496\",\"marker\":{\"color\":\"#636efa\",\"pattern\":{\"shape\":\"\"}},\"name\":\"P0496\",\"offsetgroup\":\"P0496\",\"orientation\":\"h\",\"showlegend\":true,\"textposition\":\"auto\",\"x\":[86400000.0,259200000.0,259200000.0],\"xaxis\":\"x\",\"y\":[\"P0496\",\"P0496\",\"P0496\"],\"yaxis\":\"y\",\"type\":\"bar\"},{\"alignmentgroup\":\"True\",\"base\":[\"2025-06-21T00:00:00\",\"2025-06-21T00:00:00\"],\"hovertemplate\":\"patient_id=%{y}\\u003cbr\\u003eward_in_time=%{base}\\u003cbr\\u003eward_out_time=%{x}\\u003cextra\\u003e\\u003c\\u002fextra\\u003e\",\"legendgroup\":\"P0252\",\"marker\":{\"color\":\"#EF553B\",\"pattern\":{\"shape\":\"\"}},\"name\":\"P0252\",\"offsetgroup\":\"P0252\",\"orientation\":\"h\",\"showlegend\":true,\"textposition\":\"auto\",\"x\":[345600000.0,345600000.0],\"xaxis\":\"x\",\"y\":[\"P0252\",\"P0252\"],\"yaxis\":\"y\",\"type\":\"bar\"},{\"alignmentgroup\":\"True\",\"base\":[\"2025-06-21T00:00:00\"],\"hovertemplate\":\"patient_id=%{y}\\u003cbr\\u003eward_in_time=%{base}\\u003cbr\\u003eward_out_time=%{x}\\u003cextra\\u003e\\u003c\\u002fextra\\u003e\",\"legendgroup\":\"P0410\",\"marker\":{\"color\":\"#00cc96\",\"pattern\":{\"shape\":\"\"}},\"name\":\"P0410\",\"offsetgroup\":\"P0410\",\"orientation\":\"h\",\"showlegend\":true,\"textposition\":\"auto\",\"x\":[345600000.0],\"xaxis\":\"x\",\"y\":[\"P0410\"],\"yaxis\":\"y\",\"type\":\"bar\"},{\"alignmentgroup\":\"True\",\"base\":[\"2025-06-23T00:00:00\"],\"hovertemplate\":\"patient_id=%{y}\\u003cbr\\u003eward_in_time=%{base}\\u003cbr\\u003eward_out_time=%{x}\\u003cextra\\u003e\\u003c\\u002fextra\\u003e\",\"legendgroup\":\"P0028\",\"marker\":{\"color\":\"#ab63fa\",\"pattern\":{\"shape\":\"\"}},\"name\":\"P0028\",\"offsetgroup\":\"P0028\",\"orientation\":\"h\",\"showlegend\":true,\"textposition\":\"auto\",\"x\":[86400000.0],\"xaxis\":\"x\",\"y\":[\"P0028\"],\"yaxis\":\"y\",\"type\":\"bar\"},{\"alignmentgroup\":\"True\",\"base\":[\"2025-06-25T00:00:00\"],\"hovertemplate\":\"patient_id=%{y}\\u003cbr\\u003eward_in_time=%{base}\\u003cbr\\u003eward_out_time=%{x}\\u003cextra\\u003e\\u003c\\u002fextra\\u003e\",\"legendgroup\":\"P0304\",\"marker\":{\"color\":\"#FFA15A\",\"pattern\":{\"shape\":\"\"}},\"name\":\"P0304\",\"offsetgroup\":\"P0304\",\"orientation\":\"h\",\"showlegend\":true,\"textposition\":\"auto\",\"x\":[86400000.0],\"xaxis\":\"x\",\"y\":[\"P0304\"],\"yaxis\":\"y\",\"type\":\"bar\"},{\"alignmentgroup\":\"True\",\"base\":[\"2025-06-28T00:00:00\",\"2025-06-28T00:00:00\"],\"hovertemplate\":\"patient_id=%{y}\\u003cbr\\u003eward_in_time=%{base}\\u003cbr\\u003eward_out_time=%{x}\\u003cextra\\u003e\\u003c\\u002fextra\\u003e\",\"legendgroup\":\"P0147\",\"marker\":{\"color\":\"#19d3f3\",\"pattern\":{\"shape\":\"\"}},\"name\":\"P0147\",\"offsetgroup\":\"P0147\",\"orientation\":\"h\",\"showlegend\":true,\"textposition\":\"auto\",\"x\":[86400000.0,86400000.0],\"xaxis\":\"x\",\"y\":[\"P0147\",\"P0147\"],\"yaxis\":\"y\",\"type\":\"bar\"},{\"marker\":{\"color\":\"red\",\"size\":10},\"mode\":\"markers\",\"name\":\"Positive Test\",\"showlegend\":false,\"x\":[\"2025-04-05T00:00:00\"],\"y\":[\"P0397\"],\"type\":\"scatter\"},{\"marker\":{\"color\":\"red\",\"size\":10},\"mode\":\"markers\",\"name\":\"Positive Test\",\"showlegend\":false,\"x\":[\"2025-04-03T00:00:00\"],\"y\":[\"P0189\"],\"type\":\"scatter\"},{\"marker\":{\"color\":\"red\",\"size\":10},\"mode\":\"markers\",\"name\":\"Positive Test\",\"showlegend\":false,\"x\":[\"2025-04-02T00:00:00\"],\"y\":[\"P0401\"],\"type\":\"scatter\"},{\"marker\":{\"color\":\"red\",\"size\":10},\"mode\":\"markers\",\"name\":\"Positive Test\",\"showlegend\":false,\"x\":[\"2025-04-02T00:00:00\"],\"y\":[\"P0142\"],\"type\":\"scatter\"},{\"marker\":{\"color\":\"red\",\"size\":10},\"mode\":\"markers\",\"name\":\"Positive Test\",\"showlegend\":false,\"x\":[\"2025-04-05T00:00:00\"],\"y\":[\"P0430\"],\"type\":\"scatter\"},{\"marker\":{\"color\":\"red\",\"size\":10},\"mode\":\"markers\",\"name\":\"Positive Test\",\"showlegend\":false,\"x\":[\"2025-04-10T00:00:00\"],\"y\":[\"P0376\"],\"type\":\"scatter\"},{\"marker\":{\"color\":\"red\",\"size\":10},\"mode\":\"markers\",\"name\":\"Positive Test\",\"showlegend\":false,\"x\":[\"2025-05-19T00:00:00\"],\"y\":[\"P0267\"],\"type\":\"scatter\"},{\"marker\":{\"color\":\"red\",\"size\":10},\"mode\":\"markers\",\"name\":\"Positive Test\",\"showlegend\":false,\"x\":[\"2025-04-11T00:00:00\"],\"y\":[\"P0267\"],\"type\":\"scatter\"},{\"marker\":{\"color\":\"red\",\"size\":10},\"mode\":\"markers\",\"name\":\"Positive Test\",\"showlegend\":false,\"x\":[\"2025-06-02T00:00:00\"],\"y\":[\"P0173\"],\"type\":\"scatter\"},{\"marker\":{\"color\":\"red\",\"size\":10},\"mode\":\"markers\",\"name\":\"Positive Test\",\"showlegend\":false,\"x\":[\"2025-04-12T00:00:00\"],\"y\":[\"P0173\"],\"type\":\"scatter\"},{\"marker\":{\"color\":\"red\",\"size\":10},\"mode\":\"markers\",\"name\":\"Positive Test\",\"showlegend\":false,\"x\":[\"2025-04-19T00:00:00\"],\"y\":[\"P0265\"],\"type\":\"scatter\"},{\"marker\":{\"color\":\"red\",\"size\":10},\"mode\":\"markers\",\"name\":\"Positive Test\",\"showlegend\":false,\"x\":[\"2025-04-21T00:00:00\"],\"y\":[\"P0017\"],\"type\":\"scatter\"},{\"marker\":{\"color\":\"red\",\"size\":10},\"mode\":\"markers\",\"name\":\"Positive Test\",\"showlegend\":false,\"x\":[\"2025-04-28T00:00:00\"],\"y\":[\"P0092\"],\"type\":\"scatter\"},{\"marker\":{\"color\":\"red\",\"size\":10},\"mode\":\"markers\",\"name\":\"Positive Test\",\"showlegend\":false,\"x\":[\"2025-04-25T00:00:00\"],\"y\":[\"P0174\"],\"type\":\"scatter\"},{\"marker\":{\"color\":\"red\",\"size\":10},\"mode\":\"markers\",\"name\":\"Positive Test\",\"showlegend\":false,\"x\":[\"2025-04-28T00:00:00\"],\"y\":[\"P0391\"],\"type\":\"scatter\"},{\"marker\":{\"color\":\"red\",\"size\":10},\"mode\":\"markers\",\"name\":\"Positive Test\",\"showlegend\":false,\"x\":[\"2025-05-03T00:00:00\"],\"y\":[\"P0302\"],\"type\":\"scatter\"},{\"marker\":{\"color\":\"red\",\"size\":10},\"mode\":\"markers\",\"name\":\"Positive Test\",\"showlegend\":false,\"x\":[\"2025-05-05T00:00:00\"],\"y\":[\"P0004\"],\"type\":\"scatter\"},{\"marker\":{\"color\":\"red\",\"size\":10},\"mode\":\"markers\",\"name\":\"Positive Test\",\"showlegend\":false,\"x\":[\"2025-05-06T00:00:00\"],\"y\":[\"P0088\"],\"type\":\"scatter\"},{\"marker\":{\"color\":\"red\",\"size\":10},\"mode\":\"markers\",\"name\":\"Positive Test\",\"showlegend\":false,\"x\":[\"2025-05-10T00:00:00\"],\"y\":[\"P0423\"],\"type\":\"scatter\"},{\"marker\":{\"color\":\"red\",\"size\":10},\"mode\":\"markers\",\"name\":\"Positive Test\",\"showlegend\":false,\"x\":[\"2025-05-04T00:00:00\"],\"y\":[\"P0339\"],\"type\":\"scatter\"},{\"marker\":{\"color\":\"red\",\"size\":10},\"mode\":\"markers\",\"name\":\"Positive Test\",\"showlegend\":false,\"x\":[\"2025-06-09T00:00:00\"],\"y\":[\"P0199\"],\"type\":\"scatter\"},{\"marker\":{\"color\":\"red\",\"size\":10},\"mode\":\"markers\",\"name\":\"Positive Test\",\"showlegend\":false,\"x\":[\"2025-05-12T00:00:00\"],\"y\":[\"P0199\"],\"type\":\"scatter\"},{\"marker\":{\"color\":\"red\",\"size\":10},\"mode\":\"markers\",\"name\":\"Positive Test\",\"showlegend\":false,\"x\":[\"2025-05-17T00:00:00\"],\"y\":[\"P0325\"],\"type\":\"scatter\"},{\"marker\":{\"color\":\"red\",\"size\":10},\"mode\":\"markers\",\"name\":\"Positive Test\",\"showlegend\":false,\"x\":[\"2025-06-05T00:00:00\"],\"y\":[\"P0381\"],\"type\":\"scatter\"},{\"marker\":{\"color\":\"red\",\"size\":10},\"mode\":\"markers\",\"name\":\"Positive Test\",\"showlegend\":false,\"x\":[\"2025-05-18T00:00:00\"],\"y\":[\"P0381\"],\"type\":\"scatter\"},{\"marker\":{\"color\":\"red\",\"size\":10},\"mode\":\"markers\",\"name\":\"Positive Test\",\"showlegend\":false,\"x\":[\"2025-05-17T00:00:00\"],\"y\":[\"P0463\"],\"type\":\"scatter\"},{\"marker\":{\"color\":\"red\",\"size\":10},\"mode\":\"markers\",\"name\":\"Positive Test\",\"showlegend\":false,\"x\":[\"2025-05-23T00:00:00\"],\"y\":[\"P0392\"],\"type\":\"scatter\"},{\"marker\":{\"color\":\"red\",\"size\":10},\"mode\":\"markers\",\"name\":\"Positive Test\",\"showlegend\":false,\"x\":[\"2025-05-25T00:00:00\"],\"y\":[\"P0387\"],\"type\":\"scatter\"},{\"marker\":{\"color\":\"red\",\"size\":10},\"mode\":\"markers\",\"name\":\"Positive Test\",\"showlegend\":false,\"x\":[\"2025-05-27T00:00:00\"],\"y\":[\"P0117\"],\"type\":\"scatter\"},{\"marker\":{\"color\":\"red\",\"size\":10},\"mode\":\"markers\",\"name\":\"Positive Test\",\"showlegend\":false,\"x\":[\"2025-06-01T00:00:00\"],\"y\":[\"P0460\"],\"type\":\"scatter\"},{\"marker\":{\"color\":\"red\",\"size\":10},\"mode\":\"markers\",\"name\":\"Positive Test\",\"showlegend\":false,\"x\":[\"2025-06-05T00:00:00\"],\"y\":[\"P0090\"],\"type\":\"scatter\"},{\"marker\":{\"color\":\"red\",\"size\":10},\"mode\":\"markers\",\"name\":\"Positive Test\",\"showlegend\":false,\"x\":[\"2025-06-10T00:00:00\"],\"y\":[\"P0360\"],\"type\":\"scatter\"},{\"marker\":{\"color\":\"red\",\"size\":10},\"mode\":\"markers\",\"name\":\"Positive Test\",\"showlegend\":false,\"x\":[\"2025-06-07T00:00:00\"],\"y\":[\"P0023\"],\"type\":\"scatter\"},{\"marker\":{\"color\":\"red\",\"size\":10},\"mode\":\"markers\",\"name\":\"Positive Test\",\"showlegend\":false,\"x\":[\"2025-06-10T00:00:00\"],\"y\":[\"P0251\"],\"type\":\"scatter\"},{\"marker\":{\"color\":\"red\",\"size\":10},\"mode\":\"markers\",\"name\":\"Positive Test\",\"showlegend\":false,\"x\":[\"2025-06-11T00:00:00\"],\"y\":[\"P0023\"],\"type\":\"scatter\"},{\"marker\":{\"color\":\"red\",\"size\":10},\"mode\":\"markers\",\"name\":\"Positive Test\",\"showlegend\":false,\"x\":[\"2025-06-16T00:00:00\"],\"y\":[\"P0106\"],\"type\":\"scatter\"},{\"marker\":{\"color\":\"red\",\"size\":10},\"mode\":\"markers\",\"name\":\"Positive Test\",\"showlegend\":false,\"x\":[\"2025-06-13T00:00:00\"],\"y\":[\"P0193\"],\"type\":\"scatter\"},{\"marker\":{\"color\":\"red\",\"size\":10},\"mode\":\"markers\",\"name\":\"Positive Test\",\"showlegend\":false,\"x\":[\"2025-06-14T00:00:00\"],\"y\":[\"P0450\"],\"type\":\"scatter\"},{\"marker\":{\"color\":\"red\",\"size\":10},\"mode\":\"markers\",\"name\":\"Positive Test\",\"showlegend\":false,\"x\":[\"2025-06-16T00:00:00\"],\"y\":[\"P0106\"],\"type\":\"scatter\"},{\"marker\":{\"color\":\"red\",\"size\":10},\"mode\":\"markers\",\"name\":\"Positive Test\",\"showlegend\":false,\"x\":[\"2025-06-17T00:00:00\"],\"y\":[\"P0121\"],\"type\":\"scatter\"},{\"marker\":{\"color\":\"red\",\"size\":10},\"mode\":\"markers\",\"name\":\"Positive Test\",\"showlegend\":false,\"x\":[\"2025-05-20T00:00:00\"],\"y\":[\"P0451\"],\"type\":\"scatter\"},{\"marker\":{\"color\":\"red\",\"size\":10},\"mode\":\"markers\",\"name\":\"Positive Test\",\"showlegend\":false,\"x\":[\"2025-06-15T00:00:00\"],\"y\":[\"P0499\"],\"type\":\"scatter\"},{\"marker\":{\"color\":\"red\",\"size\":10},\"mode\":\"markers\",\"name\":\"Positive Test\",\"showlegend\":false,\"x\":[\"2025-06-25T00:00:00\"],\"y\":[\"P0181\"],\"type\":\"scatter\"},{\"marker\":{\"color\":\"red\",\"size\":10},\"mode\":\"markers\",\"name\":\"Positive Test\",\"showlegend\":false,\"x\":[\"2025-06-16T00:00:00\"],\"y\":[\"P0181\"],\"type\":\"scatter\"},{\"marker\":{\"color\":\"red\",\"size\":10},\"mode\":\"markers\",\"name\":\"Positive Test\",\"showlegend\":false,\"x\":[\"2025-06-23T00:00:00\"],\"y\":[\"P0449\"],\"type\":\"scatter\"},{\"marker\":{\"color\":\"red\",\"size\":10},\"mode\":\"markers\",\"name\":\"Positive Test\",\"showlegend\":false,\"x\":[\"2025-06-23T00:00:00\"],\"y\":[\"P0449\"],\"type\":\"scatter\"},{\"marker\":{\"color\":\"red\",\"size\":10},\"mode\":\"markers\",\"name\":\"Positive Test\",\"showlegend\":false,\"x\":[\"2025-06-23T00:00:00\"],\"y\":[\"P0285\"],\"type\":\"scatter\"},{\"marker\":{\"color\":\"red\",\"size\":10},\"mode\":\"markers\",\"name\":\"Positive Test\",\"showlegend\":false,\"x\":[\"2025-06-20T00:00:00\"],\"y\":[\"P0164\"],\"type\":\"scatter\"},{\"marker\":{\"color\":\"red\",\"size\":10},\"mode\":\"markers\",\"name\":\"Positive Test\",\"showlegend\":false,\"x\":[\"2025-06-25T00:00:00\"],\"y\":[\"P0496\"],\"type\":\"scatter\"},{\"marker\":{\"color\":\"red\",\"size\":10},\"mode\":\"markers\",\"name\":\"Positive Test\",\"showlegend\":false,\"x\":[\"2025-06-21T00:00:00\"],\"y\":[\"P0252\"],\"type\":\"scatter\"},{\"marker\":{\"color\":\"red\",\"size\":10},\"mode\":\"markers\",\"name\":\"Positive Test\",\"showlegend\":false,\"x\":[\"2025-04-19T00:00:00\"],\"y\":[\"P0410\"],\"type\":\"scatter\"},{\"marker\":{\"color\":\"red\",\"size\":10},\"mode\":\"markers\",\"name\":\"Positive Test\",\"showlegend\":false,\"x\":[\"2025-06-16T00:00:00\"],\"y\":[\"P0252\"],\"type\":\"scatter\"},{\"marker\":{\"color\":\"red\",\"size\":10},\"mode\":\"markers\",\"name\":\"Positive Test\",\"showlegend\":false,\"x\":[\"2025-06-25T00:00:00\"],\"y\":[\"P0496\"],\"type\":\"scatter\"},{\"marker\":{\"color\":\"red\",\"size\":10},\"mode\":\"markers\",\"name\":\"Positive Test\",\"showlegend\":false,\"x\":[\"2025-06-23T00:00:00\"],\"y\":[\"P0449\"],\"type\":\"scatter\"},{\"marker\":{\"color\":\"red\",\"size\":10},\"mode\":\"markers\",\"name\":\"Positive Test\",\"showlegend\":false,\"x\":[\"2025-06-22T00:00:00\"],\"y\":[\"P0028\"],\"type\":\"scatter\"},{\"marker\":{\"color\":\"red\",\"size\":10},\"mode\":\"markers\",\"name\":\"Positive Test\",\"showlegend\":false,\"x\":[\"2025-06-25T00:00:00\"],\"y\":[\"P0496\"],\"type\":\"scatter\"},{\"marker\":{\"color\":\"red\",\"size\":10},\"mode\":\"markers\",\"name\":\"Positive Test\",\"showlegend\":false,\"x\":[\"2025-06-24T00:00:00\"],\"y\":[\"P0304\"],\"type\":\"scatter\"},{\"marker\":{\"color\":\"red\",\"size\":10},\"mode\":\"markers\",\"name\":\"Positive Test\",\"showlegend\":false,\"x\":[\"2025-06-16T00:00:00\"],\"y\":[\"P0181\"],\"type\":\"scatter\"},{\"marker\":{\"color\":\"red\",\"size\":10},\"mode\":\"markers\",\"name\":\"Positive Test\",\"showlegend\":false,\"x\":[\"2025-06-25T00:00:00\"],\"y\":[\"P0181\"],\"type\":\"scatter\"},{\"marker\":{\"color\":\"red\",\"size\":10},\"mode\":\"markers\",\"name\":\"Positive Test\",\"showlegend\":false,\"x\":[\"2025-05-01T00:00:00\"],\"y\":[\"P0147\"],\"type\":\"scatter\"},{\"marker\":{\"color\":\"red\",\"size\":10},\"mode\":\"markers\",\"name\":\"Positive Test\",\"showlegend\":false,\"x\":[\"2025-06-28T00:00:00\"],\"y\":[\"P0147\"],\"type\":\"scatter\"}],                        {\"template\":{\"data\":{\"histogram2dcontour\":[{\"type\":\"histogram2dcontour\",\"colorbar\":{\"outlinewidth\":0,\"ticks\":\"\"},\"colorscale\":[[0.0,\"#0d0887\"],[0.1111111111111111,\"#46039f\"],[0.2222222222222222,\"#7201a8\"],[0.3333333333333333,\"#9c179e\"],[0.4444444444444444,\"#bd3786\"],[0.5555555555555556,\"#d8576b\"],[0.6666666666666666,\"#ed7953\"],[0.7777777777777778,\"#fb9f3a\"],[0.8888888888888888,\"#fdca26\"],[1.0,\"#f0f921\"]]}],\"choropleth\":[{\"type\":\"choropleth\",\"colorbar\":{\"outlinewidth\":0,\"ticks\":\"\"}}],\"histogram2d\":[{\"type\":\"histogram2d\",\"colorbar\":{\"outlinewidth\":0,\"ticks\":\"\"},\"colorscale\":[[0.0,\"#0d0887\"],[0.1111111111111111,\"#46039f\"],[0.2222222222222222,\"#7201a8\"],[0.3333333333333333,\"#9c179e\"],[0.4444444444444444,\"#bd3786\"],[0.5555555555555556,\"#d8576b\"],[0.6666666666666666,\"#ed7953\"],[0.7777777777777778,\"#fb9f3a\"],[0.8888888888888888,\"#fdca26\"],[1.0,\"#f0f921\"]]}],\"heatmap\":[{\"type\":\"heatmap\",\"colorbar\":{\"outlinewidth\":0,\"ticks\":\"\"},\"colorscale\":[[0.0,\"#0d0887\"],[0.1111111111111111,\"#46039f\"],[0.2222222222222222,\"#7201a8\"],[0.3333333333333333,\"#9c179e\"],[0.4444444444444444,\"#bd3786\"],[0.5555555555555556,\"#d8576b\"],[0.6666666666666666,\"#ed7953\"],[0.7777777777777778,\"#fb9f3a\"],[0.8888888888888888,\"#fdca26\"],[1.0,\"#f0f921\"]]}],\"heatmapgl\":[{\"type\":\"heatmapgl\",\"colorbar\":{\"outlinewidth\":0,\"ticks\":\"\"},\"colorscale\":[[0.0,\"#0d0887\"],[0.1111111111111111,\"#46039f\"],[0.2222222222222222,\"#7201a8\"],[0.3333333333333333,\"#9c179e\"],[0.4444444444444444,\"#bd3786\"],[0.5555555555555556,\"#d8576b\"],[0.6666666666666666,\"#ed7953\"],[0.7777777777777778,\"#fb9f3a\"],[0.8888888888888888,\"#fdca26\"],[1.0,\"#f0f921\"]]}],\"contourcarpet\":[{\"type\":\"contourcarpet\",\"colorbar\":{\"outlinewidth\":0,\"ticks\":\"\"}}],\"contour\":[{\"type\":\"contour\",\"colorbar\":{\"outlinewidth\":0,\"ticks\":\"\"},\"colorscale\":[[0.0,\"#0d0887\"],[0.1111111111111111,\"#46039f\"],[0.2222222222222222,\"#7201a8\"],[0.3333333333333333,\"#9c179e\"],[0.4444444444444444,\"#bd3786\"],[0.5555555555555556,\"#d8576b\"],[0.6666666666666666,\"#ed7953\"],[0.7777777777777778,\"#fb9f3a\"],[0.8888888888888888,\"#fdca26\"],[1.0,\"#f0f921\"]]}],\"surface\":[{\"type\":\"surface\",\"colorbar\":{\"outlinewidth\":0,\"ticks\":\"\"},\"colorscale\":[[0.0,\"#0d0887\"],[0.1111111111111111,\"#46039f\"],[0.2222222222222222,\"#7201a8\"],[0.3333333333333333,\"#9c179e\"],[0.4444444444444444,\"#bd3786\"],[0.5555555555555556,\"#d8576b\"],[0.6666666666666666,\"#ed7953\"],[0.7777777777777778,\"#fb9f3a\"],[0.8888888888888888,\"#fdca26\"],[1.0,\"#f0f921\"]]}],\"mesh3d\":[{\"type\":\"mesh3d\",\"colorbar\":{\"outlinewidth\":0,\"ticks\":\"\"}}],\"scatter\":[{\"fillpattern\":{\"fillmode\":\"overlay\",\"size\":10,\"solidity\":0.2},\"type\":\"scatter\"}],\"parcoords\":[{\"type\":\"parcoords\",\"line\":{\"colorbar\":{\"outlinewidth\":0,\"ticks\":\"\"}}}],\"scatterpolargl\":[{\"type\":\"scatterpolargl\",\"marker\":{\"colorbar\":{\"outlinewidth\":0,\"ticks\":\"\"}}}],\"bar\":[{\"error_x\":{\"color\":\"#2a3f5f\"},\"error_y\":{\"color\":\"#2a3f5f\"},\"marker\":{\"line\":{\"color\":\"#E5ECF6\",\"width\":0.5},\"pattern\":{\"fillmode\":\"overlay\",\"size\":10,\"solidity\":0.2}},\"type\":\"bar\"}],\"scattergeo\":[{\"type\":\"scattergeo\",\"marker\":{\"colorbar\":{\"outlinewidth\":0,\"ticks\":\"\"}}}],\"scatterpolar\":[{\"type\":\"scatterpolar\",\"marker\":{\"colorbar\":{\"outlinewidth\":0,\"ticks\":\"\"}}}],\"histogram\":[{\"marker\":{\"pattern\":{\"fillmode\":\"overlay\",\"size\":10,\"solidity\":0.2}},\"type\":\"histogram\"}],\"scattergl\":[{\"type\":\"scattergl\",\"marker\":{\"colorbar\":{\"outlinewidth\":0,\"ticks\":\"\"}}}],\"scatter3d\":[{\"type\":\"scatter3d\",\"line\":{\"colorbar\":{\"outlinewidth\":0,\"ticks\":\"\"}},\"marker\":{\"colorbar\":{\"outlinewidth\":0,\"ticks\":\"\"}}}],\"scattermapbox\":[{\"type\":\"scattermapbox\",\"marker\":{\"colorbar\":{\"outlinewidth\":0,\"ticks\":\"\"}}}],\"scatterternary\":[{\"type\":\"scatterternary\",\"marker\":{\"colorbar\":{\"outlinewidth\":0,\"ticks\":\"\"}}}],\"scattercarpet\":[{\"type\":\"scattercarpet\",\"marker\":{\"colorbar\":{\"outlinewidth\":0,\"ticks\":\"\"}}}],\"carpet\":[{\"aaxis\":{\"endlinecolor\":\"#2a3f5f\",\"gridcolor\":\"white\",\"linecolor\":\"white\",\"minorgridcolor\":\"white\",\"startlinecolor\":\"#2a3f5f\"},\"baxis\":{\"endlinecolor\":\"#2a3f5f\",\"gridcolor\":\"white\",\"linecolor\":\"white\",\"minorgridcolor\":\"white\",\"startlinecolor\":\"#2a3f5f\"},\"type\":\"carpet\"}],\"table\":[{\"cells\":{\"fill\":{\"color\":\"#EBF0F8\"},\"line\":{\"color\":\"white\"}},\"header\":{\"fill\":{\"color\":\"#C8D4E3\"},\"line\":{\"color\":\"white\"}},\"type\":\"table\"}],\"barpolar\":[{\"marker\":{\"line\":{\"color\":\"#E5ECF6\",\"width\":0.5},\"pattern\":{\"fillmode\":\"overlay\",\"size\":10,\"solidity\":0.2}},\"type\":\"barpolar\"}],\"pie\":[{\"automargin\":true,\"type\":\"pie\"}]},\"layout\":{\"autotypenumbers\":\"strict\",\"colorway\":[\"#636efa\",\"#EF553B\",\"#00cc96\",\"#ab63fa\",\"#FFA15A\",\"#19d3f3\",\"#FF6692\",\"#B6E880\",\"#FF97FF\",\"#FECB52\"],\"font\":{\"color\":\"#2a3f5f\"},\"hovermode\":\"closest\",\"hoverlabel\":{\"align\":\"left\"},\"paper_bgcolor\":\"white\",\"plot_bgcolor\":\"#E5ECF6\",\"polar\":{\"bgcolor\":\"#E5ECF6\",\"angularaxis\":{\"gridcolor\":\"white\",\"linecolor\":\"white\",\"ticks\":\"\"},\"radialaxis\":{\"gridcolor\":\"white\",\"linecolor\":\"white\",\"ticks\":\"\"}},\"ternary\":{\"bgcolor\":\"#E5ECF6\",\"aaxis\":{\"gridcolor\":\"white\",\"linecolor\":\"white\",\"ticks\":\"\"},\"baxis\":{\"gridcolor\":\"white\",\"linecolor\":\"white\",\"ticks\":\"\"},\"caxis\":{\"gridcolor\":\"white\",\"linecolor\":\"white\",\"ticks\":\"\"}},\"coloraxis\":{\"colorbar\":{\"outlinewidth\":0,\"ticks\":\"\"}},\"colorscale\":{\"sequential\":[[0.0,\"#0d0887\"],[0.1111111111111111,\"#46039f\"],[0.2222222222222222,\"#7201a8\"],[0.3333333333333333,\"#9c179e\"],[0.4444444444444444,\"#bd3786\"],[0.5555555555555556,\"#d8576b\"],[0.6666666666666666,\"#ed7953\"],[0.7777777777777778,\"#fb9f3a\"],[0.8888888888888888,\"#fdca26\"],[1.0,\"#f0f921\"]],\"sequentialminus\":[[0.0,\"#0d0887\"],[0.1111111111111111,\"#46039f\"],[0.2222222222222222,\"#7201a8\"],[0.3333333333333333,\"#9c179e\"],[0.4444444444444444,\"#bd3786\"],[0.5555555555555556,\"#d8576b\"],[0.6666666666666666,\"#ed7953\"],[0.7777777777777778,\"#fb9f3a\"],[0.8888888888888888,\"#fdca26\"],[1.0,\"#f0f921\"]],\"diverging\":[[0,\"#8e0152\"],[0.1,\"#c51b7d\"],[0.2,\"#de77ae\"],[0.3,\"#f1b6da\"],[0.4,\"#fde0ef\"],[0.5,\"#f7f7f7\"],[0.6,\"#e6f5d0\"],[0.7,\"#b8e186\"],[0.8,\"#7fbc41\"],[0.9,\"#4d9221\"],[1,\"#276419\"]]},\"xaxis\":{\"gridcolor\":\"white\",\"linecolor\":\"white\",\"ticks\":\"\",\"title\":{\"standoff\":15},\"zerolinecolor\":\"white\",\"automargin\":true,\"zerolinewidth\":2},\"yaxis\":{\"gridcolor\":\"white\",\"linecolor\":\"white\",\"ticks\":\"\",\"title\":{\"standoff\":15},\"zerolinecolor\":\"white\",\"automargin\":true,\"zerolinewidth\":2},\"scene\":{\"xaxis\":{\"backgroundcolor\":\"#E5ECF6\",\"gridcolor\":\"white\",\"linecolor\":\"white\",\"showbackground\":true,\"ticks\":\"\",\"zerolinecolor\":\"white\",\"gridwidth\":2},\"yaxis\":{\"backgroundcolor\":\"#E5ECF6\",\"gridcolor\":\"white\",\"linecolor\":\"white\",\"showbackground\":true,\"ticks\":\"\",\"zerolinecolor\":\"white\",\"gridwidth\":2},\"zaxis\":{\"backgroundcolor\":\"#E5ECF6\",\"gridcolor\":\"white\",\"linecolor\":\"white\",\"showbackground\":true,\"ticks\":\"\",\"zerolinecolor\":\"white\",\"gridwidth\":2}},\"shapedefaults\":{\"line\":{\"color\":\"#2a3f5f\"}},\"annotationdefaults\":{\"arrowcolor\":\"#2a3f5f\",\"arrowhead\":0,\"arrowwidth\":1},\"geo\":{\"bgcolor\":\"white\",\"landcolor\":\"#E5ECF6\",\"subunitcolor\":\"white\",\"showland\":true,\"showlakes\":true,\"lakecolor\":\"white\"},\"title\":{\"x\":0.05},\"mapbox\":{\"style\":\"light\"}}},\"xaxis\":{\"anchor\":\"y\",\"domain\":[0.0,1.0],\"type\":\"date\",\"title\":{\"text\":\"Date\"}},\"yaxis\":{\"anchor\":\"x\",\"domain\":[0.0,1.0],\"title\":{\"text\":\"Patient ID\"},\"categoryorder\":\"array\",\"categoryarray\":[\"P0147\",\"P0304\",\"P0028\",\"P0410\",\"P0252\",\"P0496\",\"P0164\",\"P0285\",\"P0449\",\"P0181\",\"P0499\",\"P0451\",\"P0121\",\"P0450\",\"P0193\",\"P0106\",\"P0251\",\"P0023\",\"P0360\",\"P0090\",\"P0460\",\"P0117\",\"P0387\",\"P0392\",\"P0463\",\"P0381\",\"P0325\",\"P0199\",\"P0339\",\"P0423\",\"P0088\",\"P0004\",\"P0302\",\"P0391\",\"P0174\",\"P0092\",\"P0017\",\"P0265\",\"P0173\",\"P0267\",\"P0376\",\"P0430\",\"P0142\",\"P0401\",\"P0189\",\"P0397\"],\"autorange\":\"reversed\"},\"legend\":{\"title\":{\"text\":\"patient_id\"},\"tracegroupgap\":0},\"title\":{\"text\":\"Infection: CRE | Location ICU\"},\"barmode\":\"overlay\",\"height\":2840},                        {\"responsive\": true}                    ).then(function(){\n",
       "                            \n",
       "var gd = document.getElementById('e460251f-3b9a-41b1-8e93-9abb15c09f49');\n",
       "var x = new MutationObserver(function (mutations, observer) {{\n",
       "        var display = window.getComputedStyle(gd).display;\n",
       "        if (!display || display === 'none') {{\n",
       "            console.log([gd, 'removed!']);\n",
       "            Plotly.purge(gd);\n",
       "            observer.disconnect();\n",
       "        }}\n",
       "}});\n",
       "\n",
       "// Listen for the removal of the full notebook cells\n",
       "var notebookContainer = gd.closest('#notebook-container');\n",
       "if (notebookContainer) {{\n",
       "    x.observe(notebookContainer, {childList: true});\n",
       "}}\n",
       "\n",
       "// Listen for the clearing of the current output cell\n",
       "var outputEl = gd.closest('.output');\n",
       "if (outputEl) {{\n",
       "    x.observe(outputEl, {childList: true});\n",
       "}}\n",
       "\n",
       "                        })                };                });            </script>        </div>"
      ]
     },
     "metadata": {},
     "output_type": "display_data"
    }
   ],
   "source": [
    "import plotly.express as px\n",
    "import plotly.graph_objects as go\n",
    "\n",
    "def plot_patient_stays_with_tests(df, infection, location):\n",
    "    # Filter\n",
    "    filtered = df[(df['infection'] == infection) & (df['location'] == location)].copy()\n",
    "    filtered.sort_values(\"ward_in_time\", inplace=True)\n",
    "    \n",
    "    # Create GANTT bars\n",
    "    fig = px.timeline(\n",
    "    filtered,\n",
    "    x_start=\"ward_in_time\",\n",
    "    x_end=\"ward_out_time\",\n",
    "    y=\"patient_id\",\n",
    "    color=\"patient_id\",\n",
    "    title=f\"Infection: {infection} | Location {location}\",\n",
    "    )\n",
    "    \n",
    "    fig.update_yaxes(autorange=\"reversed\") # earliest patient first\n",
    "    \n",
    "    # Add dots for test collection dates\n",
    "    for _, row in filtered.iterrows():\n",
    "        fig.add_trace(go.Scatter(\n",
    "            x=[row['collection_date']],\n",
    "            y=[row['patient_id']],\n",
    "            mode='markers',\n",
    "            marker=dict(color='red', size=10),\n",
    "            name='Positive Test',\n",
    "            showlegend=False,\n",
    "        ))\n",
    "        \n",
    "    fig.update_layout(\n",
    "        xaxis_title=\"Date\",\n",
    "        yaxis_title=\"Patient ID\",\n",
    "        height=400 + 40 * len(filtered),\n",
    "    )\n",
    "    \n",
    "    fig.show()\n",
    "\n",
    "plot_patient_stays_with_tests(df, infection=\"CRE\", location=\"ICU\")"
   ]
  },
  {
   "cell_type": "code",
   "execution_count": 14,
   "metadata": {},
   "outputs": [],
   "source": [
    "def detect_clusters(transfers_df, micro_df):\n",
    "    # Convert dates\n",
    "    transfers_df['ward_in_time'] = pd.to_datetime(transfers_df['ward_in_time'])\n",
    "    transfers_df['ward_out_time'] = pd.to_datetime(transfers_df['ward_out_time'])\n",
    "    micro_df['collection_date'] = pd.to_datetime(micro_df['collection_date'])\n",
    "    \n",
    "    # Filter positive results\n",
    "    micro_df = micro_df[micro_df['result'] == 'positive']\n",
    "    \n",
    "    # Merge microbiology and transfers\n",
    "    merged = pd.merge(transfers_df, micro_df, on='patient_id')\n",
    "    \n",
    "    # Only consider infections that happened during or after admission\n",
    "    merged = merged[merged['collection_date'] >= merged['ward_in_time']]\n",
    "    \n",
    "    clusters = []\n",
    "    infections = merged['infection'].unique()\n",
    "    \n",
    "    for infection in infections:\n",
    "        subset = merged[merged['infection'] == infection]\n",
    "        for i, row1 in subset.iterrows():\n",
    "            for j, row2 in subset.iterrows():\n",
    "                if i >= j:\n",
    "                    continue # Avoid duplicate pairs\n",
    "                # Check location\n",
    "                if row1['location'] != row2['location']:\n",
    "                    continue\n",
    "                # Check time overlap\n",
    "                latest_start = max(row1['ward_in_time'], row2['ward_in_time'])\n",
    "                earliest_end = max(row1['ward_out_time'], row2['ward_out_time'])\n",
    "                if (latest_start <= earliest_end):\n",
    "                    clusters.append({\n",
    "                        'infection': infection,\n",
    "                        'patient_1': row1['patient_id'],\n",
    "                        'patient_2': row2['patient_id'],\n",
    "                        'location': row1['location'],\n",
    "                        'overlap_start': latest_start,\n",
    "                        'overlap_end': earliest_end\n",
    "                    })\n",
    "    \n",
    "    return clusters\n",
    "    \n",
    "    "
   ]
  },
  {
   "cell_type": "code",
   "execution_count": 15,
   "metadata": {},
   "outputs": [
    {
     "data": {
      "text/html": [
       "<div>\n",
       "<style scoped>\n",
       "    .dataframe tbody tr th:only-of-type {\n",
       "        vertical-align: middle;\n",
       "    }\n",
       "\n",
       "    .dataframe tbody tr th {\n",
       "        vertical-align: top;\n",
       "    }\n",
       "\n",
       "    .dataframe thead th {\n",
       "        text-align: right;\n",
       "    }\n",
       "</style>\n",
       "<table border=\"1\" class=\"dataframe\">\n",
       "  <thead>\n",
       "    <tr style=\"text-align: right;\">\n",
       "      <th></th>\n",
       "      <th>infection</th>\n",
       "      <th>patient_1</th>\n",
       "      <th>patient_2</th>\n",
       "      <th>location</th>\n",
       "      <th>overlap_start</th>\n",
       "      <th>overlap_end</th>\n",
       "    </tr>\n",
       "  </thead>\n",
       "  <tbody>\n",
       "    <tr>\n",
       "      <th>0</th>\n",
       "      <td>CRE</td>\n",
       "      <td>P0013</td>\n",
       "      <td>P0115</td>\n",
       "      <td>Ward-2</td>\n",
       "      <td>2025-04-13</td>\n",
       "      <td>2025-04-16</td>\n",
       "    </tr>\n",
       "    <tr>\n",
       "      <th>1</th>\n",
       "      <td>CRE</td>\n",
       "      <td>P0013</td>\n",
       "      <td>P0126</td>\n",
       "      <td>Ward-2</td>\n",
       "      <td>2025-04-11</td>\n",
       "      <td>2025-04-17</td>\n",
       "    </tr>\n",
       "    <tr>\n",
       "      <th>2</th>\n",
       "      <td>CRE</td>\n",
       "      <td>P0013</td>\n",
       "      <td>P0141</td>\n",
       "      <td>Ward-2</td>\n",
       "      <td>2025-04-06</td>\n",
       "      <td>2025-04-13</td>\n",
       "    </tr>\n",
       "    <tr>\n",
       "      <th>3</th>\n",
       "      <td>CRE</td>\n",
       "      <td>P0013</td>\n",
       "      <td>P0204</td>\n",
       "      <td>Ward-2</td>\n",
       "      <td>2025-05-02</td>\n",
       "      <td>2025-05-06</td>\n",
       "    </tr>\n",
       "    <tr>\n",
       "      <th>4</th>\n",
       "      <td>CRE</td>\n",
       "      <td>P0013</td>\n",
       "      <td>P0328</td>\n",
       "      <td>Ward-2</td>\n",
       "      <td>2025-04-03</td>\n",
       "      <td>2025-04-14</td>\n",
       "    </tr>\n",
       "    <tr>\n",
       "      <th>...</th>\n",
       "      <td>...</td>\n",
       "      <td>...</td>\n",
       "      <td>...</td>\n",
       "      <td>...</td>\n",
       "      <td>...</td>\n",
       "      <td>...</td>\n",
       "    </tr>\n",
       "    <tr>\n",
       "      <th>498</th>\n",
       "      <td>MRSA</td>\n",
       "      <td>P0339</td>\n",
       "      <td>P0423</td>\n",
       "      <td>ICU</td>\n",
       "      <td>2025-05-08</td>\n",
       "      <td>2025-05-14</td>\n",
       "    </tr>\n",
       "    <tr>\n",
       "      <th>499</th>\n",
       "      <td>MRSA</td>\n",
       "      <td>P0339</td>\n",
       "      <td>P0451</td>\n",
       "      <td>ICU</td>\n",
       "      <td>2025-06-15</td>\n",
       "      <td>2025-06-20</td>\n",
       "    </tr>\n",
       "    <tr>\n",
       "      <th>500</th>\n",
       "      <td>MRSA</td>\n",
       "      <td>P0423</td>\n",
       "      <td>P0451</td>\n",
       "      <td>ICU</td>\n",
       "      <td>2025-06-15</td>\n",
       "      <td>2025-06-20</td>\n",
       "    </tr>\n",
       "    <tr>\n",
       "      <th>501</th>\n",
       "      <td>MRSA</td>\n",
       "      <td>P0445</td>\n",
       "      <td>P0488</td>\n",
       "      <td>Ward-3</td>\n",
       "      <td>2025-06-16</td>\n",
       "      <td>2025-06-21</td>\n",
       "    </tr>\n",
       "    <tr>\n",
       "      <th>502</th>\n",
       "      <td>MRSA</td>\n",
       "      <td>P0451</td>\n",
       "      <td>P0484</td>\n",
       "      <td>Ward-5</td>\n",
       "      <td>2025-05-17</td>\n",
       "      <td>2025-05-23</td>\n",
       "    </tr>\n",
       "  </tbody>\n",
       "</table>\n",
       "<p>503 rows × 6 columns</p>\n",
       "</div>"
      ],
      "text/plain": [
       "    infection patient_1 patient_2 location overlap_start overlap_end\n",
       "0         CRE     P0013     P0115   Ward-2    2025-04-13  2025-04-16\n",
       "1         CRE     P0013     P0126   Ward-2    2025-04-11  2025-04-17\n",
       "2         CRE     P0013     P0141   Ward-2    2025-04-06  2025-04-13\n",
       "3         CRE     P0013     P0204   Ward-2    2025-05-02  2025-05-06\n",
       "4         CRE     P0013     P0328   Ward-2    2025-04-03  2025-04-14\n",
       "..        ...       ...       ...      ...           ...         ...\n",
       "498      MRSA     P0339     P0423      ICU    2025-05-08  2025-05-14\n",
       "499      MRSA     P0339     P0451      ICU    2025-06-15  2025-06-20\n",
       "500      MRSA     P0423     P0451      ICU    2025-06-15  2025-06-20\n",
       "501      MRSA     P0445     P0488   Ward-3    2025-06-16  2025-06-21\n",
       "502      MRSA     P0451     P0484   Ward-5    2025-05-17  2025-05-23\n",
       "\n",
       "[503 rows x 6 columns]"
      ]
     },
     "execution_count": 15,
     "metadata": {},
     "output_type": "execute_result"
    }
   ],
   "source": [
    "cluster_df = pd.DataFrame(detect_clusters(movements_df, tests_df))\n",
    "cluster_df"
   ]
  },
  {
   "cell_type": "code",
   "execution_count": 23,
   "metadata": {},
   "outputs": [],
   "source": [
    "import networkx as nx\n",
    "\n",
    "def detect_clusters(df):\n",
    "    # Must include: patient_id, infection, ward_in_time, ward_out_time, location\n",
    "    clusters=[]\n",
    "    G = nx.Graph()\n",
    "    \n",
    "    # Ensure datetime\n",
    "    df['ward_in_time'] = pd.to_datetime(df['ward_in_time'])\n",
    "    df['ward_out_time'] = pd.to_datetime(df['ward_out_time'])\n",
    "    \n",
    "    for infection in df['infection'].unique():\n",
    "        sub_inf = df[df['infection'] == infection]\n",
    "        \n",
    "        for location in sub_inf['location'].unique():\n",
    "            sub_loc = sub_inf[sub_inf['location'] == location]\n",
    "            \n",
    "            # Compare all pairs\n",
    "            for i, row1 in sub_loc.iterrows():\n",
    "                for j, row2 in sub_loc.iterrows():\n",
    "                    if i >= j:\n",
    "                        continue\n",
    "                    \n",
    "                    # Time overlap\n",
    "                    latest_start = max(row1['ward_in_time'], row2['ward_in_time'])\n",
    "                    earliest_end = min(row1['ward_out_time'], row2['ward_out_time'])\n",
    "                    \n",
    "                    if latest_start <= earliest_end:\n",
    "                        # Add edge to graph\n",
    "                        G.add_node(row1['patient_id'], infection=row1['infection'], location=row1['location'])\n",
    "                        G.add_node(row2['patient_id'], infection=row2['infection'], location=row2['location'])\n",
    "                        G.add_edge(row1['patient_id'], row2['patient_id'])\n",
    "            \n",
    "    # Extract connected components (clusters)\n",
    "    cluster_id = 0\n",
    "    for component in nx.connected_components(G):\n",
    "        cluster_patients = list(component)\n",
    "        # print(f\"{cluster_patients}\")\n",
    "        cluster_subdf = df[df['patient_id'].isin(cluster_patients)].copy()\n",
    "        cluster_subdf['cluster_id'] = f\"cluster_{cluster_id}\"\n",
    "        clusters.append(cluster_subdf)\n",
    "        cluster_id += 1\n",
    "    \n",
    "    return pd.concat(clusters, ignore_index=True) if clusters else pd.DataFrame()\n",
    "        "
   ]
  },
  {
   "cell_type": "code",
   "execution_count": 22,
   "metadata": {
    "tags": []
   },
   "outputs": [
    {
     "name": "stdout",
     "output_type": "stream",
     "text": [
      "['P0270', 'P0178', 'P0309', 'P0233', 'P0194', 'P0490', 'P0386', 'P0381', 'P0111', 'P0139', 'P0451', 'P0036', 'P0316', 'P0226', 'P0313', 'P0028', 'P0439', 'P0462', 'P0223', 'P0133', 'P0249', 'P0106', 'P0498', 'P0193', 'P0151', 'P0259', 'P0109', 'P0152', 'P0167', 'P0405', 'P0137', 'P0456', 'P0493', 'P0308', 'P0366', 'P0369', 'P0497', 'P0094', 'P0488', 'P0482', 'P0453', 'P0285', 'P0395', 'P0168', 'P0040', 'P0406', 'P0466', 'P0416', 'P0484', 'P0455', 'P0264', 'P0095', 'P0347', 'P0081', 'P0076', 'P0321', 'P0175', 'P0086', 'P0004', 'P0346', 'P0047', 'P0244', 'P0283', 'P0135', 'P0115', 'P0184', 'P0059', 'P0423', 'P0434', 'P0049', 'P0481', 'P0315', 'P0252', 'P0480', 'P0170', 'P0499', 'P0018', 'P0234', 'P0220', 'P0205', 'P0402', 'P0354', 'P0362', 'P0428', 'P0279', 'P0380', 'P0388', 'P0255', 'P0408', 'P0489', 'P0412', 'P0370', 'P0037', 'P0101', 'P0350', 'P0232', 'P0104', 'P0407', 'P0383', 'P0011', 'P0107', 'P0328', 'P0250', 'P0292', 'P0216', 'P0318', 'P0001', 'P0204', 'P0200', 'P0211', 'P0431', 'P0010', 'P0450', 'P0140', 'P0048', 'P0043', 'P0444', 'P0300', 'P0053', 'P0217', 'P0475', 'P0237', 'P0158', 'P0183', 'P0477', 'P0463', 'P0108', 'P0376', 'P0120', 'P0174', 'P0447', 'P0119', 'P0353', 'P0231', 'P0427', 'P0327', 'P0465', 'P0199', 'P0062', 'P0089', 'P0483', 'P0241', 'P0323', 'P0265', 'P0290', 'P0131', 'P0100', 'P0201', 'P0077', 'P0148', 'P0384', 'P0166', 'P0142', 'P0090', 'P0050', 'P0368', 'P0372', 'P0436', 'P0311', 'P0015', 'P0415', 'P0478', 'P0187', 'P0382', 'P0072', 'P0268', 'P0263', 'P0371', 'P0242', 'P0266', 'P0301', 'P0277', 'P0307', 'P0222', 'P0088', 'P0163', 'P0411', 'P0367', 'P0074', 'P0251', 'P0092', 'P0410', 'P0261', 'P0397', 'P0430', 'P0017', 'P0401', 'P0058', 'P0385', 'P0460', 'P0438', 'P0209', 'P0192', 'P0496', 'P0070', 'P0306', 'P0355', 'P0339', 'P0302', 'P0360', 'P0060', 'P0212', 'P0188', 'P0394', 'P0189', 'P0245', 'P0164', 'P0349', 'P0012', 'P0190', 'P0364', 'P0468', 'P0073', 'P0273', 'P0186', 'P0445', 'P0123', 'P0215', 'P0054', 'P0080', 'P0038', 'P0238', 'P0288', 'P0235', 'P0208', 'P0243', 'P0002', 'P0379', 'P0272', 'P0262', 'P0202', 'P0299', 'P0079', 'P0181', 'P0141', 'P0421', 'P0214', 'P0331', 'P0495', 'P0492', 'P0013', 'P0195', 'P0457', 'P0029', 'P0377', 'P0098', 'P0046', 'P0219', 'P0068', 'P0400', 'P0294', 'P0247', 'P0118', 'P0003', 'P0378', 'P0375', 'P0147', 'P0342', 'P0391', 'P0284', 'P0414', 'P0304', 'P0023', 'P0173', 'P0172', 'P0103', 'P0126', 'P0448', 'P0332', 'P0479', 'P0025', 'P0162', 'P0413', 'P0393', 'P0322', 'P0084', 'P0121', 'P0039', 'P0221', 'P0325', 'P0403', 'P0358', 'P0330', 'P0449', 'P0437', 'P0267', 'P0113']\n",
      "['P0392', 'P0387', 'P0117']\n",
      "['P0229']\n"
     ]
    },
    {
     "data": {
      "text/html": [
       "<div>\n",
       "<style scoped>\n",
       "    .dataframe tbody tr th:only-of-type {\n",
       "        vertical-align: middle;\n",
       "    }\n",
       "\n",
       "    .dataframe tbody tr th {\n",
       "        vertical-align: top;\n",
       "    }\n",
       "\n",
       "    .dataframe thead th {\n",
       "        text-align: right;\n",
       "    }\n",
       "</style>\n",
       "<table border=\"1\" class=\"dataframe\">\n",
       "  <thead>\n",
       "    <tr style=\"text-align: right;\">\n",
       "      <th></th>\n",
       "    </tr>\n",
       "  </thead>\n",
       "  <tbody>\n",
       "  </tbody>\n",
       "</table>\n",
       "</div>"
      ],
      "text/plain": [
       "Empty DataFrame\n",
       "Columns: []\n",
       "Index: []"
      ]
     },
     "execution_count": 22,
     "metadata": {},
     "output_type": "execute_result"
    }
   ],
   "source": [
    "detect_clusters(df)"
   ]
  },
  {
   "cell_type": "code",
   "execution_count": 17,
   "metadata": {},
   "outputs": [],
   "source": [
    "import plotly.express as px\n",
    "import plotly.graph_objects as go\n",
    "\n",
    "def plot_cluster_timeline(cluster_df):\n",
    "    infection = cluster_df['infection'].iloc[0]\n",
    "    location = cluster_df['location'].iloc[0]\n",
    "    cluster_id = cluster_df['cluster_id'].iloc[0]\n",
    "\n",
    "    cluster_df = cluster_df.sort_values(\"ward_in_time\")\n",
    "\n",
    "    fig = px.timeline(\n",
    "        cluster_df,\n",
    "        x_start=\"ward_in_time\",\n",
    "        x_end=\"ward_out_time\",\n",
    "        y=\"patient_id\",\n",
    "        color=\"patient_id\",\n",
    "        title=f\"{infection} | {location} | {cluster_id}\",\n",
    "    )\n",
    "\n",
    "    fig.update_yaxes(autorange=\"reversed\")\n",
    "\n",
    "    # Add collection_date dots\n",
    "    for _, row in cluster_df.iterrows():\n",
    "        fig.add_trace(go.Scatter(\n",
    "            x=[row['collection_date']],\n",
    "            y=[row['patient_id']],\n",
    "            mode='markers',\n",
    "            marker=dict(color='red', size=10),\n",
    "            name='Positive Test',\n",
    "            showlegend=False\n",
    "        ))\n",
    "\n",
    "    fig.update_layout(\n",
    "        xaxis_title=\"Date\",\n",
    "        yaxis_title=\"Patient\",\n",
    "        height=400 + 40 * len(cluster_df),\n",
    "    )\n",
    "\n",
    "    fig.show()"
   ]
  },
  {
   "cell_type": "code",
   "execution_count": 21,
   "metadata": {
    "tags": []
   },
   "outputs": [
    {
     "name": "stdout",
     "output_type": "stream",
     "text": [
      "['P0270', 'P0178', 'P0309', 'P0233', 'P0194', 'P0490', 'P0386', 'P0381', 'P0111', 'P0139', 'P0451', 'P0036', 'P0316', 'P0226', 'P0313', 'P0028', 'P0439', 'P0462', 'P0223', 'P0133', 'P0249', 'P0106', 'P0498', 'P0193', 'P0151', 'P0259', 'P0109', 'P0152', 'P0167', 'P0405', 'P0137', 'P0456', 'P0493', 'P0308', 'P0366', 'P0369', 'P0497', 'P0094', 'P0488', 'P0482', 'P0453', 'P0285', 'P0395', 'P0168', 'P0040', 'P0406', 'P0466', 'P0416', 'P0484', 'P0455', 'P0264', 'P0095', 'P0347', 'P0081', 'P0076', 'P0321', 'P0175', 'P0086', 'P0004', 'P0346', 'P0047', 'P0244', 'P0283', 'P0135', 'P0115', 'P0184', 'P0059', 'P0423', 'P0434', 'P0049', 'P0481', 'P0315', 'P0252', 'P0480', 'P0170', 'P0499', 'P0018', 'P0234', 'P0220', 'P0205', 'P0402', 'P0354', 'P0362', 'P0428', 'P0279', 'P0380', 'P0388', 'P0255', 'P0408', 'P0489', 'P0412', 'P0370', 'P0037', 'P0101', 'P0350', 'P0232', 'P0104', 'P0407', 'P0383', 'P0011', 'P0107', 'P0328', 'P0250', 'P0292', 'P0216', 'P0318', 'P0001', 'P0204', 'P0200', 'P0211', 'P0431', 'P0010', 'P0450', 'P0140', 'P0048', 'P0043', 'P0444', 'P0300', 'P0053', 'P0217', 'P0475', 'P0237', 'P0158', 'P0183', 'P0477', 'P0463', 'P0108', 'P0376', 'P0120', 'P0174', 'P0447', 'P0119', 'P0353', 'P0231', 'P0427', 'P0327', 'P0465', 'P0199', 'P0062', 'P0089', 'P0483', 'P0241', 'P0323', 'P0265', 'P0290', 'P0131', 'P0100', 'P0201', 'P0077', 'P0148', 'P0384', 'P0166', 'P0142', 'P0090', 'P0050', 'P0368', 'P0372', 'P0436', 'P0311', 'P0015', 'P0415', 'P0478', 'P0187', 'P0382', 'P0072', 'P0268', 'P0263', 'P0371', 'P0242', 'P0266', 'P0301', 'P0277', 'P0307', 'P0222', 'P0088', 'P0163', 'P0411', 'P0367', 'P0074', 'P0251', 'P0092', 'P0410', 'P0261', 'P0397', 'P0430', 'P0017', 'P0401', 'P0058', 'P0385', 'P0460', 'P0438', 'P0209', 'P0192', 'P0496', 'P0070', 'P0306', 'P0355', 'P0339', 'P0302', 'P0360', 'P0060', 'P0212', 'P0188', 'P0394', 'P0189', 'P0245', 'P0164', 'P0349', 'P0012', 'P0190', 'P0364', 'P0468', 'P0073', 'P0273', 'P0186', 'P0445', 'P0123', 'P0215', 'P0054', 'P0080', 'P0038', 'P0238', 'P0288', 'P0235', 'P0208', 'P0243', 'P0002', 'P0379', 'P0272', 'P0262', 'P0202', 'P0299', 'P0079', 'P0181', 'P0141', 'P0421', 'P0214', 'P0331', 'P0495', 'P0492', 'P0013', 'P0195', 'P0457', 'P0029', 'P0377', 'P0098', 'P0046', 'P0219', 'P0068', 'P0400', 'P0294', 'P0247', 'P0118', 'P0003', 'P0378', 'P0375', 'P0147', 'P0342', 'P0391', 'P0284', 'P0414', 'P0304', 'P0023', 'P0173', 'P0172', 'P0103', 'P0126', 'P0448', 'P0332', 'P0479', 'P0025', 'P0162', 'P0413', 'P0393', 'P0322', 'P0084', 'P0121', 'P0039', 'P0221', 'P0325', 'P0403', 'P0358', 'P0330', 'P0449', 'P0437', 'P0267', 'P0113']\n",
      "['P0392', 'P0387', 'P0117']\n",
      "['P0229']\n"
     ]
    },
    {
     "ename": "KeyError",
     "evalue": "'cluster_id'",
     "output_type": "error",
     "traceback": [
      "\u001b[0;31m---------------------------------------------------------------------------\u001b[0m",
      "\u001b[0;31mKeyError\u001b[0m                                  Traceback (most recent call last)",
      "\u001b[0;32m~/repos/infection-cluster-detection/venv/lib/python3.7/site-packages/pandas/core/indexes/base.py\u001b[0m in \u001b[0;36mget_loc\u001b[0;34m(self, key, method, tolerance)\u001b[0m\n\u001b[1;32m   3360\u001b[0m             \u001b[0;32mtry\u001b[0m\u001b[0;34m:\u001b[0m\u001b[0;34m\u001b[0m\u001b[0;34m\u001b[0m\u001b[0m\n\u001b[0;32m-> 3361\u001b[0;31m                 \u001b[0;32mreturn\u001b[0m \u001b[0mself\u001b[0m\u001b[0;34m.\u001b[0m\u001b[0m_engine\u001b[0m\u001b[0;34m.\u001b[0m\u001b[0mget_loc\u001b[0m\u001b[0;34m(\u001b[0m\u001b[0mcasted_key\u001b[0m\u001b[0;34m)\u001b[0m\u001b[0;34m\u001b[0m\u001b[0;34m\u001b[0m\u001b[0m\n\u001b[0m\u001b[1;32m   3362\u001b[0m             \u001b[0;32mexcept\u001b[0m \u001b[0mKeyError\u001b[0m \u001b[0;32mas\u001b[0m \u001b[0merr\u001b[0m\u001b[0;34m:\u001b[0m\u001b[0;34m\u001b[0m\u001b[0;34m\u001b[0m\u001b[0m\n",
      "\u001b[0;32m~/repos/infection-cluster-detection/venv/lib/python3.7/site-packages/pandas/_libs/index.pyx\u001b[0m in \u001b[0;36mpandas._libs.index.IndexEngine.get_loc\u001b[0;34m()\u001b[0m\n",
      "\u001b[0;32m~/repos/infection-cluster-detection/venv/lib/python3.7/site-packages/pandas/_libs/index.pyx\u001b[0m in \u001b[0;36mpandas._libs.index.IndexEngine.get_loc\u001b[0;34m()\u001b[0m\n",
      "\u001b[0;32mpandas/_libs/hashtable_class_helper.pxi\u001b[0m in \u001b[0;36mpandas._libs.hashtable.PyObjectHashTable.get_item\u001b[0;34m()\u001b[0m\n",
      "\u001b[0;32mpandas/_libs/hashtable_class_helper.pxi\u001b[0m in \u001b[0;36mpandas._libs.hashtable.PyObjectHashTable.get_item\u001b[0;34m()\u001b[0m\n",
      "\u001b[0;31mKeyError\u001b[0m: 'cluster_id'",
      "\nThe above exception was the direct cause of the following exception:\n",
      "\u001b[0;31mKeyError\u001b[0m                                  Traceback (most recent call last)",
      "\u001b[0;32m/var/folders/xc/2218gnqs1vn1fylqm5rsvy_r0000gn/T/ipykernel_53677/3470577281.py\u001b[0m in \u001b[0;36m<module>\u001b[0;34m\u001b[0m\n\u001b[1;32m      2\u001b[0m \u001b[0;34m\u001b[0m\u001b[0m\n\u001b[1;32m      3\u001b[0m \u001b[0;31m# Loop through each cluster and plot\u001b[0m\u001b[0;34m\u001b[0m\u001b[0;34m\u001b[0m\u001b[0;34m\u001b[0m\u001b[0m\n\u001b[0;32m----> 4\u001b[0;31m \u001b[0;32mfor\u001b[0m \u001b[0mcluster_id\u001b[0m \u001b[0;32min\u001b[0m \u001b[0mclustered_df\u001b[0m\u001b[0;34m[\u001b[0m\u001b[0;34m'cluster_id'\u001b[0m\u001b[0;34m]\u001b[0m\u001b[0;34m.\u001b[0m\u001b[0munique\u001b[0m\u001b[0;34m(\u001b[0m\u001b[0;34m)\u001b[0m\u001b[0;34m:\u001b[0m\u001b[0;34m\u001b[0m\u001b[0;34m\u001b[0m\u001b[0m\n\u001b[0m\u001b[1;32m      5\u001b[0m     \u001b[0mcluster\u001b[0m \u001b[0;34m=\u001b[0m \u001b[0mclustered_df\u001b[0m\u001b[0;34m[\u001b[0m\u001b[0mclustered_df\u001b[0m\u001b[0;34m[\u001b[0m\u001b[0;34m'cluster_id'\u001b[0m\u001b[0;34m]\u001b[0m \u001b[0;34m==\u001b[0m \u001b[0mcluster_id\u001b[0m\u001b[0;34m]\u001b[0m\u001b[0;34m\u001b[0m\u001b[0;34m\u001b[0m\u001b[0m\n\u001b[1;32m      6\u001b[0m     \u001b[0mplot_cluster_timeline\u001b[0m\u001b[0;34m(\u001b[0m\u001b[0mcluster\u001b[0m\u001b[0;34m)\u001b[0m\u001b[0;34m\u001b[0m\u001b[0;34m\u001b[0m\u001b[0m\n",
      "\u001b[0;32m~/repos/infection-cluster-detection/venv/lib/python3.7/site-packages/pandas/core/frame.py\u001b[0m in \u001b[0;36m__getitem__\u001b[0;34m(self, key)\u001b[0m\n\u001b[1;32m   3456\u001b[0m             \u001b[0;32mif\u001b[0m \u001b[0mself\u001b[0m\u001b[0;34m.\u001b[0m\u001b[0mcolumns\u001b[0m\u001b[0;34m.\u001b[0m\u001b[0mnlevels\u001b[0m \u001b[0;34m>\u001b[0m \u001b[0;36m1\u001b[0m\u001b[0;34m:\u001b[0m\u001b[0;34m\u001b[0m\u001b[0;34m\u001b[0m\u001b[0m\n\u001b[1;32m   3457\u001b[0m                 \u001b[0;32mreturn\u001b[0m \u001b[0mself\u001b[0m\u001b[0;34m.\u001b[0m\u001b[0m_getitem_multilevel\u001b[0m\u001b[0;34m(\u001b[0m\u001b[0mkey\u001b[0m\u001b[0;34m)\u001b[0m\u001b[0;34m\u001b[0m\u001b[0;34m\u001b[0m\u001b[0m\n\u001b[0;32m-> 3458\u001b[0;31m             \u001b[0mindexer\u001b[0m \u001b[0;34m=\u001b[0m \u001b[0mself\u001b[0m\u001b[0;34m.\u001b[0m\u001b[0mcolumns\u001b[0m\u001b[0;34m.\u001b[0m\u001b[0mget_loc\u001b[0m\u001b[0;34m(\u001b[0m\u001b[0mkey\u001b[0m\u001b[0;34m)\u001b[0m\u001b[0;34m\u001b[0m\u001b[0;34m\u001b[0m\u001b[0m\n\u001b[0m\u001b[1;32m   3459\u001b[0m             \u001b[0;32mif\u001b[0m \u001b[0mis_integer\u001b[0m\u001b[0;34m(\u001b[0m\u001b[0mindexer\u001b[0m\u001b[0;34m)\u001b[0m\u001b[0;34m:\u001b[0m\u001b[0;34m\u001b[0m\u001b[0;34m\u001b[0m\u001b[0m\n\u001b[1;32m   3460\u001b[0m                 \u001b[0mindexer\u001b[0m \u001b[0;34m=\u001b[0m \u001b[0;34m[\u001b[0m\u001b[0mindexer\u001b[0m\u001b[0;34m]\u001b[0m\u001b[0;34m\u001b[0m\u001b[0;34m\u001b[0m\u001b[0m\n",
      "\u001b[0;32m~/repos/infection-cluster-detection/venv/lib/python3.7/site-packages/pandas/core/indexes/base.py\u001b[0m in \u001b[0;36mget_loc\u001b[0;34m(self, key, method, tolerance)\u001b[0m\n\u001b[1;32m   3361\u001b[0m                 \u001b[0;32mreturn\u001b[0m \u001b[0mself\u001b[0m\u001b[0;34m.\u001b[0m\u001b[0m_engine\u001b[0m\u001b[0;34m.\u001b[0m\u001b[0mget_loc\u001b[0m\u001b[0;34m(\u001b[0m\u001b[0mcasted_key\u001b[0m\u001b[0;34m)\u001b[0m\u001b[0;34m\u001b[0m\u001b[0;34m\u001b[0m\u001b[0m\n\u001b[1;32m   3362\u001b[0m             \u001b[0;32mexcept\u001b[0m \u001b[0mKeyError\u001b[0m \u001b[0;32mas\u001b[0m \u001b[0merr\u001b[0m\u001b[0;34m:\u001b[0m\u001b[0;34m\u001b[0m\u001b[0;34m\u001b[0m\u001b[0m\n\u001b[0;32m-> 3363\u001b[0;31m                 \u001b[0;32mraise\u001b[0m \u001b[0mKeyError\u001b[0m\u001b[0;34m(\u001b[0m\u001b[0mkey\u001b[0m\u001b[0;34m)\u001b[0m \u001b[0;32mfrom\u001b[0m \u001b[0merr\u001b[0m\u001b[0;34m\u001b[0m\u001b[0;34m\u001b[0m\u001b[0m\n\u001b[0m\u001b[1;32m   3364\u001b[0m \u001b[0;34m\u001b[0m\u001b[0m\n\u001b[1;32m   3365\u001b[0m         \u001b[0;32mif\u001b[0m \u001b[0mis_scalar\u001b[0m\u001b[0;34m(\u001b[0m\u001b[0mkey\u001b[0m\u001b[0;34m)\u001b[0m \u001b[0;32mand\u001b[0m \u001b[0misna\u001b[0m\u001b[0;34m(\u001b[0m\u001b[0mkey\u001b[0m\u001b[0;34m)\u001b[0m \u001b[0;32mand\u001b[0m \u001b[0;32mnot\u001b[0m \u001b[0mself\u001b[0m\u001b[0;34m.\u001b[0m\u001b[0mhasnans\u001b[0m\u001b[0;34m:\u001b[0m\u001b[0;34m\u001b[0m\u001b[0;34m\u001b[0m\u001b[0m\n",
      "\u001b[0;31mKeyError\u001b[0m: 'cluster_id'"
     ]
    }
   ],
   "source": [
    "clustered_df = detect_clusters(df)\n",
    "\n",
    "# Loop through each cluster and plot\n",
    "for cluster_id in clustered_df['cluster_id'].unique():\n",
    "    cluster = clustered_df[clustered_df['cluster_id'] == cluster_id]\n",
    "    plot_cluster_timeline(cluster)"
   ]
  },
  {
   "cell_type": "code",
   "execution_count": null,
   "metadata": {},
   "outputs": [],
   "source": []
  }
 ],
 "metadata": {
  "kernelspec": {
   "display_name": "Python 3 (ipykernel)",
   "language": "python",
   "name": "python3"
  },
  "language_info": {
   "codemirror_mode": {
    "name": "ipython",
    "version": 3
   },
   "file_extension": ".py",
   "mimetype": "text/x-python",
   "name": "python",
   "nbconvert_exporter": "python",
   "pygments_lexer": "ipython3",
   "version": "3.7.6"
  }
 },
 "nbformat": 4,
 "nbformat_minor": 4
}
